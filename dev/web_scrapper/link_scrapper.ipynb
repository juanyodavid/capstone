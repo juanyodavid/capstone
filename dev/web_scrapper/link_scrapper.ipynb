{
 "cells": [
  {
   "cell_type": "code",
   "execution_count": 1,
   "metadata": {},
   "outputs": [],
   "source": [
    "import pandas as pd\n",
    "import numpy as np\n",
    "import pathlib as pl\n",
    "import sklearn\n",
    "from urllib import error"
   ]
  },
  {
   "cell_type": "code",
   "execution_count": 2,
   "metadata": {},
   "outputs": [],
   "source": [
    "start = 1360\n",
    "end = 1440\n",
    "\n",
    "path = '../../dataset/finRep/SEntFiN-v1.1/SEntFiN-v1.1.csv'\n",
    "\n",
    "df = pd.read_csv(path, encoding = \"ISO-8859-1\")\n",
    "df = df[1000:]"
   ]
  },
  {
   "cell_type": "code",
   "execution_count": 3,
   "metadata": {},
   "outputs": [
    {
     "name": "stderr",
     "output_type": "stream",
     "text": [
      "C:\\Users\\Rolando\\AppData\\Roaming\\Python\\Python37\\site-packages\\ipykernel_launcher.py:6: SettingWithCopyWarning: \n",
      "A value is trying to be set on a copy of a slice from a DataFrame\n",
      "\n",
      "See the caveats in the documentation: https://pandas.pydata.org/pandas-docs/stable/user_guide/indexing.html#returning-a-view-versus-a-copy\n",
      "  \n"
     ]
    },
    {
     "data": {
      "text/plain": [
       "2718"
      ]
     },
     "execution_count": 3,
     "metadata": {},
     "output_type": "execute_result"
    }
   ],
   "source": [
    "import ast\n",
    "df = df.reset_index(drop=True)\n",
    "to_drop = []\n",
    "for i in range(len(df.index)):\n",
    "    aux = ast.literal_eval(df.iloc[i]['Decisions'])\n",
    "    df.Decisions[i]= list(aux.values())[0]\n",
    "\n",
    "    if len(aux) > 1: # and len(set(list(aux.values()))) > 1\n",
    "        to_drop.append(i)\n",
    "\n",
    "df = df.drop(to_drop)\n",
    "df = df.reset_index(drop=True)\n",
    "len(to_drop)"
   ]
  },
  {
   "cell_type": "code",
   "execution_count": 4,
   "metadata": {},
   "outputs": [
    {
     "data": {
      "text/html": [
       "<div>\n",
       "<style scoped>\n",
       "    .dataframe tbody tr th:only-of-type {\n",
       "        vertical-align: middle;\n",
       "    }\n",
       "\n",
       "    .dataframe tbody tr th {\n",
       "        vertical-align: top;\n",
       "    }\n",
       "\n",
       "    .dataframe thead th {\n",
       "        text-align: right;\n",
       "    }\n",
       "</style>\n",
       "<table border=\"1\" class=\"dataframe\">\n",
       "  <thead>\n",
       "    <tr style=\"text-align: right;\">\n",
       "      <th></th>\n",
       "      <th>S No.</th>\n",
       "      <th>Title</th>\n",
       "      <th>Decisions</th>\n",
       "      <th>Words</th>\n",
       "    </tr>\n",
       "  </thead>\n",
       "  <tbody>\n",
       "    <tr>\n",
       "      <th>0</th>\n",
       "      <td>1001</td>\n",
       "      <td>The empire strikes back: Why gold will matter ...</td>\n",
       "      <td>neutral</td>\n",
       "      <td>10</td>\n",
       "    </tr>\n",
       "    <tr>\n",
       "      <th>1</th>\n",
       "      <td>1002</td>\n",
       "      <td>Thyrocare Technologies plans IPO worth up to $...</td>\n",
       "      <td>neutral</td>\n",
       "      <td>10</td>\n",
       "    </tr>\n",
       "    <tr>\n",
       "      <th>2</th>\n",
       "      <td>1003</td>\n",
       "      <td>To help sugar sector, talk of mixing ethanol w...</td>\n",
       "      <td>neutral</td>\n",
       "      <td>10</td>\n",
       "    </tr>\n",
       "    <tr>\n",
       "      <th>3</th>\n",
       "      <td>1004</td>\n",
       "      <td>Top brokers recommend 'subscribe' to Syngene I...</td>\n",
       "      <td>neutral</td>\n",
       "      <td>10</td>\n",
       "    </tr>\n",
       "    <tr>\n",
       "      <th>4</th>\n",
       "      <td>1006</td>\n",
       "      <td>Ujjivan Financial Rs 1,500 crore IPO to hit D-...</td>\n",
       "      <td>neutral</td>\n",
       "      <td>10</td>\n",
       "    </tr>\n",
       "    <tr>\n",
       "      <th>...</th>\n",
       "      <td>...</td>\n",
       "      <td>...</td>\n",
       "      <td>...</td>\n",
       "      <td>...</td>\n",
       "    </tr>\n",
       "    <tr>\n",
       "      <th>7030</th>\n",
       "      <td>10698</td>\n",
       "      <td>Vedanta-Cairn deal may not go through: Ajay Bagga</td>\n",
       "      <td>negative</td>\n",
       "      <td>8</td>\n",
       "    </tr>\n",
       "    <tr>\n",
       "      <th>7031</th>\n",
       "      <td>10701</td>\n",
       "      <td>Wall Street opens flat, S&amp;P 500 near record</td>\n",
       "      <td>neutral</td>\n",
       "      <td>8</td>\n",
       "    </tr>\n",
       "    <tr>\n",
       "      <th>7032</th>\n",
       "      <td>10711</td>\n",
       "      <td>Heard on the street: Dutchman MF, FIIs</td>\n",
       "      <td>neutral</td>\n",
       "      <td>7</td>\n",
       "    </tr>\n",
       "    <tr>\n",
       "      <th>7033</th>\n",
       "      <td>10715</td>\n",
       "      <td>Rebound for Russia and China lifts stocks</td>\n",
       "      <td>positive</td>\n",
       "      <td>7</td>\n",
       "    </tr>\n",
       "    <tr>\n",
       "      <th>7034</th>\n",
       "      <td>10733</td>\n",
       "      <td>Masoor, gram prices weaken on sluggish demand</td>\n",
       "      <td>negative</td>\n",
       "      <td>7</td>\n",
       "    </tr>\n",
       "  </tbody>\n",
       "</table>\n",
       "<p>7035 rows × 4 columns</p>\n",
       "</div>"
      ],
      "text/plain": [
       "      S No.                                              Title Decisions  \\\n",
       "0      1001  The empire strikes back: Why gold will matter ...   neutral   \n",
       "1      1002  Thyrocare Technologies plans IPO worth up to $...   neutral   \n",
       "2      1003  To help sugar sector, talk of mixing ethanol w...   neutral   \n",
       "3      1004  Top brokers recommend 'subscribe' to Syngene I...   neutral   \n",
       "4      1006  Ujjivan Financial Rs 1,500 crore IPO to hit D-...   neutral   \n",
       "...     ...                                                ...       ...   \n",
       "7030  10698  Vedanta-Cairn deal may not go through: Ajay Bagga  negative   \n",
       "7031  10701        Wall Street opens flat, S&P 500 near record   neutral   \n",
       "7032  10711             Heard on the street: Dutchman MF, FIIs   neutral   \n",
       "7033  10715          Rebound for Russia and China lifts stocks  positive   \n",
       "7034  10733      Masoor, gram prices weaken on sluggish demand  negative   \n",
       "\n",
       "      Words  \n",
       "0        10  \n",
       "1        10  \n",
       "2        10  \n",
       "3        10  \n",
       "4        10  \n",
       "...     ...  \n",
       "7030      8  \n",
       "7031      8  \n",
       "7032      7  \n",
       "7033      7  \n",
       "7034      7  \n",
       "\n",
       "[7035 rows x 4 columns]"
      ]
     },
     "execution_count": 4,
     "metadata": {},
     "output_type": "execute_result"
    }
   ],
   "source": [
    "df\n",
    "# df.source.value_counts().sort_values()"
   ]
  },
  {
   "cell_type": "code",
   "execution_count": 5,
   "metadata": {},
   "outputs": [
    {
     "data": {
      "text/html": [
       "<div>\n",
       "<style scoped>\n",
       "    .dataframe tbody tr th:only-of-type {\n",
       "        vertical-align: middle;\n",
       "    }\n",
       "\n",
       "    .dataframe tbody tr th {\n",
       "        vertical-align: top;\n",
       "    }\n",
       "\n",
       "    .dataframe thead th {\n",
       "        text-align: right;\n",
       "    }\n",
       "</style>\n",
       "<table border=\"1\" class=\"dataframe\">\n",
       "  <thead>\n",
       "    <tr style=\"text-align: right;\">\n",
       "      <th></th>\n",
       "      <th>Title</th>\n",
       "      <th>Decisions</th>\n",
       "    </tr>\n",
       "  </thead>\n",
       "  <tbody>\n",
       "    <tr>\n",
       "      <th>0</th>\n",
       "      <td>Buying conviction will come at 4525-4540 level...</td>\n",
       "      <td>positive</td>\n",
       "    </tr>\n",
       "    <tr>\n",
       "      <th>1</th>\n",
       "      <td>Calculus: Refining margins, paradip unit may b...</td>\n",
       "      <td>positive</td>\n",
       "    </tr>\n",
       "    <tr>\n",
       "      <th>2</th>\n",
       "      <td>Calcutta High Court extends status quo on sale...</td>\n",
       "      <td>neutral</td>\n",
       "    </tr>\n",
       "    <tr>\n",
       "      <th>3</th>\n",
       "      <td>Cement companies to benefit from peak construc...</td>\n",
       "      <td>positive</td>\n",
       "    </tr>\n",
       "    <tr>\n",
       "      <th>4</th>\n",
       "      <td>CESC Q2 standalone net profit jumps 25.7% to R...</td>\n",
       "      <td>positive</td>\n",
       "    </tr>\n",
       "    <tr>\n",
       "      <th>...</th>\n",
       "      <td>...</td>\n",
       "      <td>...</td>\n",
       "    </tr>\n",
       "    <tr>\n",
       "      <th>75</th>\n",
       "      <td>Jyothy Labs registers 89.9% jump in net profit...</td>\n",
       "      <td>positive</td>\n",
       "    </tr>\n",
       "    <tr>\n",
       "      <th>76</th>\n",
       "      <td>Jyoti Structures rallies over 13% on order win...</td>\n",
       "      <td>positive</td>\n",
       "    </tr>\n",
       "    <tr>\n",
       "      <th>77</th>\n",
       "      <td>Larsen &amp; Toubro 4Q profit rises 69 per cent; b...</td>\n",
       "      <td>positive</td>\n",
       "    </tr>\n",
       "    <tr>\n",
       "      <th>78</th>\n",
       "      <td>Looking forward to a target of 700 for ENIL: A...</td>\n",
       "      <td>positive</td>\n",
       "    </tr>\n",
       "    <tr>\n",
       "      <th>79</th>\n",
       "      <td>Low oil price, strong rupee to reduce fiscal d...</td>\n",
       "      <td>neutral</td>\n",
       "    </tr>\n",
       "  </tbody>\n",
       "</table>\n",
       "<p>80 rows × 2 columns</p>\n",
       "</div>"
      ],
      "text/plain": [
       "                                                Title Decisions\n",
       "0   Buying conviction will come at 4525-4540 level...  positive\n",
       "1   Calculus: Refining margins, paradip unit may b...  positive\n",
       "2   Calcutta High Court extends status quo on sale...   neutral\n",
       "3   Cement companies to benefit from peak construc...  positive\n",
       "4   CESC Q2 standalone net profit jumps 25.7% to R...  positive\n",
       "..                                                ...       ...\n",
       "75  Jyothy Labs registers 89.9% jump in net profit...  positive\n",
       "76  Jyoti Structures rallies over 13% on order win...  positive\n",
       "77  Larsen & Toubro 4Q profit rises 69 per cent; b...  positive\n",
       "78  Looking forward to a target of 700 for ENIL: A...  positive\n",
       "79  Low oil price, strong rupee to reduce fiscal d...   neutral\n",
       "\n",
       "[80 rows x 2 columns]"
      ]
     },
     "execution_count": 5,
     "metadata": {},
     "output_type": "execute_result"
    }
   ],
   "source": [
    "df = df.drop(df.columns[0], axis=1)\n",
    "df = df.drop(df.columns[2], axis=1)\n",
    "df = df[start:end]\n",
    "df = df.reset_index(drop=True)\n",
    "df"
   ]
  },
  {
   "cell_type": "code",
   "execution_count": 6,
   "metadata": {},
   "outputs": [
    {
     "data": {
      "text/plain": [
       "80"
      ]
     },
     "execution_count": 6,
     "metadata": {},
     "output_type": "execute_result"
    }
   ],
   "source": [
    "titles = df['Title'].values[:end-start]\n",
    "len(titles)"
   ]
  },
  {
   "cell_type": "code",
   "execution_count": 7,
   "metadata": {},
   "outputs": [],
   "source": [
    "try:\n",
    "    from googlesearch import search\n",
    "except ImportError:\n",
    "    print(\"No module named 'google' found\")\n",
    "counter = 0\n",
    "try:\n",
    "    # to search\n",
    "    links = []\n",
    "    for title in titles:\n",
    "        search_result = search(title, tld=\"co.in\", num=5, stop=1, pause=20)\n",
    "        search_result = list(search_result)\n",
    "\n",
    "        if search_result:\n",
    "            for j in search_result:\n",
    "                links.append(j)\n",
    "                counter = counter + 1\n",
    "        else:\n",
    "            links.append('HOLAXD')\n",
    "\n",
    "except error.HTTPError as e:\n",
    "    print(e.info())"
   ]
  },
  {
   "cell_type": "code",
   "execution_count": 8,
   "metadata": {},
   "outputs": [
    {
     "name": "stdout",
     "output_type": "stream",
     "text": [
      "Next time start from:  1360\n"
     ]
    },
    {
     "data": {
      "text/plain": [
       "80"
      ]
     },
     "execution_count": 8,
     "metadata": {},
     "output_type": "execute_result"
    }
   ],
   "source": [
    "print(\"Next time start from: \", counter + start)\n",
    "len(links)"
   ]
  },
  {
   "cell_type": "code",
   "execution_count": 9,
   "metadata": {},
   "outputs": [
    {
     "data": {
      "text/plain": [
       "['https://m.economictimes.com/buying-conviction-will-come-at-4525-4540-levels-on-nifty-vijay-bhambwani/articleshow/11166257.cms',\n",
       " 'https://economictimes.indiatimes.com/topic/GRM/news/10?from=desktop',\n",
       " 'https://indianexpress.com/article/cities/kolkata/hc-extends-status-quo-on-sale-of-hpl-shares/',\n",
       " 'https://m.economictimes.com/markets/stocks/news/cement-companies-to-benefit-from-peak-construction-season-strong-demand/articleshow/12435971.cms',\n",
       " 'https://m.economictimes.com/markets/stocks/earnings/cesc-standalone-q2-net-jumps-25-7-per-cent-to-rs-171-crore/articleshow/25650239.cms',\n",
       " 'https://m.economictimes.com/markets/commodities/chana-price-rises-by-0-38-per-cent-as-demand-picks-up/articleshow/45269675.cms',\n",
       " 'https://m.economictimes.com/markets/stocks/news/chennai-petro-extends-rally-post-q1-results-capex-plans-stock-surges/articleshow/48432279.cms',\n",
       " 'https://economictimes.indiatimes.com/markets/stocks/news/chennai-petro-surges-over-35-in-two-day-on-high-volumes/articleshow/47623765.cms',\n",
       " 'https://www.ft.com/content/8739e5e0-104a-4458-8389-d25c5adc019e',\n",
       " 'https://economictimes.indiatimes.com/topic/cnx-it-index',\n",
       " 'https://m.economictimes.com/markets/stocks/earnings/cognizant-beats-every-estimate-driven-by-revival-of-us-outsourcing-services/articleshow/25278540.cms',\n",
       " 'https://m.economictimes.com/markets/commodities/commexes-turnover-jumps-by-53-pc-in-1st-fortnight-of-april/articleshow/19725408.cms',\n",
       " 'https://m.economictimes.com/markets/commodities/commexes-turnover-jumps-by-54-till-mar-15-of-this-fiscal/articleshow/12427732.cms',\n",
       " 'https://indianexpress.com/article/business/business-others/commodity-market-can-create-additional-5-mn-jobs-in-5-years/',\n",
       " 'https://m.economictimes.com/markets/stocks/earnings/corporation-bank-net-profit-rises-by-21-per-cent-in-q2/articleshow/6786689.cms',\n",
       " 'https://m.economictimes.com/markets/stocks/earnings/cox-kings-q2-net-up-78-69-at-rs-264-crore/articleshow/25770044.cms',\n",
       " 'https://economictimes.indiatimes.com/markets/stocks/news/crisil-shares-hit-52-week-high-as-net-profits-rises-by-38-5/articleshow/21235706.cms?from=mdr',\n",
       " 'https://m.economictimes.com/markets/stocks/recos/cyclicals-will-lead-the-next-phase-of-rally-ashwani-gujral-ashwanigujral-com/articleshow/39355698.cms',\n",
       " 'https://economictimes.indiatimes.com/topic/Dena-Bank-stock/10',\n",
       " 'https://m.economictimes.com/dhanuka-agritech-q4-net-up-26-pc-at-rs-22-46-crore/articleshow/35386429.cms',\n",
       " 'https://economictimes.indiatimes.com/markets/stocks/earnings/dhfl-q4-results-net-profit-rises-to-rs-97-crore/articleshow/83280785.cms',\n",
       " 'https://finance.yahoo.com/news/forex-dovish-fed-hands-euro-091734480.html',\n",
       " 'https://m.economictimes.com/markets/stocks/earnings/drug-major-ranbaxy-beats-expectations-posts-first-profit-in-6-quarters/articleshow/44965672.cms',\n",
       " 'https://m.economictimes.com/markets/stocks/earnings/edelweiss-financial-services-q2-net-up-21-at-rs-96-crore/articleshow/49409597.cms',\n",
       " 'https://m.economictimes.com/markets/stocks/earnings/edserv-q3-net-up-over-two-fold-to-rs-11-54-cr/articleshow/7477119.cms',\n",
       " 'https://m.economictimes.com/markets/stocks/earnings/eichers-profit-jumps-63-pc-to-rs-107-cr-in-july-september/articleshow/25388699.cms',\n",
       " 'https://m.economictimes.com/markets/stocks/recos/escorts-been-trading-up-pretty-well-around-rs-80-ck-narayan/articleshow/21016280.cms',\n",
       " 'https://www.thehindubusinessline.com/markets/essar-ports-gets-shareholders-nod-to-raise-up-to-1-bn/article64343218.ece',\n",
       " 'https://m.economictimes.com/markets/stocks/recos/expected-30-bottom-line-growth-makes-greaves-cotton-attractive-pankaj-pandey/articleshow/50350740.cms',\n",
       " 'https://m.economictimes.com/fetise-com-raises-5-mn-from-seedfund-on-et-nows-super-angels/articleshow/11187215.cms',\n",
       " 'https://m.economictimes.com/markets/stocks/news/fiis-exit-will-not-hurt-nifty-as-retail-investors-take-charge/articleshow/40504754.cms',\n",
       " 'https://m.economictimes.com/finolex-on-a-roll-after-renewing-its-focus-on-pipe-business/articleshow/30757502.cms',\n",
       " 'https://m.economictimes.com/markets/stocks/earnings/firstsource-solutions-q3-net-up-5-pc-to-rs-35-crore/articleshow/7466138.cms',\n",
       " 'https://m.economictimes.com/markets/stocks/recos/fmcgs-to-take-big-hit-from-possible-fii-outflow-ur-bhat/articleshow/26354283.cms',\n",
       " 'https://economictimes.indiatimes.com/foreign-institutional-investors-pump-in-rs-4900-crore-in-indian-stocks/articleshow/33323064.cms',\n",
       " 'https://economictimes.indiatimes.com/markets/stocks/news/gammon-infrastructure-surges-by-10-79-on-bourses-on-rights-issue-plans/articleshow/8361942.cms',\n",
       " 'https://www.ndtv.com/business/geojit-bnp-paribas-q3-net-up-21-per-cent-at-rs-15-75-crore-377793',\n",
       " 'https://wap.business-standard.com/article/companies/gillette-india-q3-net-up-15-at-rs-27-cr-113042500421_1.html',\n",
       " 'https://m.economictimes.com/markets/stocks/earnings/glaxosmithkline-consumer-q2-net-up-29-at-rs-107-crore/articleshow/15314881.cms',\n",
       " 'https://m.economictimes.com/markets/stocks/earnings/glaxosmithkline-fy10-net-profit-up-10-37-pc-to-rs-560-57-cr/articleshow/7495893.cms',\n",
       " 'https://www.cnbc.com/2015/10/05/glencore-shares-surge-in-hk-on-agriculture-asset-sale-hopes.html',\n",
       " 'https://economictimes.indiatimes.com/markets/stocks/earnings/godawari-power-ispat-pellet-sales-mining-key-drivers-for-company/articleshow/15610783.cms',\n",
       " 'https://m.economictimes.com/markets/commodities/gold-climbs-to-two-month-high-on-iraq-to-us-economy-outlook/articleshow/37124502.cms',\n",
       " 'https://www.reuters.com/article/idAFL3N0S324Z20141008',\n",
       " 'https://www.ndtv.com/business/gold-snaps-4-day-falling-trend-on-low-level-buying-global-cues-384067',\n",
       " 'https://m.economictimes.com/goodbye-fy14-sensex-up-19-big-stocks-that-returned-upto-75/articleshow/33020997.cms',\n",
       " 'https://economictimes.indiatimes.com/topic/Ballabgarh/2',\n",
       " 'https://m.economictimes.com/markets/stocks/recos/government-rbi-working-in-tandem-positive-for-banking-sector-dipan-mehta/articleshow/38614603.cms',\n",
       " 'https://m.economictimes.com/markets/stocks/earnings/greenply-industries-q1-net-profit-up-15-at-rs-26-70-crore/articleshow/48082324.cms',\n",
       " 'https://economictimes.indiatimes.com/topic/Discount-broker/4',\n",
       " 'https://m.economictimes.com/markets/stocks/earnings/gsfcs-net-up-over-2-folds-to-rs-207-cr-in-q2/articleshow/6782228.cms',\n",
       " 'https://m.economictimes.com/markets/stocks/earnings/gsk-consumer-healthcare-q2-net-up-9-at-rs-160-29-crore/articleshow/45046700.cms',\n",
       " 'https://m.economictimes.com/markets/stocks/news/gujarat-apollo-hits-upper-circuit-after-jv-announcement/articleshow/94172209.cms',\n",
       " 'https://m.economictimes.com/markets/stocks/earnings/gujarat-pipavav-port-net-doubles-to-rs-89-5-crore-in-july-september/articleshow/45047248.cms',\n",
       " 'https://economictimes.indiatimes.com/markets/stocks/news/gujarat-state-petronet-net-profit-at-rs-159-13-cr-stock-up/articleshow/7474663.cms',\n",
       " 'https://m.economictimes.com/high-on-modi-gujarat-based-stocks-return-upto-170-top-10-bets/articleshow/33602833.cms',\n",
       " 'https://m.economictimes.com/markets/stocks/news/highway-developers-party-on-dull-dalal-street-stocks-have-more-upside/articleshow/49842123.cms',\n",
       " 'https://www.business-standard.com/article/pti-stories/hov-services-shares-up-nearly-6-on-us-unit-merger-114093000946_1.html',\n",
       " 'https://m.economictimes.com/markets/stocks/news/hsil-q3-turnaround-in-building-products-division-may-trigger-a-re-rating/articleshow/45832820.cms',\n",
       " 'https://m.economictimes.com/hul-posts-marginal-rise-in-q3-profit-at-rs-649-crore/articleshow/5506604.cms',\n",
       " 'https://economictimes.indiatimes.com/markets/stocks/news/huls-gains-post-open-offer-pulls-up-other-mnc-fmcg-stocks/articleshow/20928634.cms',\n",
       " 'https://m.economictimes.com/ifci-q3-net-profit-up-30-pc-at-rs-136-35-cr/articleshow/5444550.cms',\n",
       " 'https://m.economictimes.com/markets/stocks/earnings/iifcl-fy11-net-rises-by-61-pc-to-rs-262-28-cr/articleshow/8220522.cms',\n",
       " 'https://m.economictimes.com/markets/stocks/earnings/improved-margins-declining-prices-make-cement-stocks-attractive-motilal-oswal-securities/articleshow/15434733.cms',\n",
       " 'https://m.economictimes.com/markets/stocks/recos/indices-giving-positive-signals-nifty-may-climb-to-8450-ashwani-gujral/articleshow/47457527.cms',\n",
       " 'https://m.economictimes.com/markets/stocks/earnings/insecticides-india-q1-net-profit-up-14-at-rs-19-8-cr/articleshow/48373834.cms',\n",
       " 'https://economictimes.indiatimes.com/interim-budget-impact-markets-get-a-boost-ratings-cut-worry-ebbs/articleshow/30614655.cms?from=mdr',\n",
       " 'https://m.economictimes.com/markets/stocks/recos/investors-should-opt-for-higher-exposure-to-psu-banks-kunj-bansal/articleshow/34523970.cms',\n",
       " 'https://www.business-standard.com/article/companies/ipca-labs-fy11-net-up-28-to-rs-263-cr-111052400218_1.html',\n",
       " 'https://m.economictimes.com/markets/stocks/recos/it-to-find-support-around-9750-9800-on-cnx-it-ashwani-gujral/articleshow/36764489.cms',\n",
       " 'https://m.economictimes.com/markets/stocks/news/ivrcl-rallies-5-as-cdr-approves-rs-7000-crore-debt-recast-proposal/articleshow/37618718.cms',\n",
       " 'https://m.economictimes.com/markets/stocks/news/jk-bank-surges-12-as-110-stock-split-comes-into-effect/articleshow/41684457.cms',\n",
       " 'https://m.economictimes.com/markets/stocks/recos/jack-palmer-case-mildly-positive-for-infosys-visa-issues-weigh-brokerages/articleshow/15584070.cms',\n",
       " 'https://m.economictimes.com/markets/stocks/earnings/jbm-auto-q2-net-profit-up-18-to-rs-18-crore/articleshow/49674060.cms',\n",
       " 'https://economictimes.indiatimes.com/markets/stocks/earnings/jyothy-lab-q2-net-up-54-at-over-rs-38-crore/articleshow/49465555.cms',\n",
       " 'https://timesofindia.indiatimes.com/business/india-business/jyothy-laboratories-registers-89-9-jump-in-net-profit-in-q2-fy15/articleshow/45046083.cms',\n",
       " 'https://m.economictimes.com/markets/stocks/news/jyoti-structures-rallies-over-13-on-order-win-for-transmission-lines/articleshow/46282695.cms',\n",
       " 'https://www.reuters.com/article/india-larsentoubro-results-idINKBN0EA0WE20140530',\n",
       " 'https://m.economictimes.com/markets/stocks/recos/looking-forward-to-a-target-of-700-for-enil-ashwani-gujral/articleshow/45909589.cms',\n",
       " 'https://m.economictimes.com/low-oil-price-strong-rupee-to-reduce-fiscal-deficit-deutsche-bank/articleshow/16540626.cms']"
      ]
     },
     "execution_count": 9,
     "metadata": {},
     "output_type": "execute_result"
    }
   ],
   "source": [
    "links"
   ]
  },
  {
   "cell_type": "code",
   "execution_count": 10,
   "metadata": {},
   "outputs": [
    {
     "data": {
      "text/html": [
       "<div>\n",
       "<style scoped>\n",
       "    .dataframe tbody tr th:only-of-type {\n",
       "        vertical-align: middle;\n",
       "    }\n",
       "\n",
       "    .dataframe tbody tr th {\n",
       "        vertical-align: top;\n",
       "    }\n",
       "\n",
       "    .dataframe thead th {\n",
       "        text-align: right;\n",
       "    }\n",
       "</style>\n",
       "<table border=\"1\" class=\"dataframe\">\n",
       "  <thead>\n",
       "    <tr style=\"text-align: right;\">\n",
       "      <th></th>\n",
       "      <th>Title</th>\n",
       "      <th>Decisions</th>\n",
       "      <th>links</th>\n",
       "    </tr>\n",
       "  </thead>\n",
       "  <tbody>\n",
       "    <tr>\n",
       "      <th>0</th>\n",
       "      <td>Buying conviction will come at 4525-4540 level...</td>\n",
       "      <td>positive</td>\n",
       "      <td>https://m.economictimes.com/buying-conviction-...</td>\n",
       "    </tr>\n",
       "    <tr>\n",
       "      <th>1</th>\n",
       "      <td>Calculus: Refining margins, paradip unit may b...</td>\n",
       "      <td>positive</td>\n",
       "      <td>https://economictimes.indiatimes.com/topic/GRM...</td>\n",
       "    </tr>\n",
       "    <tr>\n",
       "      <th>2</th>\n",
       "      <td>Calcutta High Court extends status quo on sale...</td>\n",
       "      <td>neutral</td>\n",
       "      <td>https://indianexpress.com/article/cities/kolka...</td>\n",
       "    </tr>\n",
       "    <tr>\n",
       "      <th>3</th>\n",
       "      <td>Cement companies to benefit from peak construc...</td>\n",
       "      <td>positive</td>\n",
       "      <td>https://m.economictimes.com/markets/stocks/new...</td>\n",
       "    </tr>\n",
       "    <tr>\n",
       "      <th>4</th>\n",
       "      <td>CESC Q2 standalone net profit jumps 25.7% to R...</td>\n",
       "      <td>positive</td>\n",
       "      <td>https://m.economictimes.com/markets/stocks/ear...</td>\n",
       "    </tr>\n",
       "    <tr>\n",
       "      <th>...</th>\n",
       "      <td>...</td>\n",
       "      <td>...</td>\n",
       "      <td>...</td>\n",
       "    </tr>\n",
       "    <tr>\n",
       "      <th>75</th>\n",
       "      <td>Jyothy Labs registers 89.9% jump in net profit...</td>\n",
       "      <td>positive</td>\n",
       "      <td>https://timesofindia.indiatimes.com/business/i...</td>\n",
       "    </tr>\n",
       "    <tr>\n",
       "      <th>76</th>\n",
       "      <td>Jyoti Structures rallies over 13% on order win...</td>\n",
       "      <td>positive</td>\n",
       "      <td>https://m.economictimes.com/markets/stocks/new...</td>\n",
       "    </tr>\n",
       "    <tr>\n",
       "      <th>77</th>\n",
       "      <td>Larsen &amp; Toubro 4Q profit rises 69 per cent; b...</td>\n",
       "      <td>positive</td>\n",
       "      <td>https://www.reuters.com/article/india-larsento...</td>\n",
       "    </tr>\n",
       "    <tr>\n",
       "      <th>78</th>\n",
       "      <td>Looking forward to a target of 700 for ENIL: A...</td>\n",
       "      <td>positive</td>\n",
       "      <td>https://m.economictimes.com/markets/stocks/rec...</td>\n",
       "    </tr>\n",
       "    <tr>\n",
       "      <th>79</th>\n",
       "      <td>Low oil price, strong rupee to reduce fiscal d...</td>\n",
       "      <td>neutral</td>\n",
       "      <td>https://m.economictimes.com/low-oil-price-stro...</td>\n",
       "    </tr>\n",
       "  </tbody>\n",
       "</table>\n",
       "<p>80 rows × 3 columns</p>\n",
       "</div>"
      ],
      "text/plain": [
       "                                                Title Decisions  \\\n",
       "0   Buying conviction will come at 4525-4540 level...  positive   \n",
       "1   Calculus: Refining margins, paradip unit may b...  positive   \n",
       "2   Calcutta High Court extends status quo on sale...   neutral   \n",
       "3   Cement companies to benefit from peak construc...  positive   \n",
       "4   CESC Q2 standalone net profit jumps 25.7% to R...  positive   \n",
       "..                                                ...       ...   \n",
       "75  Jyothy Labs registers 89.9% jump in net profit...  positive   \n",
       "76  Jyoti Structures rallies over 13% on order win...  positive   \n",
       "77  Larsen & Toubro 4Q profit rises 69 per cent; b...  positive   \n",
       "78  Looking forward to a target of 700 for ENIL: A...  positive   \n",
       "79  Low oil price, strong rupee to reduce fiscal d...   neutral   \n",
       "\n",
       "                                                links  \n",
       "0   https://m.economictimes.com/buying-conviction-...  \n",
       "1   https://economictimes.indiatimes.com/topic/GRM...  \n",
       "2   https://indianexpress.com/article/cities/kolka...  \n",
       "3   https://m.economictimes.com/markets/stocks/new...  \n",
       "4   https://m.economictimes.com/markets/stocks/ear...  \n",
       "..                                                ...  \n",
       "75  https://timesofindia.indiatimes.com/business/i...  \n",
       "76  https://m.economictimes.com/markets/stocks/new...  \n",
       "77  https://www.reuters.com/article/india-larsento...  \n",
       "78  https://m.economictimes.com/markets/stocks/rec...  \n",
       "79  https://m.economictimes.com/low-oil-price-stro...  \n",
       "\n",
       "[80 rows x 3 columns]"
      ]
     },
     "execution_count": 10,
     "metadata": {},
     "output_type": "execute_result"
    }
   ],
   "source": [
    "df['links'] = pd.Series(links)\n",
    "df"
   ]
  },
  {
   "cell_type": "code",
   "execution_count": 11,
   "metadata": {},
   "outputs": [],
   "source": [
    "import os\n",
    "# if file does not exist write header \n",
    "if not os.path.isfile('links_sentfin.csv'):\n",
    "   df.to_csv('links_sentfin.csv', header='column_names', index=False)\n",
    "else: # else it exists so append without writing the header\n",
    "   df.to_csv('links_sentfin.csv', mode='a', header=False, index=False)\n",
    "\n",
    "# df.to_csv(\"file.csv\", encoding='utf-8', index=False)"
   ]
  },
  {
   "cell_type": "markdown",
   "metadata": {},
   "source": [
    "Filter links and restore csv"
   ]
  },
  {
   "cell_type": "code",
   "execution_count": 12,
   "metadata": {},
   "outputs": [],
   "source": [
    "# path = './links_fiqa.csv'\n",
    "\n",
    "# df = pd.read_csv(path, encoding = \"ISO-8859-1\")\n",
    "# df"
   ]
  },
  {
   "cell_type": "code",
   "execution_count": 13,
   "metadata": {},
   "outputs": [],
   "source": [
    "# df = df[~df['links'].str.contains('reuters')]\n",
    "# df"
   ]
  },
  {
   "cell_type": "code",
   "execution_count": 14,
   "metadata": {},
   "outputs": [],
   "source": [
    "# sources = []\n",
    "\n",
    "# from urllib.parse import urlparse\n",
    "\n",
    "# for i in range(len(df.index)):\n",
    "#     domain = urlparse(df['links'][i]).netloc\n",
    "#     sources.append(domain)\n",
    "\n",
    "# df['source'] = pd.Series(sources)"
   ]
  },
  {
   "cell_type": "code",
   "execution_count": 15,
   "metadata": {},
   "outputs": [],
   "source": [
    "# df"
   ]
  },
  {
   "cell_type": "code",
   "execution_count": 16,
   "metadata": {},
   "outputs": [],
   "source": [
    "# import os\n",
    "# # if file does not exist write header \n",
    "# if not os.path.isfile('links_fiqa.csv'):\n",
    "#    df.to_csv('links_fiqa.csv', header='column_names', index=False)\n",
    "# else: # else it exists so append without writing the header\n",
    "#    df.to_csv('links_fiqa.csv', mode='a', header=False, index=False)"
   ]
  },
  {
   "cell_type": "markdown",
   "metadata": {},
   "source": [
    "Reorder columns of df and create final dataset"
   ]
  },
  {
   "cell_type": "code",
   "execution_count": 17,
   "metadata": {},
   "outputs": [],
   "source": [
    "# columns_titles = [\"title\",\"body\", \"links\", \"source\", \"target\", \"sentiment_score\"]\n",
    "# df=df.reindex(columns=columns_titles)\n",
    "# df"
   ]
  }
 ],
 "metadata": {
  "kernelspec": {
   "display_name": "Python 3.7.9 64-bit",
   "language": "python",
   "name": "python3"
  },
  "language_info": {
   "codemirror_mode": {
    "name": "ipython",
    "version": 3
   },
   "file_extension": ".py",
   "mimetype": "text/x-python",
   "name": "python",
   "nbconvert_exporter": "python",
   "pygments_lexer": "ipython3",
   "version": "3.7.9"
  },
  "orig_nbformat": 4,
  "vscode": {
   "interpreter": {
    "hash": "78523145c45833d40afbe49950902184139bffe318f4eab827c9aacbfef7acc1"
   }
  }
 },
 "nbformat": 4,
 "nbformat_minor": 2
}
