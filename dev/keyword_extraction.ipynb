version https://git-lfs.github.com/spec/v1
oid sha256:b358723cf19da1993b1a77f560aaf3f07742c46ee69ce2e146cda0c7e1697df8
size 28209
