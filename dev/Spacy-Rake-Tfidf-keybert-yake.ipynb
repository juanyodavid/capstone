{
 "cells": [
  {
   "cell_type": "code",
   "execution_count": 95,
   "id": "494531e8",
   "metadata": {},
   "outputs": [],
   "source": [
    "import pandas as pd\n",
    "import numpy as np\n",
    "import pathlib as pl\n",
    "# library used for initial visualization\n",
    "# library used for initial visualization\n",
    "import sklearn\n",
    "import pathlib as pl"
   ]
  },
  {
   "cell_type": "code",
   "execution_count": 96,
   "id": "6d47fc1f",
   "metadata": {},
   "outputs": [],
   "source": [
    "path = 'C:/Users/Rolando/Downloads/financialphrases/all-data.csv'\n",
    "\n",
    "df = pd.read_csv(path, encoding = \"ISO-8859-1\", names = ['sentiment', 'sentence'])"
   ]
  },
  {
   "cell_type": "code",
   "execution_count": 97,
   "id": "ada23f6b",
   "metadata": {
    "scrolled": true
   },
   "outputs": [
    {
     "data": {
      "text/html": [
       "<div>\n",
       "<style scoped>\n",
       "    .dataframe tbody tr th:only-of-type {\n",
       "        vertical-align: middle;\n",
       "    }\n",
       "\n",
       "    .dataframe tbody tr th {\n",
       "        vertical-align: top;\n",
       "    }\n",
       "\n",
       "    .dataframe thead th {\n",
       "        text-align: right;\n",
       "    }\n",
       "</style>\n",
       "<table border=\"1\" class=\"dataframe\">\n",
       "  <thead>\n",
       "    <tr style=\"text-align: right;\">\n",
       "      <th></th>\n",
       "      <th>sentiment</th>\n",
       "      <th>sentence</th>\n",
       "    </tr>\n",
       "  </thead>\n",
       "  <tbody>\n",
       "    <tr>\n",
       "      <th>0</th>\n",
       "      <td>neutral</td>\n",
       "      <td>According to Gran , the company has no plans t...</td>\n",
       "    </tr>\n",
       "    <tr>\n",
       "      <th>1</th>\n",
       "      <td>neutral</td>\n",
       "      <td>Technopolis plans to develop in stages an area...</td>\n",
       "    </tr>\n",
       "    <tr>\n",
       "      <th>2</th>\n",
       "      <td>negative</td>\n",
       "      <td>The international electronic industry company ...</td>\n",
       "    </tr>\n",
       "    <tr>\n",
       "      <th>3</th>\n",
       "      <td>positive</td>\n",
       "      <td>With the new production plant the company woul...</td>\n",
       "    </tr>\n",
       "    <tr>\n",
       "      <th>4</th>\n",
       "      <td>positive</td>\n",
       "      <td>According to the company 's updated strategy f...</td>\n",
       "    </tr>\n",
       "    <tr>\n",
       "      <th>...</th>\n",
       "      <td>...</td>\n",
       "      <td>...</td>\n",
       "    </tr>\n",
       "    <tr>\n",
       "      <th>4841</th>\n",
       "      <td>negative</td>\n",
       "      <td>LONDON MarketWatch -- Share prices ended lower...</td>\n",
       "    </tr>\n",
       "    <tr>\n",
       "      <th>4842</th>\n",
       "      <td>neutral</td>\n",
       "      <td>Rinkuskiai 's beer sales fell by 6.5 per cent ...</td>\n",
       "    </tr>\n",
       "    <tr>\n",
       "      <th>4843</th>\n",
       "      <td>negative</td>\n",
       "      <td>Operating profit fell to EUR 35.4 mn from EUR ...</td>\n",
       "    </tr>\n",
       "    <tr>\n",
       "      <th>4844</th>\n",
       "      <td>negative</td>\n",
       "      <td>Net sales of the Paper segment decreased to EU...</td>\n",
       "    </tr>\n",
       "    <tr>\n",
       "      <th>4845</th>\n",
       "      <td>negative</td>\n",
       "      <td>Sales in Finland decreased by 10.5 % in Januar...</td>\n",
       "    </tr>\n",
       "  </tbody>\n",
       "</table>\n",
       "<p>4846 rows × 2 columns</p>\n",
       "</div>"
      ],
      "text/plain": [
       "     sentiment                                           sentence\n",
       "0      neutral  According to Gran , the company has no plans t...\n",
       "1      neutral  Technopolis plans to develop in stages an area...\n",
       "2     negative  The international electronic industry company ...\n",
       "3     positive  With the new production plant the company woul...\n",
       "4     positive  According to the company 's updated strategy f...\n",
       "...        ...                                                ...\n",
       "4841  negative  LONDON MarketWatch -- Share prices ended lower...\n",
       "4842   neutral  Rinkuskiai 's beer sales fell by 6.5 per cent ...\n",
       "4843  negative  Operating profit fell to EUR 35.4 mn from EUR ...\n",
       "4844  negative  Net sales of the Paper segment decreased to EU...\n",
       "4845  negative  Sales in Finland decreased by 10.5 % in Januar...\n",
       "\n",
       "[4846 rows x 2 columns]"
      ]
     },
     "execution_count": 97,
     "metadata": {},
     "output_type": "execute_result"
    }
   ],
   "source": [
    "df"
   ]
  },
  {
   "cell_type": "code",
   "execution_count": 98,
   "id": "b233eb65",
   "metadata": {
    "scrolled": true
   },
   "outputs": [
    {
     "data": {
      "text/plain": [
       "0       According to Gran , the company has no plans t...\n",
       "1       Technopolis plans to develop in stages an area...\n",
       "2       The international electronic industry company ...\n",
       "3       With the new production plant the company woul...\n",
       "4       According to the company 's updated strategy f...\n",
       "                              ...                        \n",
       "4841    LONDON MarketWatch -- Share prices ended lower...\n",
       "4842    Rinkuskiai 's beer sales fell by 6.5 per cent ...\n",
       "4843    Operating profit fell to EUR 35.4 mn from EUR ...\n",
       "4844    Net sales of the Paper segment decreased to EU...\n",
       "4845    Sales in Finland decreased by 10.5 % in Januar...\n",
       "Name: sentence, Length: 4846, dtype: object"
      ]
     },
     "execution_count": 98,
     "metadata": {},
     "output_type": "execute_result"
    }
   ],
   "source": [
    "df['sentence']"
   ]
  },
  {
   "cell_type": "code",
   "execution_count": 99,
   "id": "d642c185",
   "metadata": {},
   "outputs": [],
   "source": [
    "# path = 'C:/Users/Rolando/Downloads/newsTitles/SEntFiN-v1.1.csv'\n",
    "\n",
    "# df = pd.read_csv(path, encoding = \"ISO-8859-1\")"
   ]
  },
  {
   "cell_type": "code",
   "execution_count": 100,
   "id": "6afa3b5c",
   "metadata": {},
   "outputs": [],
   "source": [
    "# df"
   ]
  },
  {
   "cell_type": "code",
   "execution_count": 101,
   "id": "101868f2",
   "metadata": {},
   "outputs": [],
   "source": [
    "# path = 'C:/Users/Rolando/Downloads/newsTitles2/data.csv'\n",
    "\n",
    "# df = pd.read_csv(path, encoding = \"ISO-8859-1\")"
   ]
  },
  {
   "cell_type": "code",
   "execution_count": 102,
   "id": "93d8a2de",
   "metadata": {},
   "outputs": [],
   "source": [
    "# df"
   ]
  },
  {
   "cell_type": "code",
   "execution_count": 103,
   "id": "801583fe",
   "metadata": {},
   "outputs": [],
   "source": [
    "# !pip install -U spacy"
   ]
  },
  {
   "cell_type": "code",
   "execution_count": 104,
   "id": "5450af79",
   "metadata": {},
   "outputs": [],
   "source": [
    "text = df.sample(1)['sentence'].iloc[0]"
   ]
  },
  {
   "cell_type": "markdown",
   "id": "def42574",
   "metadata": {},
   "source": [
    "SPACY"
   ]
  },
  {
   "cell_type": "code",
   "execution_count": 105,
   "id": "de99d732",
   "metadata": {
    "scrolled": true
   },
   "outputs": [
    {
     "name": "stdout",
     "output_type": "stream",
     "text": [
      "(12-month, EUR0, 2004)\n"
     ]
    }
   ],
   "source": [
    "import spacy\n",
    "\n",
    "nlp = spacy.load(\"en_core_web_md\")\n",
    "doc = nlp(text)\n",
    "print(doc.ents)"
   ]
  },
  {
   "cell_type": "markdown",
   "id": "483f23c3",
   "metadata": {},
   "source": [
    "RAKE NLTK"
   ]
  },
  {
   "cell_type": "code",
   "execution_count": 106,
   "id": "dc2dfb70",
   "metadata": {
    "scrolled": true
   },
   "outputs": [
    {
     "name": "stdout",
     "output_type": "stream",
     "text": [
      "['month period decreased', 'turnover decreased', 'operating result', 'profit', 'eur5', 'eur0', 'compared', '6', '4', '2004', '12']\n"
     ]
    }
   ],
   "source": [
    "from rake_nltk import Rake\n",
    "rake_nltk_var = Rake()\n",
    "\n",
    "rake_nltk_var.extract_keywords_from_text(text)\n",
    "keyword_extracted = rake_nltk_var.get_ranked_phrases()\n",
    "print(keyword_extracted)"
   ]
  },
  {
   "cell_type": "markdown",
   "id": "f2646950",
   "metadata": {},
   "source": [
    "TFIDF"
   ]
  },
  {
   "cell_type": "code",
   "execution_count": 107,
   "id": "d043ef4a",
   "metadata": {},
   "outputs": [],
   "source": [
    "import pandas as pd\n",
    "import numpy as np\n",
    "from sklearn.feature_extraction.text import TfidfVectorizer\n",
    "from nltk.corpus import stopwords as sw\n",
    "\n",
    "def train_keyword(data): #SE PUEDE EXTENDER EL DICCIONARIO\n",
    "#     # use stopword to filter words    \n",
    "#     stop = sw.stopwords_key()\n",
    "#     stop = stop.splitlines()\n",
    "#     stop = str(stop)\n",
    "#     stop = stop.translate(str.maketrans('', '', string.punctuation))\n",
    "    stopwords_list = list(sw.words('english'))\n",
    "#     stopwords_list.extend(stop.split())\n",
    "    \n",
    "    # vectorizing the words use tf-idf\n",
    "    vectorizer = TfidfVectorizer(analyzer='word', stop_words=set(stopwords_list), use_idf=True)\n",
    "    vector = vectorizer.fit_transform(data)\n",
    "    \n",
    "    # store to dataframe    \n",
    "    df = pd.DataFrame(vector[0].T.todense(), index=vectorizer.get_feature_names(), columns=[\"vector\"])\n",
    "    df = df.sort_values('vector', ascending=False)\n",
    "    df.reset_index(inplace=True)\n",
    "    df = df.rename(columns = {'index':'keywords'})\n",
    "    df = df[df['vector'] != 0]\n",
    "\n",
    "    return df"
   ]
  },
  {
   "cell_type": "code",
   "execution_count": 108,
   "id": "fb4c6258",
   "metadata": {},
   "outputs": [
    {
     "name": "stdout",
     "output_type": "stream",
     "text": [
      "    keywords    vector\n",
      "0  decreased  0.516398\n",
      "1         12  0.258199\n",
      "2       2004  0.258199\n",
      "3   compared  0.258199\n",
      "4       eur0  0.258199\n",
      "5       eur5  0.258199\n",
      "6      month  0.258199\n",
      "7  operating  0.258199\n",
      "8     period  0.258199\n",
      "9     profit  0.258199\n"
     ]
    }
   ],
   "source": [
    "raw_data = [text]\n",
    "keywords = train_keyword(raw_data)\n",
    "# print top 10 keywords\n",
    "print(keywords.head(10))"
   ]
  },
  {
   "cell_type": "markdown",
   "id": "6520b931",
   "metadata": {},
   "source": [
    "KEYBERT"
   ]
  },
  {
   "cell_type": "code",
   "execution_count": 109,
   "id": "01aff56d",
   "metadata": {},
   "outputs": [],
   "source": [
    "# # Install the libraries\n",
    "# !pip install keybert\n",
    "# !pip install sentence-transformers"
   ]
  },
  {
   "cell_type": "code",
   "execution_count": 110,
   "id": "58444dd9",
   "metadata": {},
   "outputs": [],
   "source": [
    "# Import them\n",
    "from keybert import KeyBERT\n",
    "from sentence_transformers import SentenceTransformer\n",
    "\n",
    "# To show the execution times\n",
    "# !pip install ipython-autotime\n",
    "# %load_ext autotime"
   ]
  },
  {
   "cell_type": "code",
   "execution_count": 111,
   "id": "d8dd3dc7",
   "metadata": {},
   "outputs": [],
   "source": [
    "sent_trans = SentenceTransformer('sentence-transformers/all-mpnet-base-v2')\n",
    "keyBERT_model = KeyBERT(model = sent_trans)"
   ]
  },
  {
   "cell_type": "code",
   "execution_count": 112,
   "id": "2c9e7ce5",
   "metadata": {},
   "outputs": [],
   "source": [
    "def extract_terms(document, n_gram_range = (3,3), \n",
    "                  top_N=5, model=keyBERT_model, diversity_threshold = 0.7):\n",
    "\n",
    "  keywords = model.extract_keywords(document, stop_words='english', \n",
    "                                    keyphrase_ngram_range=(1, 3),\n",
    "                                    use_mmr=True, \n",
    "                                    diversity = diversity_threshold,\n",
    "                                    top_n = top_N)\n",
    "  \n",
    "  return sorted(keywords, key=lambda tup:(-tup[1], tup[0]))"
   ]
  },
  {
   "cell_type": "code",
   "execution_count": 113,
   "id": "ef3ced5e",
   "metadata": {},
   "outputs": [
    {
     "name": "stdout",
     "output_type": "stream",
     "text": [
      "Text: Operating result for the 12-month period decreased from the profit of EUR0 .4 m while turnover decreased from EUR5 .6 m , as compared to 2004 ..\n",
      "Length: 27\n",
      "('turnover decreased eur5', 0.6664)\n",
      "('operating result', 0.4047)\n",
      "('12 month period', 0.1871)\n",
      "('2004', 0.1471)\n",
      "('compared', 0.0327)\n"
     ]
    }
   ],
   "source": [
    "print(f'Text: {text}.\\nLength: {len(text.split())}')\n",
    "best_terms = extract_terms(text)\n",
    "\n",
    "for terms_and_score in best_terms:\n",
    "  print(terms_and_score)"
   ]
  },
  {
   "cell_type": "code",
   "execution_count": 114,
   "id": "6380f2bf",
   "metadata": {},
   "outputs": [],
   "source": [
    "# !pip install git+https://github.com/LIAAD/yake"
   ]
  },
  {
   "cell_type": "code",
   "execution_count": 115,
   "id": "7cfc9f65",
   "metadata": {},
   "outputs": [],
   "source": [
    "import yake"
   ]
  },
  {
   "cell_type": "code",
   "execution_count": 116,
   "id": "a6a83577",
   "metadata": {},
   "outputs": [
    {
     "name": "stdout",
     "output_type": "stream",
     "text": [
      "('Operating result', 0.019943439662486344)\n",
      "('period decreased', 0.021586758591933864)\n",
      "('turnover decreased', 0.03586555834533851)\n",
      "('decreased', 0.09671664173256625)\n",
      "('Operating', 0.10923981997294611)\n",
      "('period', 0.10923981997294611)\n",
      "('result', 0.17899586521379354)\n",
      "('profit', 0.17899586521379354)\n",
      "('turnover', 0.17899586521379354)\n",
      "('compared', 0.17899586521379354)\n"
     ]
    }
   ],
   "source": [
    "kw_extractor = yake.KeywordExtractor()\n",
    "keywords = kw_extractor.extract_keywords(text)\n",
    "\n",
    "for kw in keywords:\n",
    "\tprint(kw)"
   ]
  },
  {
   "cell_type": "code",
   "execution_count": 117,
   "id": "e1083223",
   "metadata": {},
   "outputs": [
    {
     "name": "stdout",
     "output_type": "stream",
     "text": [
      "('Operating result', 0.019943439662486344)\n",
      "('period decreased', 0.021586758591933864)\n",
      "('turnover decreased', 0.03586555834533851)\n",
      "('decreased', 0.09671664173256625)\n",
      "('Operating', 0.10923981997294611)\n",
      "('period', 0.10923981997294611)\n",
      "('result', 0.17899586521379354)\n",
      "('profit', 0.17899586521379354)\n",
      "('turnover', 0.17899586521379354)\n",
      "('compared', 0.17899586521379354)\n"
     ]
    }
   ],
   "source": [
    "language = \"en\"\n",
    "max_ngram_size = 3\n",
    "deduplication_threshold = 0.9\n",
    "deduplication_algo = 'seqm'\n",
    "windowSize = 1\n",
    "numOfKeywords = 20\n",
    "\n",
    "custom_kw_extractor = yake.KeywordExtractor(lan=language, n=max_ngram_size, dedupLim=deduplication_threshold, dedupFunc=deduplication_algo, windowsSize=windowSize, top=numOfKeywords, features=None)\n",
    "keywords = custom_kw_extractor.extract_keywords(text)\n",
    "\n",
    "for kw in keywords:\n",
    "    print(kw)"
   ]
  },
  {
   "cell_type": "code",
   "execution_count": null,
   "id": "d8e7883d",
   "metadata": {},
   "outputs": [],
   "source": []
  }
 ],
 "metadata": {
  "kernelspec": {
   "display_name": "Python 3.9.7 ('base')",
   "language": "python",
   "name": "python3"
  },
  "language_info": {
   "codemirror_mode": {
    "name": "ipython",
    "version": 3
   },
   "file_extension": ".py",
   "mimetype": "text/x-python",
   "name": "python",
   "nbconvert_exporter": "python",
   "pygments_lexer": "ipython3",
   "version": "3.9.7"
  },
  "vscode": {
   "interpreter": {
    "hash": "08ba90eee69f3a77939d4b93a599d928de56855a4df77fff9ebc3dca0b57665a"
   }
  }
 },
 "nbformat": 4,
 "nbformat_minor": 5
}
