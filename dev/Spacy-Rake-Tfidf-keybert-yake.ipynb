{
 "cells": [
  {
   "cell_type": "code",
   "execution_count": 1,
   "id": "494531e8",
   "metadata": {},
   "outputs": [],
   "source": [
    "import pandas as pd\n",
    "import numpy as np\n",
    "import pathlib as pl\n",
    "# library used for initial visualization\n",
    "# library used for initial visualization\n",
    "import sklearn\n",
    "import pathlib as pl"
   ]
  },
  {
   "cell_type": "code",
   "execution_count": 2,
   "id": "6d47fc1f",
   "metadata": {},
   "outputs": [],
   "source": [
    "# path = '../dataset/finRep/FinancialPhraseBank/all-data.csv'\n",
    "\n",
    "# df = pd.read_csv(path, encoding = \"ISO-8859-1\", names = ['sentiment', 'sentence'])\n",
    "# df"
   ]
  },
  {
   "cell_type": "code",
   "execution_count": 3,
   "id": "d642c185",
   "metadata": {},
   "outputs": [],
   "source": [
    "# path = '../dataset/finRep/SEntFiN-v1.1/SEntFiN-v1.1.csv'\n",
    "\n",
    "# df = pd.read_csv(path, encoding = \"ISO-8859-1\")\n",
    "# df"
   ]
  },
  {
   "cell_type": "code",
   "execution_count": 31,
   "id": "101868f2",
   "metadata": {},
   "outputs": [
    {
     "data": {
      "text/html": [
       "<div>\n",
       "<style scoped>\n",
       "    .dataframe tbody tr th:only-of-type {\n",
       "        vertical-align: middle;\n",
       "    }\n",
       "\n",
       "    .dataframe tbody tr th {\n",
       "        vertical-align: top;\n",
       "    }\n",
       "\n",
       "    .dataframe thead th {\n",
       "        text-align: right;\n",
       "    }\n",
       "</style>\n",
       "<table border=\"1\" class=\"dataframe\">\n",
       "  <thead>\n",
       "    <tr style=\"text-align: right;\">\n",
       "      <th></th>\n",
       "      <th>title</th>\n",
       "      <th>body</th>\n",
       "      <th>links</th>\n",
       "      <th>source</th>\n",
       "      <th>target</th>\n",
       "      <th>sentiment_score</th>\n",
       "    </tr>\n",
       "  </thead>\n",
       "  <tbody>\n",
       "    <tr>\n",
       "      <th>0</th>\n",
       "      <td>Dairy Crest loses a third of Morrisons milk co...</td>\n",
       "      <td>(Reuters) - Dairy Crest Group Plc DCG.L lost a...</td>\n",
       "      <td>https://www.reuters.com/article/uk-dairy-crest...</td>\n",
       "      <td>www.reuters.com</td>\n",
       "      <td>Morrisons</td>\n",
       "      <td>-0.161</td>\n",
       "    </tr>\n",
       "    <tr>\n",
       "      <th>1</th>\n",
       "      <td>Pearson expects to return to growth this year</td>\n",
       "      <td>LONDON (Reuters) - Pearson PSON.L said it expe...</td>\n",
       "      <td>https://www.reuters.com/article/uk-pearson-res...</td>\n",
       "      <td>www.reuters.com</td>\n",
       "      <td>Pearson</td>\n",
       "      <td>0.446</td>\n",
       "    </tr>\n",
       "    <tr>\n",
       "      <th>2</th>\n",
       "      <td>FDA approves NPS drug, in move validating Shir...</td>\n",
       "      <td>Jan 23 (Reuters) - The U.S. Food and Drug Admi...</td>\n",
       "      <td>https://www.reuters.com/article/fda-nps-pharma...</td>\n",
       "      <td>www.reuters.com</td>\n",
       "      <td>Shire</td>\n",
       "      <td>0.332</td>\n",
       "    </tr>\n",
       "    <tr>\n",
       "      <th>3</th>\n",
       "      <td>Shire to buy NPS for $5.2 billion to boost rar...</td>\n",
       "      <td>LONDON (Reuters) - Shire Plc has agreed to buy...</td>\n",
       "      <td>https://www.reuters.com/article/us-nps-m-a-shi...</td>\n",
       "      <td>www.reuters.com</td>\n",
       "      <td>Shire</td>\n",
       "      <td>0.235</td>\n",
       "    </tr>\n",
       "    <tr>\n",
       "      <th>4</th>\n",
       "      <td>UPDATE 1-Just the ticket, Trainline shares sur...</td>\n",
       "      <td>* Trainline valued at 1.68 bln pounds in Londo...</td>\n",
       "      <td>https://www.reuters.com/article/trainline-list...</td>\n",
       "      <td>www.reuters.com</td>\n",
       "      <td>Thetrainline.com</td>\n",
       "      <td>0.245</td>\n",
       "    </tr>\n",
       "    <tr>\n",
       "      <th>...</th>\n",
       "      <td>...</td>\n",
       "      <td>...</td>\n",
       "      <td>...</td>\n",
       "      <td>...</td>\n",
       "      <td>...</td>\n",
       "      <td>...</td>\n",
       "    </tr>\n",
       "    <tr>\n",
       "      <th>197</th>\n",
       "      <td>U.K. Stocks Little Changed as Barclays Gain Of...</td>\n",
       "      <td>\\nU.K. stocks were little changed as gains in ...</td>\n",
       "      <td>https://www.bloomberg.com/news/articles/2014-1...</td>\n",
       "      <td>www.bloomberg.com</td>\n",
       "      <td>Shell</td>\n",
       "      <td>-0.508</td>\n",
       "    </tr>\n",
       "    <tr>\n",
       "      <th>198</th>\n",
       "      <td>ShellÂs $70 billion BG deal meets shareholder...</td>\n",
       "      <td>\\nLondon/New Delhi: The biggest deal in Royal ...</td>\n",
       "      <td>https://www.livemint.com/Companies/TyrP7qjLuKn...</td>\n",
       "      <td>www.livemint.com</td>\n",
       "      <td>Shell</td>\n",
       "      <td>-0.345</td>\n",
       "    </tr>\n",
       "    <tr>\n",
       "      <th>199</th>\n",
       "      <td>City spirits sink after Diageo comes up short ...</td>\n",
       "      <td>Hopes of a sales rebound at Diageo at the star...</td>\n",
       "      <td>https://www.independent.co.uk/news/business/ne...</td>\n",
       "      <td>www.independent.co.uk</td>\n",
       "      <td>Diageo</td>\n",
       "      <td>-0.521</td>\n",
       "    </tr>\n",
       "    <tr>\n",
       "      <th>200</th>\n",
       "      <td>Diageo receives reports from United Spirits on...</td>\n",
       "      <td>MUMBAI: British drinks major Diageo Â also th...</td>\n",
       "      <td>https://m.economictimes.com/industry/cons-prod...</td>\n",
       "      <td>m.economictimes.com</td>\n",
       "      <td>Diageo</td>\n",
       "      <td>-0.255</td>\n",
       "    </tr>\n",
       "    <tr>\n",
       "      <th>201</th>\n",
       "      <td>Diageo sales disappoint as currency and compar...</td>\n",
       "      <td>Organic sales from Diageo fell 0.7% in the thi...</td>\n",
       "      <td>https://www.sharecast.com/news/news-and-announ...</td>\n",
       "      <td>www.sharecast.com</td>\n",
       "      <td>Diageo</td>\n",
       "      <td>-0.545</td>\n",
       "    </tr>\n",
       "  </tbody>\n",
       "</table>\n",
       "<p>202 rows × 6 columns</p>\n",
       "</div>"
      ],
      "text/plain": [
       "                                                 title  \\\n",
       "0    Dairy Crest loses a third of Morrisons milk co...   \n",
       "1        Pearson expects to return to growth this year   \n",
       "2    FDA approves NPS drug, in move validating Shir...   \n",
       "3    Shire to buy NPS for $5.2 billion to boost rar...   \n",
       "4    UPDATE 1-Just the ticket, Trainline shares sur...   \n",
       "..                                                 ...   \n",
       "197  U.K. Stocks Little Changed as Barclays Gain Of...   \n",
       "198  ShellÂs $70 billion BG deal meets shareholder...   \n",
       "199  City spirits sink after Diageo comes up short ...   \n",
       "200  Diageo receives reports from United Spirits on...   \n",
       "201  Diageo sales disappoint as currency and compar...   \n",
       "\n",
       "                                                  body  \\\n",
       "0    (Reuters) - Dairy Crest Group Plc DCG.L lost a...   \n",
       "1    LONDON (Reuters) - Pearson PSON.L said it expe...   \n",
       "2    Jan 23 (Reuters) - The U.S. Food and Drug Admi...   \n",
       "3    LONDON (Reuters) - Shire Plc has agreed to buy...   \n",
       "4    * Trainline valued at 1.68 bln pounds in Londo...   \n",
       "..                                                 ...   \n",
       "197  \\nU.K. stocks were little changed as gains in ...   \n",
       "198  \\nLondon/New Delhi: The biggest deal in Royal ...   \n",
       "199  Hopes of a sales rebound at Diageo at the star...   \n",
       "200  MUMBAI: British drinks major Diageo Â also th...   \n",
       "201  Organic sales from Diageo fell 0.7% in the thi...   \n",
       "\n",
       "                                                 links                 source  \\\n",
       "0    https://www.reuters.com/article/uk-dairy-crest...        www.reuters.com   \n",
       "1    https://www.reuters.com/article/uk-pearson-res...        www.reuters.com   \n",
       "2    https://www.reuters.com/article/fda-nps-pharma...        www.reuters.com   \n",
       "3    https://www.reuters.com/article/us-nps-m-a-shi...        www.reuters.com   \n",
       "4    https://www.reuters.com/article/trainline-list...        www.reuters.com   \n",
       "..                                                 ...                    ...   \n",
       "197  https://www.bloomberg.com/news/articles/2014-1...      www.bloomberg.com   \n",
       "198  https://www.livemint.com/Companies/TyrP7qjLuKn...       www.livemint.com   \n",
       "199  https://www.independent.co.uk/news/business/ne...  www.independent.co.uk   \n",
       "200  https://m.economictimes.com/industry/cons-prod...    m.economictimes.com   \n",
       "201  https://www.sharecast.com/news/news-and-announ...      www.sharecast.com   \n",
       "\n",
       "               target  sentiment_score  \n",
       "0           Morrisons           -0.161  \n",
       "1             Pearson            0.446  \n",
       "2               Shire            0.332  \n",
       "3               Shire            0.235  \n",
       "4    Thetrainline.com            0.245  \n",
       "..                ...              ...  \n",
       "197             Shell           -0.508  \n",
       "198             Shell           -0.345  \n",
       "199            Diageo           -0.521  \n",
       "200            Diageo           -0.255  \n",
       "201            Diageo           -0.545  \n",
       "\n",
       "[202 rows x 6 columns]"
      ]
     },
     "execution_count": 31,
     "metadata": {},
     "output_type": "execute_result"
    }
   ],
   "source": [
    "path = '../dataset/finRep/FiQA/fiqa_extended.csv'\n",
    "\n",
    "df = pd.read_csv(path, encoding = \"ISO-8859-1\")\n",
    "df\n",
    "\n",
    "# import json\n",
    "\n",
    "# path = '../dataset/finRep/FiQA/task1_headline_ABSA_train.json'\n",
    "\n",
    "# rows = []\n",
    "# with open(path) as f:\n",
    "#     d = json.load(f)\n",
    "\n",
    "# for key, value in d.items():\n",
    "#     aux = {'sentence': value['sentence'], 'snippets': value['info'][0]['snippets'], 'target': value['info'][0]['target'], \n",
    "#     'sentiment_score': value['info'][0]['sentiment_score'], 'aspects': value['info'][0]['aspects']}\n",
    "#     rows.append(aux)\n",
    "\n",
    "# df = pd.DataFrame(rows, columns=['sentence', 'snippets', 'target', 'sentiment_score', 'aspects'])\n",
    "# df"
   ]
  },
  {
   "cell_type": "code",
   "execution_count": 32,
   "id": "801583fe",
   "metadata": {},
   "outputs": [],
   "source": [
    "# !pip install -U spacy"
   ]
  },
  {
   "cell_type": "code",
   "execution_count": 70,
   "id": "5450af79",
   "metadata": {},
   "outputs": [
    {
     "name": "stdout",
     "output_type": "stream",
     "text": [
      "Primark had a really strong Christmas, according to John Bason, finance director of its owner, Associated British Foods.He revealed that over the 16 weeks to January 3 Primark reported growth in samestore sales in the UK, Ireland and Iberia, even though, like all fashion retailers, it had to cut prices on hats, coats, scarves and gloves in September, October and Novembers unseasonably warm weather.Only around a third of what we sell is seasonally related and in December and after Christmas weve needed no mark downs and sales have been really, really strong, he said.Total Primark sales were up by 15 although they came down to 12 once the weakness of the euro was taken into account.Primarks ability to beat its higherpriced rivals was echoed by other value fashionistas reporting today, with HM saying December sales rose by 15 and Bonmarche reporting a 6.1 increase in likeforlike sales in the five weeks to December 27.Bason also highlighted Primarks French stores which opened for business during the last year and did phenomenally well in their first year.The groups move into the United States is on track, he said, with the first couple of stores due to open before Thanksgiving.ABF said it expects further expansion through 2015 at Primark, which has already added some 500 million square feet of extra selling space since its financial year ended in September and will put on slightly less than that in the rest of this year.Groceries also had a good first quarter with Twinings teas taking extra market share in the UK and internationally.The group has already said operating profits will be lower this year as the threeyear changes to the European sugar market regime finally bed down.That has been exacerbated by the weakness of the euro and lower sugar prices.Despite this, ABF said that the overall fall in profits would be mitigated by lower interest and tax charges.\n"
     ]
    }
   ],
   "source": [
    "import re\n",
    "\n",
    "text = df.sample(1).iloc[0]['body']\n",
    "text = re.sub(r'[^A-Za-z0-9 .,;]+', '', text)\n",
    "text = re.sub(' +', ' ', text)\n",
    "print(text)"
   ]
  },
  {
   "cell_type": "markdown",
   "id": "def42574",
   "metadata": {},
   "source": [
    "SPACY"
   ]
  },
  {
   "cell_type": "code",
   "execution_count": 55,
   "id": "de99d732",
   "metadata": {
    "scrolled": true
   },
   "outputs": [
    {
     "name": "stdout",
     "output_type": "stream",
     "text": [
      "(MUMBAI British, Diageo, United Spirits USL, Monday, three, USL, Vijay Mallya, UB Group, April 25, 2015, USL, Diageo, USL, United Breweries Holdings, Diageo, London, Monday, Diageo, USL, the Securities and Exchange Board of India, USL, India, Monday, Last week, close to Rs 2,000 crore, USL, Diageo, Diageo, 54.8, USL, Mallyas, USL, first, Mallya, Diageo, UBHL, one, USL, UBHL, at least 1,307,950, USL, UBHL, UBHL, USL, at least 1,307,950, USL, UBHL, second, at least 6,539,750, USL, UBHL, USL, Diageo, the Shareholders Agreement, Mallya, USL, UBHL, Mallya, Vijay Mallya, USL, Mallya, Ravi Singhania, Singhania Partners, the Companies Act, Board, the Articles of Association, Sanjay Asher, Crawford Bayley, Diageo)\n"
     ]
    }
   ],
   "source": [
    "import spacy\n",
    "\n",
    "nlp = spacy.load(\"en_core_web_md\")\n",
    "doc = nlp(text)\n",
    "print(doc.ents)"
   ]
  },
  {
   "cell_type": "markdown",
   "id": "483f23c3",
   "metadata": {},
   "source": [
    "RAKE NLTK"
   ]
  },
  {
   "cell_type": "code",
   "execution_count": 56,
   "id": "dc2dfb70",
   "metadata": {
    "scrolled": true
   },
   "outputs": [
    {
     "name": "stdout",
     "output_type": "stream",
     "text": [
      "['various alleged irregular financial transactions involving', 'mumbai british drinks major diageo also', 'law firm crawford bayley said', 'new chairman without going back', 'companys nonexecutive chairman vijay mallya', 'united breweries holdings ubhl', 'received three different reports', 'mallya may become entitled', 'united spirits usl said', 'reported usls intention', 'detailed questionnaire sent', 'ub group entities', 'remove vijay mallya', 'emergency shareholder meeting', 'ubhl groups shareholding', 'pwc forensic audit', 'confidence asked mallya', 'said ravi singhania', 'usl citing loss', 'nominate one director', 'certain contractual obligations', 'support mallyas continuance', '950 usl shares', 'regarding transactions', 'companys books', 'ubhl also', 'also expected', '950 shares', 'remove mallya', 'principal shareholder', 'individual entities', 'current chairman', 'contractual obligations', 'nonexecutive director', 'nonexecutive director', 'nonexecutive director', 'said diageo', 'diageo said', 'diageo said', 'singhania partners', 'singhania added', 'majority shares', '750 shares', 'certain defaults', 'certain defaults', 'certain conditions', 'certain circumstances', 'control ubhl', 'control ubhl', 'vote along', 'senior partner', 'sanjay asher', 'rs 2', 'response till', 'related materials', 'press late', 'parties agreed', 'ordinary resolution', 'managing partner', 'mallya ceases', 'making public', 'least 6', 'least 1', 'least 1', 'last week', 'inquiry report', 'inquiry report', 'good reason', 'give effect', 'found impropriety', 'fallen away', 'existing clause', 'earlier reduction', 'contrarian stand', 'contractually bound', 'conditions described', 'companies act', 'association provide', 'april 25', 'already done', '8 stake', '000 crore', 'parent diageo', 'diageo notes', 'separate agreement', 'usl spokesperson', 'ubhl would', 'shareholders unless', 'various', 'respective rights', 'remains unclear', 'materials provided', 'mallya continuing', 'first time', 'exchange board', 'shareholders agreement', 'shareholders agreement', 'monday edition', 'usl board', 'usl board', 'going', 'usl subject', 'recommendation right', 'said', 'said', 'chairman', 'chairman', 'chairman', 'ubhl', 'ubhl', 'reports', 'reports', 'obligations', 'nominate', 'mallya', 'mallya', 'mallya', 'mallya', 'mallya', 'mallya', 'mallya', 'continuance', 'audit', 'diageo', 'diageo', 'diageo', 'diageo', 'diageo', 'agreement', 'director', 'director', 'director', 'support', 'support', 'usl', 'usl', 'usl', 'usl', 'usl', 'usl', 'usl', 'usl', 'usl', 'usl', 'shareholders', 'shareholders', 'would', 'time', 'rights', 'remains', 'recommendation', 'provided', 'continuing', 'board', 'board', 'board', 'board', 'board', 'monday', 'monday', 'subject', 'subject', 'subject', 'right', 'right', 'right', 'well', 'want', 'violations', 'view', 'use', 'though', 'things', 'talk', 'superseding', 'succeed', 'subsequent', 'step', 'statement', 'statement', 'set', 'securities', 'second', 'say', 'review', 'requesting', 'refused', 'recommend', 'rajani', 'previously', 'present', 'post', 'position', 'per', 'pass', 'owned', 'oust', 'otherwise', 'obliged', 'long', 'london', 'light', 'india', 'india', 'independent', 'indeed', 'however', 'holds', 'holding', 'hold', 'hold', 'goes', 'following', 'following', 'et', 'essential', 'elicit', 'corporate', 'continued', 'continue', 'contents', 'consider', 'company', 'close', 'calling', 'articles', 'approach', 'appoint', 'announcement', 'among', 'amending', 'agreements', 'absence', 'absence', 'able', '54', '539', '307', '307', '2015']\n"
     ]
    }
   ],
   "source": [
    "from rake_nltk import Rake\n",
    "rake_nltk_var = Rake()\n",
    "\n",
    "rake_nltk_var.extract_keywords_from_text(text)\n",
    "keyword_extracted = rake_nltk_var.get_ranked_phrases()\n",
    "print(keyword_extracted)"
   ]
  },
  {
   "cell_type": "markdown",
   "id": "f2646950",
   "metadata": {},
   "source": [
    "TFIDF"
   ]
  },
  {
   "cell_type": "code",
   "execution_count": 57,
   "id": "d043ef4a",
   "metadata": {},
   "outputs": [],
   "source": [
    "import pandas as pd\n",
    "import numpy as np\n",
    "from sklearn.feature_extraction.text import TfidfVectorizer\n",
    "from nltk.corpus import stopwords as sw\n",
    "\n",
    "def train_keyword(data): #SE PUEDE EXTENDER EL DICCIONARIO\n",
    "#     # use stopword to filter words    \n",
    "#     stop = sw.stopwords_key()\n",
    "#     stop = stop.splitlines()\n",
    "#     stop = str(stop)\n",
    "#     stop = stop.translate(str.maketrans('', '', string.punctuation))\n",
    "    stopwords_list = list(sw.words('english'))\n",
    "#     stopwords_list.extend(stop.split())\n",
    "    \n",
    "    # vectorizing the words use tf-idf\n",
    "    vectorizer = TfidfVectorizer(analyzer='word', stop_words=set(stopwords_list), use_idf=True)\n",
    "    vector = vectorizer.fit_transform(data)\n",
    "    \n",
    "    # store to dataframe    \n",
    "    df = pd.DataFrame(vector[0].T.todense(), index=vectorizer.get_feature_names(), columns=[\"vector\"])\n",
    "    df = df.sort_values('vector', ascending=False)\n",
    "    df.reset_index(inplace=True)\n",
    "    df = df.rename(columns = {'index':'keywords'})\n",
    "    df = df[df['vector'] != 0]\n",
    "\n",
    "    return df"
   ]
  },
  {
   "cell_type": "code",
   "execution_count": 58,
   "id": "fb4c6258",
   "metadata": {},
   "outputs": [
    {
     "name": "stdout",
     "output_type": "stream",
     "text": [
      "       keywords    vector\n",
      "0           usl  0.456140\n",
      "1        mallya  0.375644\n",
      "2        diageo  0.295149\n",
      "3          said  0.214654\n",
      "4         board  0.214654\n",
      "5          ubhl  0.214654\n",
      "6      director  0.187822\n",
      "7      chairman  0.160990\n",
      "8       certain  0.134159\n",
      "9  shareholders  0.134159\n"
     ]
    }
   ],
   "source": [
    "raw_data = [text]\n",
    "keywords = train_keyword(raw_data)\n",
    "# print top 10 keywords\n",
    "print(keywords.head(10))"
   ]
  },
  {
   "cell_type": "markdown",
   "id": "6520b931",
   "metadata": {},
   "source": [
    "KEYBERT"
   ]
  },
  {
   "cell_type": "code",
   "execution_count": 85,
   "id": "01aff56d",
   "metadata": {},
   "outputs": [],
   "source": [
    "# # Install the libraries\n",
    "# !pip install keybert\n",
    "# !pip install sentence-transformers"
   ]
  },
  {
   "cell_type": "code",
   "execution_count": 59,
   "id": "58444dd9",
   "metadata": {},
   "outputs": [],
   "source": [
    "# Import them\n",
    "from keybert import KeyBERT\n",
    "from sentence_transformers import SentenceTransformer\n",
    "\n",
    "# To show the execution times\n",
    "# !pip install ipython-autotime\n",
    "# %load_ext autotime"
   ]
  },
  {
   "cell_type": "code",
   "execution_count": 60,
   "id": "d8dd3dc7",
   "metadata": {},
   "outputs": [],
   "source": [
    "sent_trans = SentenceTransformer('sentence-transformers/all-mpnet-base-v2')\n",
    "keyBERT_model = KeyBERT(model = sent_trans)"
   ]
  },
  {
   "cell_type": "code",
   "execution_count": 61,
   "id": "2c9e7ce5",
   "metadata": {},
   "outputs": [],
   "source": [
    "def extract_terms(document, n_gram_range = (3,3), \n",
    "                  top_N=5, model=keyBERT_model, diversity_threshold = 0.7):\n",
    "\n",
    "  keywords = model.extract_keywords(document, stop_words='english', \n",
    "                                    keyphrase_ngram_range=(1, 3),\n",
    "                                    use_mmr=True, \n",
    "                                    diversity = diversity_threshold,\n",
    "                                    top_n = top_N)\n",
    "  \n",
    "  return sorted(keywords, key=lambda tup:(-tup[1], tup[0]))"
   ]
  },
  {
   "cell_type": "code",
   "execution_count": 62,
   "id": "ef3ced5e",
   "metadata": {},
   "outputs": [
    {
     "name": "stdout",
     "output_type": "stream",
     "text": [
      "Text: MUMBAI British drinks major Diageo also the principal shareholder of United Spirits USL said on Monday that it has received three different reports from USL which talk about various alleged irregular financial transactions involving the companys nonexecutive chairman Vijay Mallya, UB Group entities and various other corporate as well as individual entities. Subsequent to its announcement on April 25, 2015, USL has provided its inquiry report and all related materials to Diageo. Diageo notes the recommendation of the USL board and will now consider its position under its agreements with Mallya and United Breweries Holdings UBHL in the light of the inquiry report and materials provided to it, Diageo said in a statement from London. ET, in its Monday edition, had reported USLs intention to present these reports to parent Diageo, requesting it to review its contractual obligations with USL and oust him from his post. It is also expected to approach the Securities and Exchange Board of India with the same set of reports. It remains unclear if it has already done so. A detailed questionnaire sent to a USL spokesperson in India did not elicit any response till the time of going to press late on Monday. Last week, a PwC forensic audit into the companys books had found impropriety and violations, regarding transactions of close to Rs 2,000 crore.Following the audit, the board of USL citing loss of confidence asked Mallya to step down. Mallya has refused to do so and has said Diageo is contractually bound to support and vote along with him. Diageo, which holds a 54.8 stake in USL, said in its statement that it indeed has certain contractual obligations to support Mallyas continuance as nonexecutive director and chairman of USL, subject to certain conditions and in the absence of certain defaults. Making public for the first time the contents of its Shareholders Agreement with Mallya, Diageo said Under the agreement, the parties agreed to use their respective rights as shareholders such that, among other things, UBHL would be able to nominate one director who would be Mallya to the USL board. This right of UBHL is subject to it continuing to hold at least 1,307,950 shares in USL and Mallya continuing to control UBHL. In certain circumstances where Mallya ceases to control UBHL, Mallya may become entitled to succeed to the right to nominate himself as a director of USL subject to his holding at least 1,307,950 USL shares. It goes on to say, Previously, UBHL also had the right to recommend a second, independent, nonexecutive director as long as it continued to hold at least 6,539,750 shares in USL. Following an earlier reduction in the UBHL groups shareholding in USL, this recommendation right has fallen away. To give effect to these rights, Diageo is obliged, under the Shareholders Agreement and a separate agreement with Mallya, to support his continuance as nonexecutive director and chairman of USL. These obligations of Diageo are subject to the conditions described above and the absence of certain defaults by UBHL and Mallya. Only shareholders can remove Vijay Mallya from the board of USL. For Mallya, to continue as chairman, it is essential that he remains a director on the board, said Ravi Singhania, managing partner of Rajani, Singhania Partners. As per the Companies Act, in my view, the Board can appoint a new chairman without going back to the shareholders unless the Articles of Association provide, otherwise, Singhania added. However, in a contrarian stand, Sanjay Asher, Senior Partner of law firm Crawford Bayley said, There has to be good reason why the board is amending the existing clause and superseding the current chairman and director. Though the majority shares are owned by Diageo, the company will have to pass an ordinary resolution after calling for an emergency shareholder meeting if they want to remove Mallya, he said..\n",
      "Length: 640\n",
      "('mallya board usl', 0.6279)\n",
      "('obligations diageo subject', 0.4151)\n",
      "('audit companys books', 0.2646)\n",
      "('breweries', 0.1783)\n",
      "('fallen away effect', -0.0624)\n"
     ]
    }
   ],
   "source": [
    "print(f'Text: {text}.\\nLength: {len(text.split())}')\n",
    "best_terms = extract_terms(text)\n",
    "\n",
    "for terms_and_score in best_terms:\n",
    "  print(terms_and_score)"
   ]
  },
  {
   "cell_type": "code",
   "execution_count": 90,
   "id": "6380f2bf",
   "metadata": {},
   "outputs": [],
   "source": [
    "# !pip install git+https://github.com/LIAAD/yake"
   ]
  },
  {
   "cell_type": "code",
   "execution_count": 64,
   "id": "7cfc9f65",
   "metadata": {},
   "outputs": [],
   "source": [
    "import yake"
   ]
  },
  {
   "cell_type": "code",
   "execution_count": 65,
   "id": "a6a83577",
   "metadata": {},
   "outputs": [
    {
     "name": "stdout",
     "output_type": "stream",
     "text": [
      "('MUMBAI British drinks', 0.0013089056825086776)\n",
      "('United Spirits USL', 0.00213948663438441)\n",
      "('MUMBAI British', 0.004963768258202928)\n",
      "('British drinks major', 0.005100966787312829)\n",
      "('USL', 0.009738460291348899)\n",
      "('Spirits USL', 0.011945290877575164)\n",
      "('United Spirits', 0.012448496803121503)\n",
      "('Mallya', 0.013882468730245161)\n",
      "('drinks major Diageo', 0.01642310415178779)\n",
      "('British drinks', 0.01850866567646092)\n",
      "('Diageo', 0.01960884507622566)\n",
      "('alleged irregular financial', 0.019749695479412216)\n",
      "('United Breweries Holdings', 0.027181943609091697)\n",
      "('USL board', 0.028140018998000057)\n",
      "('UBHL', 0.030255966047201707)\n",
      "('Vijay Mallya', 0.03712098848368239)\n",
      "('Breweries Holdings UBHL', 0.03981963127209311)\n",
      "('board', 0.04022963603449797)\n",
      "('individual entities', 0.045083534935912266)\n",
      "('chairman Vijay Mallya', 0.04586045837353307)\n"
     ]
    }
   ],
   "source": [
    "kw_extractor = yake.KeywordExtractor()\n",
    "keywords = kw_extractor.extract_keywords(text)\n",
    "\n",
    "for kw in keywords:\n",
    "\tprint(kw)"
   ]
  },
  {
   "cell_type": "code",
   "execution_count": 66,
   "id": "e1083223",
   "metadata": {},
   "outputs": [
    {
     "name": "stdout",
     "output_type": "stream",
     "text": [
      "('MUMBAI British drinks', 0.0013089056825086776)\n",
      "('United Spirits USL', 0.00213948663438441)\n",
      "('MUMBAI British', 0.004963768258202928)\n",
      "('British drinks major', 0.005100966787312829)\n",
      "('USL', 0.009738460291348899)\n",
      "('Spirits USL', 0.011945290877575164)\n",
      "('United Spirits', 0.012448496803121503)\n",
      "('Mallya', 0.013882468730245161)\n",
      "('drinks major Diageo', 0.01642310415178779)\n",
      "('British drinks', 0.01850866567646092)\n",
      "('Diageo', 0.01960884507622566)\n",
      "('alleged irregular financial', 0.019749695479412216)\n",
      "('United Breweries Holdings', 0.027181943609091697)\n",
      "('USL board', 0.028140018998000057)\n",
      "('UBHL', 0.030255966047201707)\n",
      "('Vijay Mallya', 0.03712098848368239)\n",
      "('Breweries Holdings UBHL', 0.03981963127209311)\n",
      "('board', 0.04022963603449797)\n",
      "('individual entities', 0.045083534935912266)\n",
      "('chairman Vijay Mallya', 0.04586045837353307)\n"
     ]
    }
   ],
   "source": [
    "language = \"en\"\n",
    "max_ngram_size = 3\n",
    "deduplication_threshold = 0.9\n",
    "deduplication_algo = 'seqm'\n",
    "windowSize = 1\n",
    "numOfKeywords = 20\n",
    "\n",
    "custom_kw_extractor = yake.KeywordExtractor(lan=language, n=max_ngram_size, dedupLim=deduplication_threshold, dedupFunc=deduplication_algo, windowsSize=windowSize, top=numOfKeywords, features=None)\n",
    "keywords = custom_kw_extractor.extract_keywords(text)\n",
    "\n",
    "for kw in keywords:\n",
    "    print(kw)"
   ]
  },
  {
   "cell_type": "code",
   "execution_count": null,
   "id": "d8e7883d",
   "metadata": {},
   "outputs": [],
   "source": []
  }
 ],
 "metadata": {
  "kernelspec": {
   "display_name": "Python 3.9.7 ('base')",
   "language": "python",
   "name": "python3"
  },
  "language_info": {
   "codemirror_mode": {
    "name": "ipython",
    "version": 3
   },
   "file_extension": ".py",
   "mimetype": "text/x-python",
   "name": "python",
   "nbconvert_exporter": "python",
   "pygments_lexer": "ipython3",
   "version": "3.9.7"
  },
  "vscode": {
   "interpreter": {
    "hash": "08ba90eee69f3a77939d4b93a599d928de56855a4df77fff9ebc3dca0b57665a"
   }
  }
 },
 "nbformat": 4,
 "nbformat_minor": 5
}
