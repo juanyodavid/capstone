{
 "cells": [
  {
   "cell_type": "code",
   "execution_count": 61,
   "id": "494531e8",
   "metadata": {},
   "outputs": [],
   "source": [
    "import pandas as pd\n",
    "import numpy as np\n",
    "import pathlib as pl\n",
    "# library used for initial visualization\n",
    "# library used for initial visualization\n",
    "import sklearn\n",
    "import pathlib as pl"
   ]
  },
  {
   "cell_type": "code",
   "execution_count": 62,
   "id": "6d47fc1f",
   "metadata": {},
   "outputs": [
    {
     "data": {
      "text/html": [
       "<div>\n",
       "<style scoped>\n",
       "    .dataframe tbody tr th:only-of-type {\n",
       "        vertical-align: middle;\n",
       "    }\n",
       "\n",
       "    .dataframe tbody tr th {\n",
       "        vertical-align: top;\n",
       "    }\n",
       "\n",
       "    .dataframe thead th {\n",
       "        text-align: right;\n",
       "    }\n",
       "</style>\n",
       "<table border=\"1\" class=\"dataframe\">\n",
       "  <thead>\n",
       "    <tr style=\"text-align: right;\">\n",
       "      <th></th>\n",
       "      <th>sentiment</th>\n",
       "      <th>sentence</th>\n",
       "    </tr>\n",
       "  </thead>\n",
       "  <tbody>\n",
       "    <tr>\n",
       "      <th>0</th>\n",
       "      <td>neutral</td>\n",
       "      <td>According to Gran , the company has no plans t...</td>\n",
       "    </tr>\n",
       "    <tr>\n",
       "      <th>1</th>\n",
       "      <td>neutral</td>\n",
       "      <td>Technopolis plans to develop in stages an area...</td>\n",
       "    </tr>\n",
       "    <tr>\n",
       "      <th>2</th>\n",
       "      <td>negative</td>\n",
       "      <td>The international electronic industry company ...</td>\n",
       "    </tr>\n",
       "    <tr>\n",
       "      <th>3</th>\n",
       "      <td>positive</td>\n",
       "      <td>With the new production plant the company woul...</td>\n",
       "    </tr>\n",
       "    <tr>\n",
       "      <th>4</th>\n",
       "      <td>positive</td>\n",
       "      <td>According to the company 's updated strategy f...</td>\n",
       "    </tr>\n",
       "    <tr>\n",
       "      <th>...</th>\n",
       "      <td>...</td>\n",
       "      <td>...</td>\n",
       "    </tr>\n",
       "    <tr>\n",
       "      <th>4841</th>\n",
       "      <td>negative</td>\n",
       "      <td>LONDON MarketWatch -- Share prices ended lower...</td>\n",
       "    </tr>\n",
       "    <tr>\n",
       "      <th>4842</th>\n",
       "      <td>neutral</td>\n",
       "      <td>Rinkuskiai 's beer sales fell by 6.5 per cent ...</td>\n",
       "    </tr>\n",
       "    <tr>\n",
       "      <th>4843</th>\n",
       "      <td>negative</td>\n",
       "      <td>Operating profit fell to EUR 35.4 mn from EUR ...</td>\n",
       "    </tr>\n",
       "    <tr>\n",
       "      <th>4844</th>\n",
       "      <td>negative</td>\n",
       "      <td>Net sales of the Paper segment decreased to EU...</td>\n",
       "    </tr>\n",
       "    <tr>\n",
       "      <th>4845</th>\n",
       "      <td>negative</td>\n",
       "      <td>Sales in Finland decreased by 10.5 % in Januar...</td>\n",
       "    </tr>\n",
       "  </tbody>\n",
       "</table>\n",
       "<p>4846 rows × 2 columns</p>\n",
       "</div>"
      ],
      "text/plain": [
       "     sentiment                                           sentence\n",
       "0      neutral  According to Gran , the company has no plans t...\n",
       "1      neutral  Technopolis plans to develop in stages an area...\n",
       "2     negative  The international electronic industry company ...\n",
       "3     positive  With the new production plant the company woul...\n",
       "4     positive  According to the company 's updated strategy f...\n",
       "...        ...                                                ...\n",
       "4841  negative  LONDON MarketWatch -- Share prices ended lower...\n",
       "4842   neutral  Rinkuskiai 's beer sales fell by 6.5 per cent ...\n",
       "4843  negative  Operating profit fell to EUR 35.4 mn from EUR ...\n",
       "4844  negative  Net sales of the Paper segment decreased to EU...\n",
       "4845  negative  Sales in Finland decreased by 10.5 % in Januar...\n",
       "\n",
       "[4846 rows x 2 columns]"
      ]
     },
     "execution_count": 62,
     "metadata": {},
     "output_type": "execute_result"
    }
   ],
   "source": [
    "path = '../dataset/finRep/FinancialPhraseBank/all-data.csv'\n",
    "\n",
    "df = pd.read_csv(path, encoding = \"ISO-8859-1\", names = ['sentiment', 'sentence'])\n",
    "df"
   ]
  },
  {
   "cell_type": "code",
   "execution_count": 63,
   "id": "d642c185",
   "metadata": {},
   "outputs": [],
   "source": [
    "# path = '../dataset/finRep/SEntFiN-v1.1/SEntFiN-v1.1.csv'\n",
    "\n",
    "# df = pd.read_csv(path, encoding = \"ISO-8859-1\")\n",
    "# df"
   ]
  },
  {
   "cell_type": "code",
   "execution_count": 64,
   "id": "101868f2",
   "metadata": {},
   "outputs": [],
   "source": [
    "# import json\n",
    "\n",
    "# path = '../dataset/finRep/FiQA/task1_headline_ABSA_train.json'\n",
    "\n",
    "# rows = []\n",
    "# with open(path) as f:\n",
    "#     d = json.load(f)\n",
    "\n",
    "# for key, value in d.items():\n",
    "#     aux = {'sentence': value['sentence'], 'snippets': value['info'][0]['snippets'], 'target': value['info'][0]['target'], \n",
    "#     'sentiment_score': value['info'][0]['sentiment_score'], 'aspects': value['info'][0]['aspects']}\n",
    "#     rows.append(aux)\n",
    "\n",
    "# df = pd.DataFrame(rows, columns=['sentence', 'snippets', 'target', 'sentiment_score', 'aspects'])\n",
    "# df"
   ]
  },
  {
   "cell_type": "code",
   "execution_count": 65,
   "id": "801583fe",
   "metadata": {},
   "outputs": [],
   "source": [
    "# !pip install -U spacy"
   ]
  },
  {
   "cell_type": "code",
   "execution_count": 80,
   "id": "5450af79",
   "metadata": {},
   "outputs": [
    {
     "name": "stdout",
     "output_type": "stream",
     "text": [
      "Expense ratio was 102.6 % compared to 92.9 % in the corresponding period in 2005 .\n"
     ]
    }
   ],
   "source": [
    "text = df.sample(1)['sentence'].iloc[0]\n",
    "print(text)"
   ]
  },
  {
   "cell_type": "markdown",
   "id": "def42574",
   "metadata": {},
   "source": [
    "SPACY"
   ]
  },
  {
   "cell_type": "code",
   "execution_count": 81,
   "id": "de99d732",
   "metadata": {
    "scrolled": true
   },
   "outputs": [
    {
     "name": "stdout",
     "output_type": "stream",
     "text": [
      "(102.6 %, 92.9 %, 2005)\n"
     ]
    }
   ],
   "source": [
    "import spacy\n",
    "\n",
    "nlp = spacy.load(\"en_core_web_md\")\n",
    "doc = nlp(text)\n",
    "print(doc.ents)"
   ]
  },
  {
   "cell_type": "markdown",
   "id": "483f23c3",
   "metadata": {},
   "source": [
    "RAKE NLTK"
   ]
  },
  {
   "cell_type": "code",
   "execution_count": 82,
   "id": "dc2dfb70",
   "metadata": {
    "scrolled": true
   },
   "outputs": [
    {
     "name": "stdout",
     "output_type": "stream",
     "text": [
      "['expense ratio', 'corresponding period', 'compared', '92', '9', '6', '2005', '102']\n"
     ]
    }
   ],
   "source": [
    "from rake_nltk import Rake\n",
    "rake_nltk_var = Rake()\n",
    "\n",
    "rake_nltk_var.extract_keywords_from_text(text)\n",
    "keyword_extracted = rake_nltk_var.get_ranked_phrases()\n",
    "print(keyword_extracted)"
   ]
  },
  {
   "cell_type": "markdown",
   "id": "f2646950",
   "metadata": {},
   "source": [
    "TFIDF"
   ]
  },
  {
   "cell_type": "code",
   "execution_count": 83,
   "id": "d043ef4a",
   "metadata": {},
   "outputs": [],
   "source": [
    "import pandas as pd\n",
    "import numpy as np\n",
    "from sklearn.feature_extraction.text import TfidfVectorizer\n",
    "from nltk.corpus import stopwords as sw\n",
    "\n",
    "def train_keyword(data): #SE PUEDE EXTENDER EL DICCIONARIO\n",
    "#     # use stopword to filter words    \n",
    "#     stop = sw.stopwords_key()\n",
    "#     stop = stop.splitlines()\n",
    "#     stop = str(stop)\n",
    "#     stop = stop.translate(str.maketrans('', '', string.punctuation))\n",
    "    stopwords_list = list(sw.words('english'))\n",
    "#     stopwords_list.extend(stop.split())\n",
    "    \n",
    "    # vectorizing the words use tf-idf\n",
    "    vectorizer = TfidfVectorizer(analyzer='word', stop_words=set(stopwords_list), use_idf=True)\n",
    "    vector = vectorizer.fit_transform(data)\n",
    "    \n",
    "    # store to dataframe    \n",
    "    df = pd.DataFrame(vector[0].T.todense(), index=vectorizer.get_feature_names(), columns=[\"vector\"])\n",
    "    df = df.sort_values('vector', ascending=False)\n",
    "    df.reset_index(inplace=True)\n",
    "    df = df.rename(columns = {'index':'keywords'})\n",
    "    df = df[df['vector'] != 0]\n",
    "\n",
    "    return df"
   ]
  },
  {
   "cell_type": "code",
   "execution_count": 84,
   "id": "fb4c6258",
   "metadata": {},
   "outputs": [
    {
     "name": "stdout",
     "output_type": "stream",
     "text": [
      "        keywords    vector\n",
      "0            102  0.353553\n",
      "1           2005  0.353553\n",
      "2             92  0.353553\n",
      "3       compared  0.353553\n",
      "4  corresponding  0.353553\n",
      "5        expense  0.353553\n",
      "6         period  0.353553\n",
      "7          ratio  0.353553\n"
     ]
    }
   ],
   "source": [
    "raw_data = [text]\n",
    "keywords = train_keyword(raw_data)\n",
    "# print top 10 keywords\n",
    "print(keywords.head(10))"
   ]
  },
  {
   "cell_type": "markdown",
   "id": "6520b931",
   "metadata": {},
   "source": [
    "KEYBERT"
   ]
  },
  {
   "cell_type": "code",
   "execution_count": 85,
   "id": "01aff56d",
   "metadata": {},
   "outputs": [],
   "source": [
    "# # Install the libraries\n",
    "# !pip install keybert\n",
    "# !pip install sentence-transformers"
   ]
  },
  {
   "cell_type": "code",
   "execution_count": 86,
   "id": "58444dd9",
   "metadata": {},
   "outputs": [],
   "source": [
    "# Import them\n",
    "from keybert import KeyBERT\n",
    "from sentence_transformers import SentenceTransformer\n",
    "\n",
    "# To show the execution times\n",
    "# !pip install ipython-autotime\n",
    "# %load_ext autotime"
   ]
  },
  {
   "cell_type": "code",
   "execution_count": 87,
   "id": "d8dd3dc7",
   "metadata": {},
   "outputs": [],
   "source": [
    "sent_trans = SentenceTransformer('sentence-transformers/all-mpnet-base-v2')\n",
    "keyBERT_model = KeyBERT(model = sent_trans)"
   ]
  },
  {
   "cell_type": "code",
   "execution_count": 88,
   "id": "2c9e7ce5",
   "metadata": {},
   "outputs": [],
   "source": [
    "def extract_terms(document, n_gram_range = (3,3), \n",
    "                  top_N=5, model=keyBERT_model, diversity_threshold = 0.7):\n",
    "\n",
    "  keywords = model.extract_keywords(document, stop_words='english', \n",
    "                                    keyphrase_ngram_range=(1, 3),\n",
    "                                    use_mmr=True, \n",
    "                                    diversity = diversity_threshold,\n",
    "                                    top_n = top_N)\n",
    "  \n",
    "  return sorted(keywords, key=lambda tup:(-tup[1], tup[0]))"
   ]
  },
  {
   "cell_type": "code",
   "execution_count": 89,
   "id": "ef3ced5e",
   "metadata": {},
   "outputs": [
    {
     "name": "stdout",
     "output_type": "stream",
     "text": [
      "Text: Expense ratio was 102.6 % compared to 92.9 % in the corresponding period in 2005 ..\n",
      "Length: 16\n",
      "('expense ratio 102', 0.7213)\n",
      "('92', 0.2755)\n",
      "('2005', 0.1734)\n",
      "('compared', 0.1642)\n",
      "('corresponding period', 0.1249)\n"
     ]
    }
   ],
   "source": [
    "print(f'Text: {text}.\\nLength: {len(text.split())}')\n",
    "best_terms = extract_terms(text)\n",
    "\n",
    "for terms_and_score in best_terms:\n",
    "  print(terms_and_score)"
   ]
  },
  {
   "cell_type": "code",
   "execution_count": 90,
   "id": "6380f2bf",
   "metadata": {},
   "outputs": [],
   "source": [
    "# !pip install git+https://github.com/LIAAD/yake"
   ]
  },
  {
   "cell_type": "code",
   "execution_count": 91,
   "id": "7cfc9f65",
   "metadata": {},
   "outputs": [],
   "source": [
    "import yake"
   ]
  },
  {
   "cell_type": "code",
   "execution_count": 92,
   "id": "a6a83577",
   "metadata": {},
   "outputs": [
    {
     "name": "stdout",
     "output_type": "stream",
     "text": [
      "('Expense ratio', 0.015380821171891606)\n",
      "('Expense', 0.09568045026443411)\n",
      "('compared', 0.09568045026443411)\n",
      "('ratio', 0.15831692877998726)\n",
      "('period', 0.15831692877998726)\n"
     ]
    }
   ],
   "source": [
    "kw_extractor = yake.KeywordExtractor()\n",
    "keywords = kw_extractor.extract_keywords(text)\n",
    "\n",
    "for kw in keywords:\n",
    "\tprint(kw)"
   ]
  },
  {
   "cell_type": "code",
   "execution_count": 93,
   "id": "e1083223",
   "metadata": {},
   "outputs": [
    {
     "name": "stdout",
     "output_type": "stream",
     "text": [
      "('Expense ratio', 0.015380821171891606)\n",
      "('Expense', 0.09568045026443411)\n",
      "('compared', 0.09568045026443411)\n",
      "('ratio', 0.15831692877998726)\n",
      "('period', 0.15831692877998726)\n"
     ]
    }
   ],
   "source": [
    "language = \"en\"\n",
    "max_ngram_size = 3\n",
    "deduplication_threshold = 0.9\n",
    "deduplication_algo = 'seqm'\n",
    "windowSize = 1\n",
    "numOfKeywords = 20\n",
    "\n",
    "custom_kw_extractor = yake.KeywordExtractor(lan=language, n=max_ngram_size, dedupLim=deduplication_threshold, dedupFunc=deduplication_algo, windowsSize=windowSize, top=numOfKeywords, features=None)\n",
    "keywords = custom_kw_extractor.extract_keywords(text)\n",
    "\n",
    "for kw in keywords:\n",
    "    print(kw)"
   ]
  },
  {
   "cell_type": "code",
   "execution_count": null,
   "id": "d8e7883d",
   "metadata": {},
   "outputs": [],
   "source": []
  }
 ],
 "metadata": {
  "kernelspec": {
   "display_name": "Python 3.9.7 ('base')",
   "language": "python",
   "name": "python3"
  },
  "language_info": {
   "codemirror_mode": {
    "name": "ipython",
    "version": 3
   },
   "file_extension": ".py",
   "mimetype": "text/x-python",
   "name": "python",
   "nbconvert_exporter": "python",
   "pygments_lexer": "ipython3",
   "version": "3.9.7"
  },
  "vscode": {
   "interpreter": {
    "hash": "08ba90eee69f3a77939d4b93a599d928de56855a4df77fff9ebc3dca0b57665a"
   }
  }
 },
 "nbformat": 4,
 "nbformat_minor": 5
}
