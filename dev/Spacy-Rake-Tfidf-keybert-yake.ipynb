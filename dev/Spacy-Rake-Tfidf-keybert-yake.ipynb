{
 "cells": [
  {
   "cell_type": "code",
   "execution_count": 5,
   "id": "494531e8",
   "metadata": {},
   "outputs": [],
   "source": [
    "import pandas as pd\n",
    "import numpy as np\n",
    "import pathlib as pl\n",
    "# library used for initial visualization\n",
    "# library used for initial visualization\n",
    "import sklearn\n",
    "import pathlib as pl"
   ]
  },
  {
   "cell_type": "code",
   "execution_count": 6,
   "id": "6d47fc1f",
   "metadata": {},
   "outputs": [],
   "source": [
    "# path = '../dataset/finRep/FinancialPhraseBank/all-data.csv'\n",
    "\n",
    "# df = pd.read_csv(path, encoding = \"ISO-8859-1\", names = ['sentiment', 'sentence'])\n",
    "# df"
   ]
  },
  {
   "cell_type": "code",
   "execution_count": 7,
   "id": "d642c185",
   "metadata": {},
   "outputs": [],
   "source": [
    "# path = '../dataset/finRep/SEntFiN-v1.1/SEntFiN-v1.1.csv'\n",
    "\n",
    "# df = pd.read_csv(path, encoding = \"ISO-8859-1\")\n",
    "# df"
   ]
  },
  {
   "cell_type": "code",
   "execution_count": 8,
   "id": "101868f2",
   "metadata": {},
   "outputs": [
    {
     "data": {
      "text/html": [
       "<div>\n",
       "<style scoped>\n",
       "    .dataframe tbody tr th:only-of-type {\n",
       "        vertical-align: middle;\n",
       "    }\n",
       "\n",
       "    .dataframe tbody tr th {\n",
       "        vertical-align: top;\n",
       "    }\n",
       "\n",
       "    .dataframe thead th {\n",
       "        text-align: right;\n",
       "    }\n",
       "</style>\n",
       "<table border=\"1\" class=\"dataframe\">\n",
       "  <thead>\n",
       "    <tr style=\"text-align: right;\">\n",
       "      <th></th>\n",
       "      <th>Title</th>\n",
       "      <th>Decisions</th>\n",
       "      <th>links</th>\n",
       "      <th>source</th>\n",
       "      <th>title</th>\n",
       "      <th>body</th>\n",
       "    </tr>\n",
       "  </thead>\n",
       "  <tbody>\n",
       "    <tr>\n",
       "      <th>0</th>\n",
       "      <td>The empire strikes back: Why gold will matter ...</td>\n",
       "      <td>neutral</td>\n",
       "      <td>https://m.economictimes.com/markets/commoditie...</td>\n",
       "      <td>m.economictimes.com</td>\n",
       "      <td>The empire strikes back: Why gold will matter ...</td>\n",
       "      <td>MUMBAI: The year 2013 was a forgettable one fo...</td>\n",
       "    </tr>\n",
       "    <tr>\n",
       "      <th>1</th>\n",
       "      <td>Top brokers recommend 'subscribe' to Syngene I...</td>\n",
       "      <td>neutral</td>\n",
       "      <td>https://m.economictimes.com/markets/ipos/fpos/...</td>\n",
       "      <td>m.economictimes.com</td>\n",
       "      <td>Top brokers recommend 'subscribe' to Syngene I...</td>\n",
       "      <td>NEW DELHI: Brokerages are advising long-term i...</td>\n",
       "    </tr>\n",
       "    <tr>\n",
       "      <th>2</th>\n",
       "      <td>Ujjivan Financial Rs 1,500 crore IPO to hit D-...</td>\n",
       "      <td>neutral</td>\n",
       "      <td>https://economictimes.indiatimes.com/markets/i...</td>\n",
       "      <td>economictimes.indiatimes.com</td>\n",
       "      <td>Ujjivan Financial's Rs 1,500 crore IPO to hit ...</td>\n",
       "      <td>MUMBAI: Ujjivan Financial will be the first mi...</td>\n",
       "    </tr>\n",
       "    <tr>\n",
       "      <th>3</th>\n",
       "      <td>UTI AMC shortlists 3 names for Chairman and MD...</td>\n",
       "      <td>neutral</td>\n",
       "      <td>https://m.economictimes.com/uti-amc-shortlists...</td>\n",
       "      <td>m.economictimes.com</td>\n",
       "      <td>UTI AMC shortlists 3 names for Chairman and MD...</td>\n",
       "      <td>NEW DELHI: UTI AMC, India's oldest asset manag...</td>\n",
       "    </tr>\n",
       "    <tr>\n",
       "      <th>4</th>\n",
       "      <td>UTI MF appoints Kaeley as group president, sal...</td>\n",
       "      <td>neutral</td>\n",
       "      <td>https://m.economictimes.com/uti-mf-appoints-ka...</td>\n",
       "      <td>m.economictimes.com</td>\n",
       "      <td>UTI MF appoints Kaeley as group president, sal...</td>\n",
       "      <td>MUMBAI: UTI Mutual Fund has appointed Suraj Ka...</td>\n",
       "    </tr>\n",
       "    <tr>\n",
       "      <th>...</th>\n",
       "      <td>...</td>\n",
       "      <td>...</td>\n",
       "      <td>...</td>\n",
       "      <td>...</td>\n",
       "      <td>...</td>\n",
       "      <td>...</td>\n",
       "    </tr>\n",
       "    <tr>\n",
       "      <th>1434</th>\n",
       "      <td>Interim Budget impact: Markets get a boost, ra...</td>\n",
       "      <td>positive</td>\n",
       "      <td>https://economictimes.indiatimes.com/interim-b...</td>\n",
       "      <td>economictimes.indiatimes.com</td>\n",
       "      <td>Interim Budget impact: Markets get a boost, ra...</td>\n",
       "      <td>NEW DELHI: The good thing about the interim Bu...</td>\n",
       "    </tr>\n",
       "    <tr>\n",
       "      <th>1435</th>\n",
       "      <td>Investors should opt for higher exposure to PS...</td>\n",
       "      <td>positive</td>\n",
       "      <td>https://m.economictimes.com/markets/stocks/rec...</td>\n",
       "      <td>m.economictimes.com</td>\n",
       "      <td>Investors should opt for higher exposure to PS...</td>\n",
       "      <td>In a chat with ET Now, Kunj Bansal, ED &amp; CIO, ...</td>\n",
       "    </tr>\n",
       "    <tr>\n",
       "      <th>1436</th>\n",
       "      <td>IT to find support around 9750-9800 on CNX IT:...</td>\n",
       "      <td>neutral</td>\n",
       "      <td>https://m.economictimes.com/markets/stocks/rec...</td>\n",
       "      <td>m.economictimes.com</td>\n",
       "      <td>IT to find support around 9750-9800 on CNX IT:...</td>\n",
       "      <td>In a chat with ET Now, Ashwani Gujral, Fund Ma...</td>\n",
       "    </tr>\n",
       "    <tr>\n",
       "      <th>1437</th>\n",
       "      <td>IVRCL rallies 5% as CDR approves Rs 7,000-cror...</td>\n",
       "      <td>positive</td>\n",
       "      <td>https://m.economictimes.com/markets/stocks/new...</td>\n",
       "      <td>m.economictimes.com</td>\n",
       "      <td>IVRCL rallies 5% as CDR approves Rs 7,000-cror...</td>\n",
       "      <td>NEW DELHI: IVRCL Ltd rose as much as 4.9 per c...</td>\n",
       "    </tr>\n",
       "    <tr>\n",
       "      <th>1438</th>\n",
       "      <td>J&amp;K Bank surges 12% as 1:10 stock split comes ...</td>\n",
       "      <td>positive</td>\n",
       "      <td>https://m.economictimes.com/markets/stocks/new...</td>\n",
       "      <td>m.economictimes.com</td>\n",
       "      <td>J&amp;K Bank surges 12% as 1:10 stock split comes ...</td>\n",
       "      <td>NEW DELHI: Jammu &amp; Kashmir Bank rallied as muc...</td>\n",
       "    </tr>\n",
       "  </tbody>\n",
       "</table>\n",
       "<p>1439 rows × 6 columns</p>\n",
       "</div>"
      ],
      "text/plain": [
       "                                                  Title Decisions  \\\n",
       "0     The empire strikes back: Why gold will matter ...   neutral   \n",
       "1     Top brokers recommend 'subscribe' to Syngene I...   neutral   \n",
       "2     Ujjivan Financial Rs 1,500 crore IPO to hit D-...   neutral   \n",
       "3     UTI AMC shortlists 3 names for Chairman and MD...   neutral   \n",
       "4     UTI MF appoints Kaeley as group president, sal...   neutral   \n",
       "...                                                 ...       ...   \n",
       "1434  Interim Budget impact: Markets get a boost, ra...  positive   \n",
       "1435  Investors should opt for higher exposure to PS...  positive   \n",
       "1436  IT to find support around 9750-9800 on CNX IT:...   neutral   \n",
       "1437  IVRCL rallies 5% as CDR approves Rs 7,000-cror...  positive   \n",
       "1438  J&K Bank surges 12% as 1:10 stock split comes ...  positive   \n",
       "\n",
       "                                                  links  \\\n",
       "0     https://m.economictimes.com/markets/commoditie...   \n",
       "1     https://m.economictimes.com/markets/ipos/fpos/...   \n",
       "2     https://economictimes.indiatimes.com/markets/i...   \n",
       "3     https://m.economictimes.com/uti-amc-shortlists...   \n",
       "4     https://m.economictimes.com/uti-mf-appoints-ka...   \n",
       "...                                                 ...   \n",
       "1434  https://economictimes.indiatimes.com/interim-b...   \n",
       "1435  https://m.economictimes.com/markets/stocks/rec...   \n",
       "1436  https://m.economictimes.com/markets/stocks/rec...   \n",
       "1437  https://m.economictimes.com/markets/stocks/new...   \n",
       "1438  https://m.economictimes.com/markets/stocks/new...   \n",
       "\n",
       "                            source  \\\n",
       "0              m.economictimes.com   \n",
       "1              m.economictimes.com   \n",
       "2     economictimes.indiatimes.com   \n",
       "3              m.economictimes.com   \n",
       "4              m.economictimes.com   \n",
       "...                            ...   \n",
       "1434  economictimes.indiatimes.com   \n",
       "1435           m.economictimes.com   \n",
       "1436           m.economictimes.com   \n",
       "1437           m.economictimes.com   \n",
       "1438           m.economictimes.com   \n",
       "\n",
       "                                                  title  \\\n",
       "0     The empire strikes back: Why gold will matter ...   \n",
       "1     Top brokers recommend 'subscribe' to Syngene I...   \n",
       "2     Ujjivan Financial's Rs 1,500 crore IPO to hit ...   \n",
       "3     UTI AMC shortlists 3 names for Chairman and MD...   \n",
       "4     UTI MF appoints Kaeley as group president, sal...   \n",
       "...                                                 ...   \n",
       "1434  Interim Budget impact: Markets get a boost, ra...   \n",
       "1435  Investors should opt for higher exposure to PS...   \n",
       "1436  IT to find support around 9750-9800 on CNX IT:...   \n",
       "1437  IVRCL rallies 5% as CDR approves Rs 7,000-cror...   \n",
       "1438  J&K Bank surges 12% as 1:10 stock split comes ...   \n",
       "\n",
       "                                                   body  \n",
       "0     MUMBAI: The year 2013 was a forgettable one fo...  \n",
       "1     NEW DELHI: Brokerages are advising long-term i...  \n",
       "2     MUMBAI: Ujjivan Financial will be the first mi...  \n",
       "3     NEW DELHI: UTI AMC, India's oldest asset manag...  \n",
       "4     MUMBAI: UTI Mutual Fund has appointed Suraj Ka...  \n",
       "...                                                 ...  \n",
       "1434  NEW DELHI: The good thing about the interim Bu...  \n",
       "1435  In a chat with ET Now, Kunj Bansal, ED & CIO, ...  \n",
       "1436  In a chat with ET Now, Ashwani Gujral, Fund Ma...  \n",
       "1437  NEW DELHI: IVRCL Ltd rose as much as 4.9 per c...  \n",
       "1438  NEW DELHI: Jammu & Kashmir Bank rallied as muc...  \n",
       "\n",
       "[1439 rows x 6 columns]"
      ]
     },
     "execution_count": 8,
     "metadata": {},
     "output_type": "execute_result"
    }
   ],
   "source": [
    "path = '../dev/web_scrapper/sentfin_extended22.csv'\n",
    "\n",
    "df = pd.read_csv(path, encoding = \"ISO-8859-1\")\n",
    "df"
   ]
  },
  {
   "cell_type": "code",
   "execution_count": 9,
   "id": "b77da7e3",
   "metadata": {},
   "outputs": [
    {
     "data": {
      "text/plain": [
       "<AxesSubplot:>"
      ]
     },
     "execution_count": 9,
     "metadata": {},
     "output_type": "execute_result"
    },
    {
     "data": {
      "image/png": "[encoded data removed]",
      "text/plain": [
       "<Figure size 640x480 with 1 Axes>"
      ]
     },
     "metadata": {},
     "output_type": "display_data"
    }
   ],
   "source": [
    "df.Decisions.value_counts().sort_values().plot(kind = 'barh')"
   ]
  },
  {
   "cell_type": "code",
   "execution_count": 10,
   "id": "801583fe",
   "metadata": {},
   "outputs": [],
   "source": [
    "# !pip install -U spacy"
   ]
  },
  {
   "cell_type": "code",
   "execution_count": 36,
   "id": "5450af79",
   "metadata": {},
   "outputs": [
    {
     "name": "stdout",
     "output_type": "stream",
     "text": [
      "Title:  Force Motors a multibagger in making, says Daljeet Singh Kohli\n",
      "In an chat with ET Now, Daljeet Singh Kohli, Head of Research, IndiaNivesh Ltd, talks about the ongoing rally in the stocks of Force Motors. ET Now Force Motorss management commentary per se has been about cautious optimism ahead of the June quarter numbers, It is true that the company is doing work for two premier MNC car makers and that should augur well for it, but what has driven the stellar move that has happened on the counter, up 30 per cent for the week? Is the market preempting an extremely strong quarter? Daljeet Singh Kohli I would say that the upmove has not been exactly due to likely strong quarterly numbers. It is a very goodquality company that is available to you right now and that at no obscene valuations, in case you compare it with say Eicher or MRF or anything. So people are expecting that this company will ultimately be in that league. For example, at Rs 5,000, Bosch used to look like highly overpriced. But people are still buying the stock. So, Force Motors is a similar kind of story. If you remember, at Rs 550 seveneight months back, we had recommended it in one of our trading calls. At that time, Rs 850 was our target price. We had thought that it will probably run up. But the stock ran up too fast. We then increased out target price for the stock to Rs 1,300. But the story since then has been the same. This company is going to scale up its business to a large extent which is right now in very few numbers, which will become into fivedigit numbers. The company is talking of a total to 20,000 engines, and then increasing it to 50,000. This will mean that this company can multifold in size in next three to five years. All this will be done with very high quality of management. We have never heard anything from that. This is the quality being chased and the expectation that this can be another multibagger like Bosch or Eicher. So those who are holding up the stock should not even think of anything. They should just stick to it. Those who have not bought it will feel that they have been left out at every given price. So, we will rather say that if you have to have it in your portfolio, you should take that plunge, so you should buy. \n",
      "Sentiment:  positive\n"
     ]
    }
   ],
   "source": [
    "import re\n",
    "\n",
    "sample = df.sample(1).iloc[0]\n",
    "title = sample['Title']\n",
    "text = sample['body']\n",
    "sentiment = sample['Decisions']\n",
    "text = re.sub(r'[^A-Za-z0-9 .,;?!]+', '', text)\n",
    "text = re.sub(' +', ' ', text)\n",
    "print('Title: ' ,title)\n",
    "print(text)\n",
    "print('Sentiment: ', sentiment)"
   ]
  },
  {
   "cell_type": "markdown",
   "id": "def42574",
   "metadata": {},
   "source": [
    "SPACY"
   ]
  },
  {
   "cell_type": "code",
   "execution_count": 12,
   "id": "de99d732",
   "metadata": {
    "scrolled": true
   },
   "outputs": [
    {
     "name": "stdout",
     "output_type": "stream",
     "text": [
      "(Nirmal Bang, Mercator Lines, Buy Mercator Lines, 58)\n"
     ]
    }
   ],
   "source": [
    "import spacy\n",
    "\n",
    "nlp = spacy.load(\"en_core_web_md\")\n",
    "doc = nlp(text)\n",
    "print(doc.ents)"
   ]
  },
  {
   "cell_type": "markdown",
   "id": "483f23c3",
   "metadata": {},
   "source": [
    "RAKE NLTK"
   ]
  },
  {
   "cell_type": "code",
   "execution_count": 13,
   "id": "dc2dfb70",
   "metadata": {
    "scrolled": true
   },
   "outputs": [
    {
     "name": "stdout",
     "output_type": "stream",
     "text": [
      "['short term trading perspective keeping', 'mumbai nirmal bang', 'immediate target could', 'huge volumes witnessed', 'buy mercator lines', 'buy mercator lines', 'advised shortterm traders', 'rs 65 70', 'near term', 'rs 58', 'well placed', 'well placed', 'report said', 'moving averages', 'moving averages', 'stoploss', 'stock', 'stock']\n"
     ]
    }
   ],
   "source": [
    "from rake_nltk import Rake\n",
    "rake_nltk_var = Rake()\n",
    "\n",
    "rake_nltk_var.extract_keywords_from_text(text)\n",
    "keyword_extracted = rake_nltk_var.get_ranked_phrases()\n",
    "print(keyword_extracted)"
   ]
  },
  {
   "cell_type": "markdown",
   "id": "f2646950",
   "metadata": {},
   "source": [
    "TFIDF"
   ]
  },
  {
   "cell_type": "code",
   "execution_count": 14,
   "id": "d043ef4a",
   "metadata": {},
   "outputs": [],
   "source": [
    "# import pandas as pd\n",
    "# import numpy as np\n",
    "# from sklearn.feature_extraction.text import TfidfVectorizer\n",
    "# from nltk.corpus import stopwords as sw\n",
    "\n",
    "# def train_keyword(data): #SE PUEDE EXTENDER EL DICCIONARIO\n",
    "# #     # use stopword to filter words    \n",
    "# #     stop = sw.stopwords_key()\n",
    "# #     stop = stop.splitlines()\n",
    "# #     stop = str(stop)\n",
    "# #     stop = stop.translate(str.maketrans('', '', string.punctuation))\n",
    "#     stopwords_list = list(sw.words('english'))\n",
    "# #     stopwords_list.extend(stop.split())\n",
    "    \n",
    "#     # vectorizing the words use tf-idf\n",
    "#     vectorizer = TfidfVectorizer(analyzer='word', stop_words=set(stopwords_list), use_idf=True)\n",
    "#     vector = vectorizer.fit_transform(data)\n",
    "    \n",
    "#     # store to dataframe    \n",
    "#     df = pd.DataFrame(vector[0].T.todense(), index=vectorizer.get_feature_names(), columns=[\"vector\"])\n",
    "#     df = df.sort_values('vector', ascending=False)\n",
    "#     df.reset_index(inplace=True)\n",
    "#     df = df.rename(columns = {'index':'keywords'})\n",
    "#     df = df[df['vector'] != 0]\n",
    "\n",
    "#     return df"
   ]
  },
  {
   "cell_type": "code",
   "execution_count": 15,
   "id": "fb4c6258",
   "metadata": {},
   "outputs": [],
   "source": [
    "# raw_data = [text]\n",
    "# keywords = train_keyword(raw_data)\n",
    "# # print top 10 keywords\n",
    "# print(keywords.head(10))"
   ]
  },
  {
   "cell_type": "markdown",
   "id": "6520b931",
   "metadata": {},
   "source": [
    "KEYBERT"
   ]
  },
  {
   "cell_type": "code",
   "execution_count": 16,
   "id": "01aff56d",
   "metadata": {},
   "outputs": [],
   "source": [
    "# # Install the libraries\n",
    "# !pip install keybert\n",
    "# !pip install sentence-transformers\n",
    "# !pip install keyphrase_vectorizers"
   ]
  },
  {
   "cell_type": "code",
   "execution_count": 17,
   "id": "58444dd9",
   "metadata": {},
   "outputs": [],
   "source": [
    "# Import them\n",
    "from keybert import KeyBERT\n",
    "from sentence_transformers import SentenceTransformer\n",
    "from keyphrase_vectorizers import KeyphraseCountVectorizer\n",
    "\n",
    "# To show the execution times\n",
    "# !pip install ipython-autotime\n",
    "# %load_ext autotime"
   ]
  },
  {
   "cell_type": "code",
   "execution_count": 18,
   "id": "d8dd3dc7",
   "metadata": {},
   "outputs": [],
   "source": [
    "sent_trans = SentenceTransformer('sentence-transformers/all-mpnet-base-v2')\n",
    "keyBERT_model = KeyBERT(model = sent_trans)"
   ]
  },
  {
   "cell_type": "code",
   "execution_count": 19,
   "id": "2c9e7ce5",
   "metadata": {},
   "outputs": [],
   "source": [
    "def extract_terms(document, vectorizer, \n",
    "                  top_N=7, model=keyBERT_model, diversity_threshold = 0.7):\n",
    "\n",
    "  keywords = model.extract_keywords(document, stop_words='english', \n",
    "                                    vectorizer=vectorizer,\n",
    "                                    use_mmr=True, \n",
    "                                    diversity = diversity_threshold,\n",
    "                                    top_n = top_N\n",
    "                                    )\n",
    "  \n",
    "  return sorted(keywords, key=lambda tup:(-tup[1], tup[0]))"
   ]
  },
  {
   "cell_type": "code",
   "execution_count": 20,
   "id": "ef3ced5e",
   "metadata": {},
   "outputs": [
    {
     "name": "stdout",
     "output_type": "stream",
     "text": [
      "('mercator lines', 0.6118)\n",
      "('short term trading perspective', 0.4737)\n",
      "('stock', 0.3586)\n",
      "('mumbai nirmal bang', 0.2321)\n",
      "('immediate target', 0.2035)\n",
      "('stoploss', 0.1796)\n",
      "('averages', 0.1394)\n"
     ]
    }
   ],
   "source": [
    "# print(f'Text: {text}.\\nLength: {len(text.split())}')\n",
    "best_terms = extract_terms(text, vectorizer=KeyphraseCountVectorizer())\n",
    "\n",
    "for terms_and_score in best_terms:\n",
    "  print(terms_and_score)"
   ]
  },
  {
   "cell_type": "code",
   "execution_count": 21,
   "id": "6380f2bf",
   "metadata": {},
   "outputs": [],
   "source": [
    "# !pip install git+https://github.com/LIAAD/yake"
   ]
  },
  {
   "cell_type": "code",
   "execution_count": 22,
   "id": "7cfc9f65",
   "metadata": {},
   "outputs": [],
   "source": [
    "import yake"
   ]
  },
  {
   "cell_type": "code",
   "execution_count": 23,
   "id": "a6a83577",
   "metadata": {},
   "outputs": [
    {
     "name": "stdout",
     "output_type": "stream",
     "text": [
      "('MUMBAI Nirmal Bang', 0.00047311860053534586)\n",
      "('buy Mercator Lines', 0.0033369271588951765)\n",
      "('MUMBAI Nirmal', 0.005586840090708272)\n",
      "('Nirmal Bang', 0.007054104933620801)\n",
      "('advised shortterm traders', 0.009785674895518005)\n",
      "('Mercator Lines', 0.010396966437703244)\n",
      "('Bang has advised', 0.01752389507303344)\n",
      "('buy Mercator', 0.02001668705081907)\n",
      "('moving averages', 0.03988182406056253)\n",
      "('advised shortterm', 0.044215344563468165)\n",
      "('shortterm traders', 0.044215344563468165)\n",
      "('Mercator', 0.06479972902731951)\n",
      "('MUMBAI', 0.06638227068880072)\n",
      "('Lines', 0.07858965394513126)\n",
      "('Nirmal', 0.0836940445522342)\n",
      "('Bang', 0.0836940445522342)\n",
      "('averages', 0.11903051085989765)\n",
      "('traders to buy', 0.13896229596512466)\n",
      "('buy', 0.14850522634197247)\n",
      "('stock', 0.15515222850106344)\n"
     ]
    }
   ],
   "source": [
    "kw_extractor = yake.KeywordExtractor()\n",
    "keywords = kw_extractor.extract_keywords(text)\n",
    "\n",
    "for kw in keywords:\n",
    "\tprint(kw)"
   ]
  },
  {
   "cell_type": "code",
   "execution_count": 24,
   "id": "e1083223",
   "metadata": {},
   "outputs": [],
   "source": [
    "# language = \"en\"\n",
    "# max_ngram_size = 3\n",
    "# deduplication_threshold = 0.9\n",
    "# deduplication_algo = 'seqm'\n",
    "# windowSize = 1\n",
    "# numOfKeywords = 20\n",
    "\n",
    "# custom_kw_extractor = yake.KeywordExtractor(lan=language, n=max_ngram_size, dedupLim=deduplication_threshold, dedupFunc=deduplication_algo, windowsSize=windowSize, top=numOfKeywords, features=None)\n",
    "# keywords = custom_kw_extractor.extract_keywords(text)\n",
    "\n",
    "# for kw in keywords:\n",
    "#     print(kw)"
   ]
  },
  {
   "cell_type": "code",
   "execution_count": 25,
   "id": "d8e7883d",
   "metadata": {},
   "outputs": [],
   "source": [
    "# !pip install git+https://github.com/boudinfl/pke.git"
   ]
  },
  {
   "cell_type": "code",
   "execution_count": 59,
   "id": "f7ac0de4",
   "metadata": {},
   "outputs": [
    {
     "name": "stderr",
     "output_type": "stream",
     "text": [
      "WARNING:root:LDA model is hard coded to c:\\Users\\Rolando\\AppData\\Local\\Programs\\Python\\Python37\\lib\\site-packages\\pke\\models\\lda-1000-semeval2010.py3.pickle.gz\n"
     ]
    }
   ],
   "source": [
    "import pke\n",
    "\n",
    "# initialize keyphrase extraction model, here TopicRank\n",
    "extractor = pke.unsupervised.TopicalPageRank()\n",
    "\n",
    "# load the content of the document, here document is expected to be a simple \n",
    "# test string and preprocessing is carried out using spacy\n",
    "extractor.load_document(input=text, language='en')\n",
    "\n",
    "# keyphrase candidate selection, in the case of TopicRank: sequences of nouns\n",
    "# and adjectives (i.e. `(Noun|Adj)*`)\n",
    "extractor.candidate_selection()\n",
    "\n",
    "# candidate weighting, in the case of TopicRank: using a random walk algorithm\n",
    "extractor.candidate_weighting()\n",
    "\n",
    "# N-best selection, keyphrases contains the 10 highest scored candidates as\n",
    "# (keyphrase, score) tuples\n",
    "keyphrases = extractor.get_n_best(n=10)"
   ]
  },
  {
   "cell_type": "code",
   "execution_count": 60,
   "id": "663b6f97",
   "metadata": {},
   "outputs": [
    {
     "name": "stdout",
     "output_type": "stream",
     "text": [
      "[('et now force motorss management commentary', 0.09993360884668671), ('likely strong quarterly numbers', 0.08933116644840278), ('june quarter numbers', 0.07127356299330039), ('goodquality company', 0.05776782954682108), ('daljeet singh kohli', 0.05240507348130554), ('few numbers', 0.052146112302135283), ('fivedigit numbers', 0.0510296552002022), ('force motors', 0.050022971010532685), ('company', 0.04759211571607244), ('strong quarter', 0.04171958673221711)]\n"
     ]
    }
   ],
   "source": [
    "print(keyphrases)"
   ]
  }
 ],
 "metadata": {
  "kernelspec": {
   "display_name": "Python 3.7.9 64-bit",
   "language": "python",
   "name": "python3"
  },
  "language_info": {
   "codemirror_mode": {
    "name": "ipython",
    "version": 3
   },
   "file_extension": ".py",
   "mimetype": "text/x-python",
   "name": "python",
   "nbconvert_exporter": "python",
   "pygments_lexer": "ipython3",
   "version": "3.7.9"
  },
  "vscode": {
   "interpreter": {
    "hash": "78523145c45833d40afbe49950902184139bffe318f4eab827c9aacbfef7acc1"
   }
  }
 },
 "nbformat": 4,
 "nbformat_minor": 5
}
