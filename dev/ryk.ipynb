version https://git-lfs.github.com/spec/v1
oid sha256:54b60881c3fdeb93200e01fa0298670142344651e7cd82787d108ed271df6bc9
size 62722
