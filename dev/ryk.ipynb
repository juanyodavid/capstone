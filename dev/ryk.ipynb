version https://git-lfs.github.com/spec/v1
oid sha256:e4209e5e66bf33eb54fa145c7ac120fcadb123a8e2f57e77c10ed5f1e879ef68
size 117781
