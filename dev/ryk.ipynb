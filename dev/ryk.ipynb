version https://git-lfs.github.com/spec/v1
oid sha256:ce41add7f8b3445849c625d7374d37cb6fa924d1e790a076993c892579e18607
size 49977
