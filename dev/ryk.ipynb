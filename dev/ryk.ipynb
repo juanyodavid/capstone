{
 "cells": [
  {
   "cell_type": "code",
   "execution_count": 3,
   "metadata": {},
   "outputs": [],
   "source": [
    "import pandas as pd\n",
    "import numpy as np\n",
    "import pathlib as pl\n",
    "import sklearn\n",
    "import pathlib as pl"
   ]
  },
  {
   "cell_type": "code",
   "execution_count": 55,
   "metadata": {},
   "outputs": [],
   "source": [
    "# dictionarypath = '../dataset/dictionary/Loughran-McDonald_MasterDictionary_1993-2021.csv'\n",
    "# wds_dict = pd.read_csv(dictionarypath)\n",
    "# positive_wds = [row['Word'].lower() for i, row in wds_dict.iterrows() if row['Positive']!=0]\n",
    "# negative_wds = [row['Word'].lower() for i, row in wds_dict.iterrows() if row['Negative']!=0]\n",
    "\n",
    "dictionarypath = '../dataset/dictionary/LM-SA-2020.csv'\n",
    "wds_dict = pd.read_csv(dictionarypath)\n",
    "positive_wds = [row['word'] for i, row in wds_dict.iterrows() if row['sentiment']=='Positive']\n",
    "negative_wds = [row['word'] for i, row in wds_dict.iterrows() if row['sentiment']=='Negative']"
   ]
  },
  {
   "cell_type": "code",
   "execution_count": 56,
   "metadata": {},
   "outputs": [
    {
     "data": {
      "text/html": [
       "<div>\n",
       "<style scoped>\n",
       "    .dataframe tbody tr th:only-of-type {\n",
       "        vertical-align: middle;\n",
       "    }\n",
       "\n",
       "    .dataframe tbody tr th {\n",
       "        vertical-align: top;\n",
       "    }\n",
       "\n",
       "    .dataframe thead th {\n",
       "        text-align: right;\n",
       "    }\n",
       "</style>\n",
       "<table border=\"1\" class=\"dataframe\">\n",
       "  <thead>\n",
       "    <tr style=\"text-align: right;\">\n",
       "      <th></th>\n",
       "      <th>Title</th>\n",
       "      <th>Decisions</th>\n",
       "      <th>links</th>\n",
       "      <th>source</th>\n",
       "      <th>title</th>\n",
       "      <th>body</th>\n",
       "    </tr>\n",
       "  </thead>\n",
       "  <tbody>\n",
       "    <tr>\n",
       "      <th>0</th>\n",
       "      <td>The empire strikes back: Why gold will matter ...</td>\n",
       "      <td>neutral</td>\n",
       "      <td>https://m.economictimes.com/markets/commoditie...</td>\n",
       "      <td>m.economictimes.com</td>\n",
       "      <td>The empire strikes back: Why gold will matter ...</td>\n",
       "      <td>MUMBAI: The year 2013 was a forgettable one fo...</td>\n",
       "    </tr>\n",
       "    <tr>\n",
       "      <th>1</th>\n",
       "      <td>Top brokers recommend 'subscribe' to Syngene I...</td>\n",
       "      <td>neutral</td>\n",
       "      <td>https://m.economictimes.com/markets/ipos/fpos/...</td>\n",
       "      <td>m.economictimes.com</td>\n",
       "      <td>Top brokers recommend 'subscribe' to Syngene I...</td>\n",
       "      <td>NEW DELHI: Brokerages are advising long-term i...</td>\n",
       "    </tr>\n",
       "    <tr>\n",
       "      <th>2</th>\n",
       "      <td>Ujjivan Financial Rs 1,500 crore IPO to hit D-...</td>\n",
       "      <td>neutral</td>\n",
       "      <td>https://economictimes.indiatimes.com/markets/i...</td>\n",
       "      <td>economictimes.indiatimes.com</td>\n",
       "      <td>Ujjivan Financial's Rs 1,500 crore IPO to hit ...</td>\n",
       "      <td>MUMBAI: Ujjivan Financial will be the first mi...</td>\n",
       "    </tr>\n",
       "    <tr>\n",
       "      <th>3</th>\n",
       "      <td>UTI AMC shortlists 3 names for Chairman and MD...</td>\n",
       "      <td>neutral</td>\n",
       "      <td>https://m.economictimes.com/uti-amc-shortlists...</td>\n",
       "      <td>m.economictimes.com</td>\n",
       "      <td>UTI AMC shortlists 3 names for Chairman and MD...</td>\n",
       "      <td>NEW DELHI: UTI AMC, India's oldest asset manag...</td>\n",
       "    </tr>\n",
       "    <tr>\n",
       "      <th>4</th>\n",
       "      <td>UTI MF appoints Kaeley as group president, sal...</td>\n",
       "      <td>neutral</td>\n",
       "      <td>https://m.economictimes.com/uti-mf-appoints-ka...</td>\n",
       "      <td>m.economictimes.com</td>\n",
       "      <td>UTI MF appoints Kaeley as group president, sal...</td>\n",
       "      <td>MUMBAI: UTI Mutual Fund has appointed Suraj Ka...</td>\n",
       "    </tr>\n",
       "    <tr>\n",
       "      <th>...</th>\n",
       "      <td>...</td>\n",
       "      <td>...</td>\n",
       "      <td>...</td>\n",
       "      <td>...</td>\n",
       "      <td>...</td>\n",
       "      <td>...</td>\n",
       "    </tr>\n",
       "    <tr>\n",
       "      <th>1434</th>\n",
       "      <td>Interim Budget impact: Markets get a boost, ra...</td>\n",
       "      <td>positive</td>\n",
       "      <td>https://economictimes.indiatimes.com/interim-b...</td>\n",
       "      <td>economictimes.indiatimes.com</td>\n",
       "      <td>Interim Budget impact: Markets get a boost, ra...</td>\n",
       "      <td>NEW DELHI: The good thing about the interim Bu...</td>\n",
       "    </tr>\n",
       "    <tr>\n",
       "      <th>1435</th>\n",
       "      <td>Investors should opt for higher exposure to PS...</td>\n",
       "      <td>positive</td>\n",
       "      <td>https://m.economictimes.com/markets/stocks/rec...</td>\n",
       "      <td>m.economictimes.com</td>\n",
       "      <td>Investors should opt for higher exposure to PS...</td>\n",
       "      <td>In a chat with ET Now, Kunj Bansal, ED &amp; CIO, ...</td>\n",
       "    </tr>\n",
       "    <tr>\n",
       "      <th>1436</th>\n",
       "      <td>IT to find support around 9750-9800 on CNX IT:...</td>\n",
       "      <td>neutral</td>\n",
       "      <td>https://m.economictimes.com/markets/stocks/rec...</td>\n",
       "      <td>m.economictimes.com</td>\n",
       "      <td>IT to find support around 9750-9800 on CNX IT:...</td>\n",
       "      <td>In a chat with ET Now, Ashwani Gujral, Fund Ma...</td>\n",
       "    </tr>\n",
       "    <tr>\n",
       "      <th>1437</th>\n",
       "      <td>IVRCL rallies 5% as CDR approves Rs 7,000-cror...</td>\n",
       "      <td>positive</td>\n",
       "      <td>https://m.economictimes.com/markets/stocks/new...</td>\n",
       "      <td>m.economictimes.com</td>\n",
       "      <td>IVRCL rallies 5% as CDR approves Rs 7,000-cror...</td>\n",
       "      <td>NEW DELHI: IVRCL Ltd rose as much as 4.9 per c...</td>\n",
       "    </tr>\n",
       "    <tr>\n",
       "      <th>1438</th>\n",
       "      <td>J&amp;K Bank surges 12% as 1:10 stock split comes ...</td>\n",
       "      <td>positive</td>\n",
       "      <td>https://m.economictimes.com/markets/stocks/new...</td>\n",
       "      <td>m.economictimes.com</td>\n",
       "      <td>J&amp;K Bank surges 12% as 1:10 stock split comes ...</td>\n",
       "      <td>NEW DELHI: Jammu &amp; Kashmir Bank rallied as muc...</td>\n",
       "    </tr>\n",
       "  </tbody>\n",
       "</table>\n",
       "<p>1439 rows × 6 columns</p>\n",
       "</div>"
      ],
      "text/plain": [
       "                                                  Title Decisions  \\\n",
       "0     The empire strikes back: Why gold will matter ...   neutral   \n",
       "1     Top brokers recommend 'subscribe' to Syngene I...   neutral   \n",
       "2     Ujjivan Financial Rs 1,500 crore IPO to hit D-...   neutral   \n",
       "3     UTI AMC shortlists 3 names for Chairman and MD...   neutral   \n",
       "4     UTI MF appoints Kaeley as group president, sal...   neutral   \n",
       "...                                                 ...       ...   \n",
       "1434  Interim Budget impact: Markets get a boost, ra...  positive   \n",
       "1435  Investors should opt for higher exposure to PS...  positive   \n",
       "1436  IT to find support around 9750-9800 on CNX IT:...   neutral   \n",
       "1437  IVRCL rallies 5% as CDR approves Rs 7,000-cror...  positive   \n",
       "1438  J&K Bank surges 12% as 1:10 stock split comes ...  positive   \n",
       "\n",
       "                                                  links  \\\n",
       "0     https://m.economictimes.com/markets/commoditie...   \n",
       "1     https://m.economictimes.com/markets/ipos/fpos/...   \n",
       "2     https://economictimes.indiatimes.com/markets/i...   \n",
       "3     https://m.economictimes.com/uti-amc-shortlists...   \n",
       "4     https://m.economictimes.com/uti-mf-appoints-ka...   \n",
       "...                                                 ...   \n",
       "1434  https://economictimes.indiatimes.com/interim-b...   \n",
       "1435  https://m.economictimes.com/markets/stocks/rec...   \n",
       "1436  https://m.economictimes.com/markets/stocks/rec...   \n",
       "1437  https://m.economictimes.com/markets/stocks/new...   \n",
       "1438  https://m.economictimes.com/markets/stocks/new...   \n",
       "\n",
       "                            source  \\\n",
       "0              m.economictimes.com   \n",
       "1              m.economictimes.com   \n",
       "2     economictimes.indiatimes.com   \n",
       "3              m.economictimes.com   \n",
       "4              m.economictimes.com   \n",
       "...                            ...   \n",
       "1434  economictimes.indiatimes.com   \n",
       "1435           m.economictimes.com   \n",
       "1436           m.economictimes.com   \n",
       "1437           m.economictimes.com   \n",
       "1438           m.economictimes.com   \n",
       "\n",
       "                                                  title  \\\n",
       "0     The empire strikes back: Why gold will matter ...   \n",
       "1     Top brokers recommend 'subscribe' to Syngene I...   \n",
       "2     Ujjivan Financial's Rs 1,500 crore IPO to hit ...   \n",
       "3     UTI AMC shortlists 3 names for Chairman and MD...   \n",
       "4     UTI MF appoints Kaeley as group president, sal...   \n",
       "...                                                 ...   \n",
       "1434  Interim Budget impact: Markets get a boost, ra...   \n",
       "1435  Investors should opt for higher exposure to PS...   \n",
       "1436  IT to find support around 9750-9800 on CNX IT:...   \n",
       "1437  IVRCL rallies 5% as CDR approves Rs 7,000-cror...   \n",
       "1438  J&K Bank surges 12% as 1:10 stock split comes ...   \n",
       "\n",
       "                                                   body  \n",
       "0     MUMBAI: The year 2013 was a forgettable one fo...  \n",
       "1     NEW DELHI: Brokerages are advising long-term i...  \n",
       "2     MUMBAI: Ujjivan Financial will be the first mi...  \n",
       "3     NEW DELHI: UTI AMC, India's oldest asset manag...  \n",
       "4     MUMBAI: UTI Mutual Fund has appointed Suraj Ka...  \n",
       "...                                                 ...  \n",
       "1434  NEW DELHI: The good thing about the interim Bu...  \n",
       "1435  In a chat with ET Now, Kunj Bansal, ED & CIO, ...  \n",
       "1436  In a chat with ET Now, Ashwani Gujral, Fund Ma...  \n",
       "1437  NEW DELHI: IVRCL Ltd rose as much as 4.9 per c...  \n",
       "1438  NEW DELHI: Jammu & Kashmir Bank rallied as muc...  \n",
       "\n",
       "[1439 rows x 6 columns]"
      ]
     },
     "execution_count": 56,
     "metadata": {},
     "output_type": "execute_result"
    }
   ],
   "source": [
    "# path = '../dataset/finRep/FinancialPhraseBank/all-data.csv'\n",
    "# df = pd.read_csv(path, encoding = \"ISO-8859-1\", names = ['sentiment', 'sentence'])\n",
    "# # print(df[:10])\n",
    "# path = '../dataset/finRep/FiQA/fiqa_extended.csv'\n",
    "\n",
    "path = '../dev/web_scrapper/sentfin_extended22.csv'\n",
    "df = pd.read_csv(path, encoding = \"ISO-8859-1\")\n",
    "\n",
    "# df['sentiment_score'] = np.where((df['sentiment_score'] < 0.35 ) & (df['sentiment_score'] > -0.35), 0, df['sentiment_score'])\n",
    "# df['sentiment_score'] = np.where((df['sentiment_score'] >= 0.35 ), 1, df['sentiment_score'])\n",
    "# df['sentiment_score'] = np.where((df['sentiment_score'] <= -0.35 ), -1, df['sentiment_score'])\n",
    "# df['sentiment_score'] = df['sentiment_score'].astype(int)\n",
    "df"
   ]
  },
  {
   "cell_type": "code",
   "execution_count": 57,
   "metadata": {},
   "outputs": [
    {
     "data": {
      "text/plain": [
       "<AxesSubplot:>"
      ]
     },
     "execution_count": 57,
     "metadata": {},
     "output_type": "execute_result"
    },
    {
     "data": {
      "image/png": "[encoded data removed]",
      "text/plain": [
       "<Figure size 640x480 with 1 Axes>"
      ]
     },
     "metadata": {},
     "output_type": "display_data"
    }
   ],
   "source": [
    "df.Decisions.value_counts().sort_values().plot(kind = 'barh')\n",
    "# df.sentiment_score.value_counts().sort_values()"
   ]
  },
  {
   "cell_type": "code",
   "execution_count": 58,
   "metadata": {},
   "outputs": [],
   "source": [
    "# to install keybert\n",
    "# !pip install nltk\n",
    "# !pip install keybert\n",
    "# !pip install sentence-transformers\n",
    "# !pip install git+https://github.com/LIAAD/yake\n",
    "### To show the execution times\n",
    "# !pip install ipython-autotime\n",
    "# %load_ext autotime"
   ]
  },
  {
   "cell_type": "code",
   "execution_count": 128,
   "metadata": {},
   "outputs": [
    {
     "name": "stdout",
     "output_type": "stream",
     "text": [
      "Title:  Maize futures up on speculative activity\n",
      "NEW DELHI Maize prices edged higher by Rs 21 to Rs 1,081 per quintal in futures trading today as participants created speculative positions. At the National Commodity and Derivatives Exchange counter, maize prices for most active near contracts July month advanced by Rs 21, or 1.98 per cent, to Rs 1,081 per quintal in an open interest of 37,380 lots. Maize for the delivery in current month, June also up by Rs 16, or 1.55 per cent, to Rs 1,048 per quintal having an open interest of 10,800 lots. Marketmen attributed rise in maize prices to speculative positions built up by particpnants but ample supplies from growing regions, capped the gains. \n",
      "\n",
      "Sentiment:  positive\n"
     ]
    }
   ],
   "source": [
    "import re\n",
    "\n",
    "sample = df.sample(1).iloc[0]\n",
    "title = sample['Title']\n",
    "text = sample['body']\n",
    "sentiment = sample['Decisions']\n",
    "text = re.sub(r'[^A-Za-z0-9 .,;?!]+', ' ', text)\n",
    "text = re.sub(' +', ' ', text)\n",
    "print('Title: ' ,title)\n",
    "print(text)\n",
    "print('\\nSentiment: ', sentiment)"
   ]
  },
  {
   "cell_type": "code",
   "execution_count": 129,
   "metadata": {},
   "outputs": [],
   "source": [
    "def normalize_keyword_list(keyword_list):\n",
    "    keys = []\n",
    "    for keyword in keyword_list:\n",
    "        keys.append(keyword[0])\n",
    "    return keys"
   ]
  },
  {
   "cell_type": "markdown",
   "metadata": {},
   "source": [
    "Rake"
   ]
  },
  {
   "cell_type": "code",
   "execution_count": 130,
   "metadata": {},
   "outputs": [
    {
     "name": "stdout",
     "output_type": "stream",
     "text": [
      "['active near contracts july month advanced', 'new delhi maize prices edged higher', 'participants created speculative positions', 'speculative positions built', 'marketmen attributed rise', 'futures trading today', 'derivatives exchange counter', '98 per cent', '55 per cent', '081 per quintal', '081 per quintal', '048 per quintal', 'maize prices', 'maize prices', 'current month', 'rs 21', 'rs 21', 'rs 16', 'open interest', 'open interest', 'national commodity', 'june also', 'growing regions', 'ample supplies', '800 lots', '380 lots', 'rs 1', 'rs 1', 'rs 1', 'maize', '1', '1', 'particpnants', 'gains', 'delivery', 'capped', '37', '10']\n"
     ]
    }
   ],
   "source": [
    "from rake_nltk import Rake\n",
    "rake_nltk_var = Rake()\n",
    "\n",
    "rake_nltk_var.extract_keywords_from_text(text)\n",
    "rake_keywords = rake_nltk_var.get_ranked_phrases()\n",
    "print(rake_keywords)"
   ]
  },
  {
   "cell_type": "code",
   "execution_count": 131,
   "metadata": {},
   "outputs": [],
   "source": [
    "# Import them\n",
    "from keybert import KeyBERT\n",
    "from sentence_transformers import SentenceTransformer\n",
    "from keyphrase_vectorizers import KeyphraseCountVectorizer\n",
    "\n",
    "sent_trans = SentenceTransformer('sentence-transformers/all-mpnet-base-v2')\n",
    "keyBERT_model = KeyBERT(model = sent_trans)"
   ]
  },
  {
   "cell_type": "code",
   "execution_count": 132,
   "metadata": {},
   "outputs": [],
   "source": [
    "def extract_terms(document, vectorizer, \n",
    "                  top_N=7, model=keyBERT_model, diversity_threshold = 0.7):\n",
    "\n",
    "  keywords = model.extract_keywords(document, stop_words='english', \n",
    "                                    vectorizer=vectorizer,\n",
    "                                    use_mmr=True, \n",
    "                                    diversity = diversity_threshold,\n",
    "                                    top_n = top_N\n",
    "                                    )\n",
    "  \n",
    "  return sorted(keywords, key=lambda tup:(-tup[1], tup[0]))"
   ]
  },
  {
   "cell_type": "code",
   "execution_count": 133,
   "metadata": {},
   "outputs": [
    {
     "name": "stdout",
     "output_type": "stream",
     "text": [
      "['maize prices', 'speculative positions', 'national commodity', 'rise', 'current month', 'lots', 'regions']\n"
     ]
    }
   ],
   "source": [
    "# print(f'Text: {text}.\\nLength: {len(text.split())}')\n",
    "keybert_keywords = extract_terms(text, vectorizer=KeyphraseCountVectorizer())\n",
    "keybert_keywords = normalize_keyword_list(keybert_keywords)\n",
    "\n",
    "print(keybert_keywords)"
   ]
  },
  {
   "cell_type": "code",
   "execution_count": 134,
   "metadata": {},
   "outputs": [
    {
     "name": "stdout",
     "output_type": "stream",
     "text": [
      "['futures trading today', 'DELHI Maize prices', 'prices edged higher', 'participants created speculative', 'Maize prices edged', 'Derivatives Exchange counter', 'DELHI Maize', 'Maize prices', 'created speculative positions', 'edged higher', 'futures trading', 'trading today', 'today as participants', 'participants created', 'National Commodity', 'Commodity and Derivatives', 'Derivatives Exchange', 'prices edged', 'contracts July month', 'July month advanced']\n"
     ]
    }
   ],
   "source": [
    "import yake\n",
    "kw_extractor = yake.KeywordExtractor()\n",
    "yake_keywords = kw_extractor.extract_keywords(text)\n",
    "yake_keywords = normalize_keyword_list(yake_keywords)\n",
    "\n",
    "print(yake_keywords)\n",
    "\n",
    "\n",
    "# print(\"SECOND FORM:\")\n",
    "# language = \"en\"\n",
    "# max_ngram_size = 3\n",
    "# deduplication_threshold = 0.9\n",
    "# deduplication_algo = 'seqm'\n",
    "# windowSize = 1\n",
    "# numOfKeywords = 20\n",
    "\n",
    "# custom_kw_extractor = yake.KeywordExtractor(lan=language, n=max_ngram_size, dedupLim=deduplication_threshold, dedupFunc=deduplication_algo, windowsSize=windowSize, top=numOfKeywords, features=None)\n",
    "# keywords = custom_kw_extractor.extract_keywords(text)\n",
    "\n",
    "# for kw in keywords:\n",
    "#     print(kw)"
   ]
  },
  {
   "cell_type": "markdown",
   "metadata": {},
   "source": [
    "Keyphrase Extraction using TopicalPageRank"
   ]
  },
  {
   "cell_type": "code",
   "execution_count": 135,
   "metadata": {},
   "outputs": [
    {
     "name": "stderr",
     "output_type": "stream",
     "text": [
      "WARNING:root:LDA model is hard coded to c:\\Users\\Rolando\\AppData\\Local\\Programs\\Python\\Python37\\lib\\site-packages\\pke\\models\\lda-1000-semeval2010.py3.pickle.gz\n"
     ]
    },
    {
     "name": "stdout",
     "output_type": "stream",
     "text": [
      "['new delhi maize prices', 'maize prices', 'speculative positions', 'derivatives exchange counter', 'rs', 'maize', 'futures trading today', 'contracts july month', 'open interest', 'current month']\n"
     ]
    },
    {
     "name": "stderr",
     "output_type": "stream",
     "text": [
      "c:\\Users\\Rolando\\AppData\\Local\\Programs\\Python\\Python37\\lib\\site-packages\\sklearn\\feature_extraction\\text.py:401: UserWarning: Your stop_words may be inconsistent with your preprocessing. Tokenizing the stop words generated tokens ['ll', 've'] not in stop_words.\n",
      "  % sorted(inconsistent)\n"
     ]
    }
   ],
   "source": [
    "import pke\n",
    "\n",
    "# initialize keyphrase extraction model, here TopicRank\n",
    "extractor = pke.unsupervised.TopicalPageRank()\n",
    "\n",
    "# load the content of the document, here document is expected to be a simple \n",
    "# test string and preprocessing is carried out using spacy\n",
    "extractor.load_document(input=text, language='en')\n",
    "\n",
    "# keyphrase candidate selection, in the case of TopicRank: sequences of nouns\n",
    "# and adjectives (i.e. `(Noun|Adj)*`)\n",
    "extractor.candidate_selection()\n",
    "\n",
    "# candidate weighting, in the case of TopicRank: using a random walk algorithm\n",
    "extractor.candidate_weighting()\n",
    "\n",
    "# N-best selection, keyphrases contains the 10 highest scored candidates as\n",
    "# (keyphrase, score) tuples\n",
    "tpr_keyphrases = extractor.get_n_best(n=10)\n",
    "tpr_keyphrases = normalize_keyword_list(tpr_keyphrases)\n",
    "print(tpr_keyphrases)"
   ]
  },
  {
   "cell_type": "code",
   "execution_count": 136,
   "metadata": {},
   "outputs": [
    {
     "name": "stdout",
     "output_type": "stream",
     "text": [
      "Rake: ['active near contracts july month advanced', 'new delhi maize prices edged higher', 'participants created speculative positions', 'speculative positions built', 'marketmen attributed rise', 'futures trading today', 'derivatives exchange counter', '98 per cent', '55 per cent', '081 per quintal', '081 per quintal', '048 per quintal', 'maize prices', 'maize prices', 'current month', 'rs 21', 'rs 21', 'rs 16', 'open interest', 'open interest', 'national commodity', 'june also', 'growing regions', 'ample supplies', '800 lots', '380 lots', 'rs 1', 'rs 1', 'rs 1', 'maize', '1', '1', 'particpnants', 'gains', 'delivery', 'capped', '37', '10']\n",
      "Keybert: ['maize prices', 'speculative positions', 'national commodity', 'rise', 'current month', 'lots', 'regions']\n",
      "Yake: ['futures trading today', 'DELHI Maize prices', 'prices edged higher', 'participants created speculative', 'Maize prices edged', 'Derivatives Exchange counter', 'DELHI Maize', 'Maize prices', 'created speculative positions', 'edged higher', 'futures trading', 'trading today', 'today as participants', 'participants created', 'National Commodity', 'Commodity and Derivatives', 'Derivatives Exchange', 'prices edged', 'contracts July month', 'July month advanced']\n",
      "Keyphrase: ['new delhi maize prices', 'maize prices', 'speculative positions', 'derivatives exchange counter', 'rs', 'maize', 'futures trading today', 'contracts july month', 'open interest', 'current month']\n"
     ]
    }
   ],
   "source": [
    "Keywords = {}\n",
    "Keywords[\"rake\"] = rake_keywords\n",
    "Keywords[\"keybert\"] = keybert_keywords\n",
    "Keywords[\"yake\"] = yake_keywords\n",
    "Keywords[\"tpr\"] = tpr_keyphrases\n",
    "\n",
    "print(\"Rake: %s\" % Keywords[\"rake\"]) \n",
    "print(\"Keybert: %s\" % Keywords[\"keybert\"]) \n",
    "print(\"Yake: %s\" % Keywords[\"yake\"])\n",
    "print(\"Keyphrase: %s\" % Keywords[\"tpr\"])"
   ]
  },
  {
   "cell_type": "markdown",
   "metadata": {},
   "source": [
    "NLTK-VADER"
   ]
  },
  {
   "cell_type": "code",
   "execution_count": 137,
   "metadata": {},
   "outputs": [
    {
     "name": "stdout",
     "output_type": "stream",
     "text": [
      "['maize prices', 'speculative positions', 'national commodity', 'rise', 'current month', 'lots', 'regions']\n"
     ]
    }
   ],
   "source": [
    "print(keybert_keywords)"
   ]
  },
  {
   "cell_type": "code",
   "execution_count": 138,
   "metadata": {},
   "outputs": [
    {
     "name": "stdout",
     "output_type": "stream",
     "text": [
      "[('maize prices', 0), ('speculative positions', 0), ('national commodity', 0), ('rise', 0), ('current month', 0), ('lots', 0), ('regions', 0)]\n"
     ]
    }
   ],
   "source": [
    "import nltk\n",
    "from nltk.sentiment.vader import SentimentIntensityAnalyzer\n",
    "\n",
    "sid = SentimentIntensityAnalyzer()\n",
    "\n",
    "def vader(keywords):\n",
    "    result = []\n",
    "    for sentence in keywords:\n",
    "        if (sid.polarity_scores(sentence)['compound']) >= 0.5:\n",
    "            result.append(tuple((sentence, 1)))\n",
    "        elif (sid.polarity_scores(sentence)['compound']) <= -0.5:\n",
    "            result.append(tuple((sentence, -1)))\n",
    "        else:\n",
    "            result.append(tuple((sentence, 0)))\n",
    "    return result\n",
    "\n",
    "result = vader(keybert_keywords) \n",
    "print(result)            "
   ]
  },
  {
   "cell_type": "markdown",
   "metadata": {},
   "source": [
    "Using TextBlob"
   ]
  },
  {
   "cell_type": "code",
   "execution_count": 139,
   "metadata": {},
   "outputs": [
    {
     "name": "stdout",
     "output_type": "stream",
     "text": [
      "[('maize prices', 0), ('speculative positions', 0), ('national commodity', 0), ('rise', 0), ('current month', 0), ('lots', 0), ('regions', 0)]\n"
     ]
    }
   ],
   "source": [
    "from textblob import TextBlob\n",
    "\n",
    "def textblob(keywords):\n",
    "    result = []\n",
    "    for sentence in keybert_keywords:\n",
    "        testimonial = TextBlob(sentence)\n",
    "        if testimonial.sentiment.polarity >= 0.5:\n",
    "            result.append(tuple((sentence, 1)))\n",
    "        elif testimonial.sentiment.polarity <= -0.5:\n",
    "            result.append(tuple((sentence, -1)))\n",
    "        else:\n",
    "            result.append(tuple((sentence, 0)))\n",
    "    return result\n",
    "\n",
    "result = textblob(keybert_keywords)\n",
    "print(result)\n"
   ]
  },
  {
   "cell_type": "markdown",
   "metadata": {},
   "source": [
    "Using dictionary"
   ]
  },
  {
   "cell_type": "code",
   "execution_count": 140,
   "metadata": {},
   "outputs": [],
   "source": [
    "def compare_words(keyword_list):\n",
    "    result = []\n",
    "    for sentence in keyword_list:\n",
    "        words = sentence.split()\n",
    "        score = 0\n",
    "        for word in words:\n",
    "            if word in positive_wds:\n",
    "                score = score + 1\n",
    "            elif word in negative_wds:\n",
    "                score = score - 1\n",
    "                \n",
    "        if score > 0:\n",
    "            score = 1\n",
    "            result.append(tuple((sentence, score)))\n",
    "        elif score < 0:\n",
    "            score = -1\n",
    "            result.append(tuple((sentence, score)))\n",
    "        else:\n",
    "            result.append(vader([sentence])[0])\n",
    "\n",
    "    return result"
   ]
  },
  {
   "cell_type": "code",
   "execution_count": 141,
   "metadata": {},
   "outputs": [
    {
     "name": "stdout",
     "output_type": "stream",
     "text": [
      "[('maize prices', 0), ('speculative positions', -1), ('national commodity', 0), ('rise', 1), ('current month', 0), ('lots', 0), ('regions', 0)]\n"
     ]
    }
   ],
   "source": [
    "keybert_sen = compare_words(keybert_keywords) #keybert\n",
    "\n",
    "print(keybert_sen)"
   ]
  },
  {
   "cell_type": "code",
   "execution_count": 142,
   "metadata": {},
   "outputs": [],
   "source": [
    "# !pip install spacy\n",
    "# !python -m spacy download en_core_web_sm"
   ]
  },
  {
   "cell_type": "code",
   "execution_count": 143,
   "metadata": {},
   "outputs": [
    {
     "name": "stderr",
     "output_type": "stream",
     "text": [
      "C:\\Users\\Rolando\\AppData\\Roaming\\Python\\Python37\\site-packages\\ipykernel_launcher.py:10: UserWarning: [W007] The model you're using has no word vectors loaded, so the result of the Doc.similarity method will be based on the tagger, parser and NER, which may not give useful similarity judgements. This may happen if you're using one of the small models, e.g. `en_core_web_sm`, which don't ship with word vectors and only use context-sensitive tensors. You can always add your own word vectors, or use one of the larger models instead if available.\n",
      "  # Remove the CWD from sys.path while we load stuff.\n",
      "C:\\Users\\Rolando\\AppData\\Roaming\\Python\\Python37\\site-packages\\ipykernel_launcher.py:12: UserWarning: [W007] The model you're using has no word vectors loaded, so the result of the Doc.similarity method will be based on the tagger, parser and NER, which may not give useful similarity judgements. This may happen if you're using one of the small models, e.g. `en_core_web_sm`, which don't ship with word vectors and only use context-sensitive tensors. You can always add your own word vectors, or use one of the larger models instead if available.\n",
      "  if sys.path[0] == \"\":\n",
      "C:\\Users\\Rolando\\AppData\\Roaming\\Python\\Python37\\site-packages\\ipykernel_launcher.py:14: UserWarning: [W007] The model you're using has no word vectors loaded, so the result of the Doc.similarity method will be based on the tagger, parser and NER, which may not give useful similarity judgements. This may happen if you're using one of the small models, e.g. `en_core_web_sm`, which don't ship with word vectors and only use context-sensitive tensors. You can always add your own word vectors, or use one of the larger models instead if available.\n",
      "  \n"
     ]
    },
    {
     "name": "stdout",
     "output_type": "stream",
     "text": [
      "['maize prices', 'active near contracts july month advanced', 'participants created speculative positions', 'speculative positions built', 'marketmen attributed rise', 'futures trading today', 'national commodity', 'speculative positions', 'rise', 'current month', 'lots', 'regions']\n"
     ]
    }
   ],
   "source": [
    "import spacy\n",
    "nlp = spacy.load('en_core_web_sm')\n",
    "FinalKeys = []  #FALTA AGREGAR EL 4TO KEYWORD EXTRACTOR!\n",
    "for keybert in Keywords[\"keybert\"]:\n",
    "    word1 = nlp(keybert)\n",
    "    for rake in Keywords[\"rake\"]:\n",
    "        word2 = nlp(rake)\n",
    "        for yake in Keywords[\"yake\"]:\n",
    "            word3 = nlp(yake)\n",
    "            if word3.similarity(word1) > 0.7 and (not(keybert in FinalKeys)):\n",
    "                FinalKeys.append(keybert)\n",
    "            if word3.similarity(word2) > 0.7 and not(rake in FinalKeys):\n",
    "                FinalKeys.append(rake)\n",
    "            if word2.similarity(word1) > 0.7 and not(keybert in FinalKeys):\n",
    "                FinalKeys.append(keybert)\n",
    "\n",
    "\n",
    "\n",
    "print(FinalKeys)"
   ]
  },
  {
   "cell_type": "code",
   "execution_count": 144,
   "metadata": {},
   "outputs": [
    {
     "name": "stdout",
     "output_type": "stream",
     "text": [
      "[('maize prices', 0), ('active near contracts july month advanced', 1), ('participants created speculative positions', -1), ('speculative positions built', -1), ('marketmen attributed rise', 1), ('futures trading today', 0), ('national commodity', 0), ('speculative positions', -1), ('rise', 1), ('current month', 0), ('lots', 0), ('regions', 0)]\n"
     ]
    }
   ],
   "source": [
    "keys_sent = compare_words(FinalKeys) #keybert\n",
    "\n",
    "print(keys_sent)"
   ]
  },
  {
   "cell_type": "markdown",
   "metadata": {},
   "source": [
    "PREPROCESSING"
   ]
  }
 ],
 "metadata": {
  "kernelspec": {
   "display_name": "Python 3.7.9 64-bit",
   "language": "python",
   "name": "python3"
  },
  "language_info": {
   "codemirror_mode": {
    "name": "ipython",
    "version": 3
   },
   "file_extension": ".py",
   "mimetype": "text/x-python",
   "name": "python",
   "nbconvert_exporter": "python",
   "pygments_lexer": "ipython3",
   "version": "3.7.9"
  },
  "orig_nbformat": 4,
  "vscode": {
   "interpreter": {
    "hash": "78523145c45833d40afbe49950902184139bffe318f4eab827c9aacbfef7acc1"
   }
  }
 },
 "nbformat": 4,
 "nbformat_minor": 2
}
