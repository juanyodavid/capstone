{
 "cells": [
  {
   "cell_type": "code",
   "execution_count": 2,
   "metadata": {},
   "outputs": [],
   "source": [
    "import pandas as pd\n",
    "import numpy as np\n",
    "import pathlib as pl\n",
    "import sklearn\n",
    "import pathlib as pl"
   ]
  },
  {
   "cell_type": "code",
   "execution_count": 3,
   "metadata": {},
   "outputs": [],
   "source": [
    "dictionarypath = '../dataset/dictionary/Loughran-McDonald_MasterDictionary_1993-2021.csv'\n",
    "wds_dict = pd.read_csv(dictionarypath)\n",
    "positive_wds = [row['Word'].lower() for i, row in wds_dict.iterrows() if row['Positive']!=0]\n",
    "negative_wds = [row['Word'].lower() for i, row in wds_dict.iterrows() if row['Negative']!=0]"
   ]
  },
  {
   "cell_type": "code",
   "execution_count": 5,
   "metadata": {},
   "outputs": [
    {
     "data": {
      "text/html": [
       "<div>\n",
       "<style scoped>\n",
       "    .dataframe tbody tr th:only-of-type {\n",
       "        vertical-align: middle;\n",
       "    }\n",
       "\n",
       "    .dataframe tbody tr th {\n",
       "        vertical-align: top;\n",
       "    }\n",
       "\n",
       "    .dataframe thead th {\n",
       "        text-align: right;\n",
       "    }\n",
       "</style>\n",
       "<table border=\"1\" class=\"dataframe\">\n",
       "  <thead>\n",
       "    <tr style=\"text-align: right;\">\n",
       "      <th></th>\n",
       "      <th>title</th>\n",
       "      <th>body</th>\n",
       "      <th>links</th>\n",
       "      <th>source</th>\n",
       "      <th>target</th>\n",
       "      <th>sentiment_score</th>\n",
       "    </tr>\n",
       "  </thead>\n",
       "  <tbody>\n",
       "    <tr>\n",
       "      <th>0</th>\n",
       "      <td>Dairy Crest loses a third of Morrisons milk co...</td>\n",
       "      <td>(Reuters) - Dairy Crest Group Plc DCG.L lost a...</td>\n",
       "      <td>https://www.reuters.com/article/uk-dairy-crest...</td>\n",
       "      <td>www.reuters.com</td>\n",
       "      <td>Morrisons</td>\n",
       "      <td>0</td>\n",
       "    </tr>\n",
       "    <tr>\n",
       "      <th>1</th>\n",
       "      <td>Pearson expects to return to growth this year</td>\n",
       "      <td>LONDON (Reuters) - Pearson PSON.L said it expe...</td>\n",
       "      <td>https://www.reuters.com/article/uk-pearson-res...</td>\n",
       "      <td>www.reuters.com</td>\n",
       "      <td>Pearson</td>\n",
       "      <td>1</td>\n",
       "    </tr>\n",
       "    <tr>\n",
       "      <th>2</th>\n",
       "      <td>FDA approves NPS drug, in move validating Shir...</td>\n",
       "      <td>Jan 23 (Reuters) - The U.S. Food and Drug Admi...</td>\n",
       "      <td>https://www.reuters.com/article/fda-nps-pharma...</td>\n",
       "      <td>www.reuters.com</td>\n",
       "      <td>Shire</td>\n",
       "      <td>0</td>\n",
       "    </tr>\n",
       "    <tr>\n",
       "      <th>3</th>\n",
       "      <td>Shire to buy NPS for $5.2 billion to boost rar...</td>\n",
       "      <td>LONDON (Reuters) - Shire Plc has agreed to buy...</td>\n",
       "      <td>https://www.reuters.com/article/us-nps-m-a-shi...</td>\n",
       "      <td>www.reuters.com</td>\n",
       "      <td>Shire</td>\n",
       "      <td>0</td>\n",
       "    </tr>\n",
       "    <tr>\n",
       "      <th>4</th>\n",
       "      <td>UPDATE 1-Just the ticket, Trainline shares sur...</td>\n",
       "      <td>* Trainline valued at 1.68 bln pounds in Londo...</td>\n",
       "      <td>https://www.reuters.com/article/trainline-list...</td>\n",
       "      <td>www.reuters.com</td>\n",
       "      <td>Thetrainline.com</td>\n",
       "      <td>0</td>\n",
       "    </tr>\n",
       "    <tr>\n",
       "      <th>...</th>\n",
       "      <td>...</td>\n",
       "      <td>...</td>\n",
       "      <td>...</td>\n",
       "      <td>...</td>\n",
       "      <td>...</td>\n",
       "      <td>...</td>\n",
       "    </tr>\n",
       "    <tr>\n",
       "      <th>197</th>\n",
       "      <td>U.K. Stocks Little Changed as Barclays Gain Of...</td>\n",
       "      <td>\\nU.K. stocks were little changed as gains in ...</td>\n",
       "      <td>https://www.bloomberg.com/news/articles/2014-1...</td>\n",
       "      <td>www.bloomberg.com</td>\n",
       "      <td>Shell</td>\n",
       "      <td>-1</td>\n",
       "    </tr>\n",
       "    <tr>\n",
       "      <th>198</th>\n",
       "      <td>ShellÂs $70 billion BG deal meets shareholder...</td>\n",
       "      <td>\\nLondon/New Delhi: The biggest deal in Royal ...</td>\n",
       "      <td>https://www.livemint.com/Companies/TyrP7qjLuKn...</td>\n",
       "      <td>www.livemint.com</td>\n",
       "      <td>Shell</td>\n",
       "      <td>0</td>\n",
       "    </tr>\n",
       "    <tr>\n",
       "      <th>199</th>\n",
       "      <td>City spirits sink after Diageo comes up short ...</td>\n",
       "      <td>Hopes of a sales rebound at Diageo at the star...</td>\n",
       "      <td>https://www.independent.co.uk/news/business/ne...</td>\n",
       "      <td>www.independent.co.uk</td>\n",
       "      <td>Diageo</td>\n",
       "      <td>-1</td>\n",
       "    </tr>\n",
       "    <tr>\n",
       "      <th>200</th>\n",
       "      <td>Diageo receives reports from United Spirits on...</td>\n",
       "      <td>MUMBAI: British drinks major Diageo Â also th...</td>\n",
       "      <td>https://m.economictimes.com/industry/cons-prod...</td>\n",
       "      <td>m.economictimes.com</td>\n",
       "      <td>Diageo</td>\n",
       "      <td>0</td>\n",
       "    </tr>\n",
       "    <tr>\n",
       "      <th>201</th>\n",
       "      <td>Diageo sales disappoint as currency and compar...</td>\n",
       "      <td>Organic sales from Diageo fell 0.7% in the thi...</td>\n",
       "      <td>https://www.sharecast.com/news/news-and-announ...</td>\n",
       "      <td>www.sharecast.com</td>\n",
       "      <td>Diageo</td>\n",
       "      <td>-1</td>\n",
       "    </tr>\n",
       "  </tbody>\n",
       "</table>\n",
       "<p>202 rows × 6 columns</p>\n",
       "</div>"
      ],
      "text/plain": [
       "                                                 title  \\\n",
       "0    Dairy Crest loses a third of Morrisons milk co...   \n",
       "1        Pearson expects to return to growth this year   \n",
       "2    FDA approves NPS drug, in move validating Shir...   \n",
       "3    Shire to buy NPS for $5.2 billion to boost rar...   \n",
       "4    UPDATE 1-Just the ticket, Trainline shares sur...   \n",
       "..                                                 ...   \n",
       "197  U.K. Stocks Little Changed as Barclays Gain Of...   \n",
       "198  ShellÂs $70 billion BG deal meets shareholder...   \n",
       "199  City spirits sink after Diageo comes up short ...   \n",
       "200  Diageo receives reports from United Spirits on...   \n",
       "201  Diageo sales disappoint as currency and compar...   \n",
       "\n",
       "                                                  body  \\\n",
       "0    (Reuters) - Dairy Crest Group Plc DCG.L lost a...   \n",
       "1    LONDON (Reuters) - Pearson PSON.L said it expe...   \n",
       "2    Jan 23 (Reuters) - The U.S. Food and Drug Admi...   \n",
       "3    LONDON (Reuters) - Shire Plc has agreed to buy...   \n",
       "4    * Trainline valued at 1.68 bln pounds in Londo...   \n",
       "..                                                 ...   \n",
       "197  \\nU.K. stocks were little changed as gains in ...   \n",
       "198  \\nLondon/New Delhi: The biggest deal in Royal ...   \n",
       "199  Hopes of a sales rebound at Diageo at the star...   \n",
       "200  MUMBAI: British drinks major Diageo Â also th...   \n",
       "201  Organic sales from Diageo fell 0.7% in the thi...   \n",
       "\n",
       "                                                 links                 source  \\\n",
       "0    https://www.reuters.com/article/uk-dairy-crest...        www.reuters.com   \n",
       "1    https://www.reuters.com/article/uk-pearson-res...        www.reuters.com   \n",
       "2    https://www.reuters.com/article/fda-nps-pharma...        www.reuters.com   \n",
       "3    https://www.reuters.com/article/us-nps-m-a-shi...        www.reuters.com   \n",
       "4    https://www.reuters.com/article/trainline-list...        www.reuters.com   \n",
       "..                                                 ...                    ...   \n",
       "197  https://www.bloomberg.com/news/articles/2014-1...      www.bloomberg.com   \n",
       "198  https://www.livemint.com/Companies/TyrP7qjLuKn...       www.livemint.com   \n",
       "199  https://www.independent.co.uk/news/business/ne...  www.independent.co.uk   \n",
       "200  https://m.economictimes.com/industry/cons-prod...    m.economictimes.com   \n",
       "201  https://www.sharecast.com/news/news-and-announ...      www.sharecast.com   \n",
       "\n",
       "               target  sentiment_score  \n",
       "0           Morrisons                0  \n",
       "1             Pearson                1  \n",
       "2               Shire                0  \n",
       "3               Shire                0  \n",
       "4    Thetrainline.com                0  \n",
       "..                ...              ...  \n",
       "197             Shell               -1  \n",
       "198             Shell                0  \n",
       "199            Diageo               -1  \n",
       "200            Diageo                0  \n",
       "201            Diageo               -1  \n",
       "\n",
       "[202 rows x 6 columns]"
      ]
     },
     "execution_count": 5,
     "metadata": {},
     "output_type": "execute_result"
    }
   ],
   "source": [
    "# path = '../dataset/finRep/FinancialPhraseBank/all-data.csv'\n",
    "# df = pd.read_csv(path, encoding = \"ISO-8859-1\", names = ['sentiment', 'sentence'])\n",
    "# # print(df[:10])\n",
    "path = '../dataset/finRep/FiQA/fiqa_extended.csv'\n",
    "df = pd.read_csv(path, encoding = \"ISO-8859-1\")\n",
    "\n",
    "df['sentiment_score'] = np.where((df['sentiment_score'] < 0.35 ) & (df['sentiment_score'] > -0.35), 0, df['sentiment_score'])\n",
    "df['sentiment_score'] = np.where((df['sentiment_score'] >= 0.35 ), 1, df['sentiment_score'])\n",
    "df['sentiment_score'] = np.where((df['sentiment_score'] <= -0.35 ), -1, df['sentiment_score'])\n",
    "df['sentiment_score'] = df['sentiment_score'].astype(int)\n",
    "df"
   ]
  },
  {
   "cell_type": "code",
   "execution_count": 6,
   "metadata": {},
   "outputs": [
    {
     "data": {
      "text/plain": [
       "-1     33\n",
       " 1     57\n",
       " 0    112\n",
       "Name: sentiment_score, dtype: int64"
      ]
     },
     "execution_count": 6,
     "metadata": {},
     "output_type": "execute_result"
    },
    {
     "data": {
      "image/png": "[encoded data removed]",
      "text/plain": [
       "<Figure size 640x480 with 1 Axes>"
      ]
     },
     "metadata": {},
     "output_type": "display_data"
    }
   ],
   "source": [
    "df.sentiment_score.value_counts().sort_values().plot(kind = 'barh')\n",
    "df.sentiment_score.value_counts().sort_values()"
   ]
  },
  {
   "cell_type": "code",
   "execution_count": 47,
   "metadata": {},
   "outputs": [],
   "source": [
    "# to install keybert\n",
    "# !pip install nltk\n",
    "# !pip install keybert\n",
    "# !pip install sentence-transformers\n",
    "# !pip install git+https://github.com/LIAAD/yake\n",
    "### To show the execution times\n",
    "# !pip install ipython-autotime\n",
    "# %load_ext autotime"
   ]
  },
  {
   "cell_type": "code",
   "execution_count": 7,
   "metadata": {},
   "outputs": [
    {
     "name": "stdout",
     "output_type": "stream",
     "text": [
      "MANCHESTER, N.H. Reuters New Hampshires top court on Friday upheld a 236 million judgment against Exxon Mobil Corp over groundwater contamination linked to gasoline additive MTBE.The New Hampshire Supreme Court ruling affirms a 2013 jury decision that rejected Exxons claims that contamination linked to the fuel additive was the fault of the local gas stations and storage facilities that spilled it.In the 1990s, in response to U.S. clean air regulations, MTBE was commonly added to gasoline to reduce smog. Subsequent studies found that the chemical easily penetrated and contaminated groundwater, and its use was gradually phased out.New Hampshires lawsuit against Exxon, which is headquartered in Irving, Texas, dates back to 2003. State officials say the 236.3 million judgment is the largest MTBE verdict since states and other agencies began making the claims for remediation and other damages.This is the most significant environmental victory in the history of the state, New Hampshire Attorney General Joseph Foster said in a statement on Friday. This historic decision sends a clear message that New Hampshire will not permit polluters to endanger the health of its citizens and destroy its natural resources.A spokesman for Exxon said on Friday that the company is considering appealing the case to the U.S. Supreme Court.MTBE contamination has been found in New Hampshire because someone spilled gasoline in New Hampshire, not because it was added to gasoline in a refinery in another state, spokesman Todd Spitler said in an email.The state should have sued the parties responsible for spilling gasoline, not the refiners who were compelled by law to add oxygenates to gasoline, he said.In 2014, Exxon appealed to the U.S. Supreme Court a 105 million jury verdict in favor of New York City over MTBE contamination, but the court declined to hear the case, letting the decision stand.According to New Hampshire officials, more than 600 wells in the southern part of the state are contaminated with MTBE.New Hampshire has received 90 million in legal settlements with other gasoline suppliers over MTBE contamination. The state has yet to receive any compensation from Exxon.\n",
      "the sentiment is : 0\n"
     ]
    }
   ],
   "source": [
    "import re\n",
    "\n",
    "text = df.sample(1).iloc[0]['body']\n",
    "text = re.sub(r'[^A-Za-z0-9 .,;]+', '', text)\n",
    "text = re.sub(' +', ' ', text)\n",
    "# df =df.drop(index = 0)\n",
    "    # df[:3]\n",
    "print(text)\n",
    "label = df.sample(1)['sentiment_score'].iloc[0]\n",
    "\n",
    "print(\"the sentiment is : %s\"%label)"
   ]
  },
  {
   "cell_type": "code",
   "execution_count": 8,
   "metadata": {},
   "outputs": [],
   "source": [
    "def normalize_keyword_list(keyword_list):\n",
    "    keys = []\n",
    "    for keyword in keyword_list:\n",
    "        keys.append(keyword[0])\n",
    "    return keys"
   ]
  },
  {
   "cell_type": "markdown",
   "metadata": {},
   "source": [
    "Rake"
   ]
  },
  {
   "cell_type": "code",
   "execution_count": 9,
   "metadata": {},
   "outputs": [
    {
     "name": "stdout",
     "output_type": "stream",
     "text": [
      "['new hampshire attorney general joseph foster said', 'new hampshire supreme court ruling affirms', 'largest mtbe verdict since states', 'reuters new hampshires top court', '105 million jury verdict', 'spokesman todd spitler said', 'new hampshires lawsuit', 'new hampshire officials', 'new york city', 'received 90 million', '3 million judgment', '2013 jury decision', 'significant environmental victory', 'local gas stations', 'clean air regulations', 'chemical easily penetrated', 'agencies began making', 'historic decision sends', '236 million judgment', 'subsequent studies found', 'rejected exxons claims', 'exxon mobil corp', 'state officials say', 'groundwater contamination linked', 'new hampshire', 'new hampshire', 'new hampshire', 'new hampshire', 'someone spilled gasoline', 'supreme court', 'supreme court', 'gasoline additive mtbe', 'court declined', 'exxon said', 'contamination linked', 'decision stand', 'fuel additive', 'mtbe contamination', 'mtbe contamination', 'mtbe contamination', 'storage facilities', 'southern part', 'reduce smog', 'permit polluters', 'parties responsible', 'natural resources', 'legal settlements', 'gradually phased', 'dates back', 'contaminated groundwater', 'considering appealing', 'clear message', 'add oxygenates', '600 wells', 'spilling gasoline', 'gasoline suppliers', 'exxon appealed', 'said', 'commonly added', 'another state', 'friday upheld', 'spokesman', 'mtbe', 'mtbe', 'spilled', 'found', 'claims', '236', 'gasoline', 'gasoline', 'gasoline', 'exxon', 'exxon', 'state', 'state', 'state', 'state', 'contaminated', 'added', 'friday', 'friday', 'yet', 'use', 'u', 'u', 'u', 'texas', 'sued', 'statement', 'response', 'remediation', 'refinery', 'refiners', 'receive', 'n', 'manchester', 'letting', 'law', 'irving', 'history', 'hear', 'health', 'headquartered', 'h', 'favor', 'fault', 'endanger', 'email', 'destroy', 'damages', 'compensation', 'compelled', 'company', 'citizens', 'case', 'case', 'according', '2014', '2003', '1990s']\n"
     ]
    }
   ],
   "source": [
    "from rake_nltk import Rake\n",
    "rake_nltk_var = Rake()\n",
    "\n",
    "rake_nltk_var.extract_keywords_from_text(text)\n",
    "rake_keywords = rake_nltk_var.get_ranked_phrases()\n",
    "print(rake_keywords)"
   ]
  },
  {
   "cell_type": "code",
   "execution_count": 10,
   "metadata": {},
   "outputs": [
    {
     "name": "stderr",
     "output_type": "stream",
     "text": [
      "c:\\Users\\Rolando\\AppData\\Local\\Programs\\Python\\Python37\\lib\\site-packages\\tqdm\\auto.py:22: TqdmWarning: IProgress not found. Please update jupyter and ipywidgets. See https://ipywidgets.readthedocs.io/en/stable/user_install.html\n",
      "  from .autonotebook import tqdm as notebook_tqdm\n"
     ]
    }
   ],
   "source": [
    "# Import them\n",
    "from keybert import KeyBERT\n",
    "from sentence_transformers import SentenceTransformer\n",
    "sent_trans = SentenceTransformer('sentence-transformers/all-mpnet-base-v2')\n",
    "keyBERT_model = KeyBERT(model = sent_trans)"
   ]
  },
  {
   "cell_type": "code",
   "execution_count": 11,
   "metadata": {},
   "outputs": [],
   "source": [
    "def extract_terms(document, n_gram_range = (3,3), \n",
    "                  top_N=5, model=keyBERT_model, diversity_threshold = 0.7):\n",
    "\n",
    "  keywords = model.extract_keywords(document, stop_words='english', \n",
    "                                    keyphrase_ngram_range=(1, 3),\n",
    "                                    use_mmr=True, \n",
    "                                    diversity = diversity_threshold,\n",
    "                                    top_n = top_N)\n",
    "  \n",
    "  return sorted(keywords, key=lambda tup:(-tup[1], tup[0]))"
   ]
  },
  {
   "cell_type": "code",
   "execution_count": 12,
   "metadata": {},
   "outputs": [
    {
     "name": "stdout",
     "output_type": "stream",
     "text": [
      "['hampshires lawsuit exxon', 'mtbe commonly added', 'reduce smog subsequent', 'additive fault local', 'new york city']\n"
     ]
    }
   ],
   "source": [
    "# print(f'Text: {text}.\\nLength: {len(text.split())}')\n",
    "keybert_keywords = extract_terms(text)\n",
    "keybert_keywords = normalize_keyword_list(keybert_keywords)\n",
    "\n",
    "print(keybert_keywords)"
   ]
  },
  {
   "cell_type": "code",
   "execution_count": 13,
   "metadata": {},
   "outputs": [
    {
     "name": "stdout",
     "output_type": "stream",
     "text": [
      "['Exxon Mobil Corp', 'Hampshire Supreme Court', 'Hampshires top court', 'Mobil Corp', 'clean air regulations', 'gasoline additive MTBE.The', 'local gas stations', 'Supreme Court ruling', 'Court ruling affirms', 'groundwater contamination linked', 'rejected Exxons claims', 'Hampshire Attorney General', 'Exxon Mobil', 'Reuters New Hampshires', 'contamination linked', 'Hampshire', 'Supreme Court', 'Hampshire Supreme', 'Hampshires top', 'MTBE contamination']\n"
     ]
    }
   ],
   "source": [
    "import yake\n",
    "kw_extractor = yake.KeywordExtractor()\n",
    "yake_keywords = kw_extractor.extract_keywords(text)\n",
    "yake_keywords = normalize_keyword_list(yake_keywords)\n",
    "\n",
    "print(yake_keywords)\n",
    "\n",
    "\n",
    "# print(\"SECOND FORM:\")\n",
    "# language = \"en\"\n",
    "# max_ngram_size = 3\n",
    "# deduplication_threshold = 0.9\n",
    "# deduplication_algo = 'seqm'\n",
    "# windowSize = 1\n",
    "# numOfKeywords = 20\n",
    "\n",
    "# custom_kw_extractor = yake.KeywordExtractor(lan=language, n=max_ngram_size, dedupLim=deduplication_threshold, dedupFunc=deduplication_algo, windowsSize=windowSize, top=numOfKeywords, features=None)\n",
    "# keywords = custom_kw_extractor.extract_keywords(text)\n",
    "\n",
    "# for kw in keywords:\n",
    "#     print(kw)"
   ]
  },
  {
   "cell_type": "code",
   "execution_count": 14,
   "metadata": {},
   "outputs": [
    {
     "name": "stdout",
     "output_type": "stream",
     "text": [
      "Rake: ['new hampshire attorney general joseph foster said', 'new hampshire supreme court ruling affirms', 'largest mtbe verdict since states', 'reuters new hampshires top court', '105 million jury verdict', 'spokesman todd spitler said', 'new hampshires lawsuit', 'new hampshire officials', 'new york city', 'received 90 million', '3 million judgment', '2013 jury decision', 'significant environmental victory', 'local gas stations', 'clean air regulations', 'chemical easily penetrated', 'agencies began making', 'historic decision sends', '236 million judgment', 'subsequent studies found', 'rejected exxons claims', 'exxon mobil corp', 'state officials say', 'groundwater contamination linked', 'new hampshire', 'new hampshire', 'new hampshire', 'new hampshire', 'someone spilled gasoline', 'supreme court', 'supreme court', 'gasoline additive mtbe', 'court declined', 'exxon said', 'contamination linked', 'decision stand', 'fuel additive', 'mtbe contamination', 'mtbe contamination', 'mtbe contamination', 'storage facilities', 'southern part', 'reduce smog', 'permit polluters', 'parties responsible', 'natural resources', 'legal settlements', 'gradually phased', 'dates back', 'contaminated groundwater', 'considering appealing', 'clear message', 'add oxygenates', '600 wells', 'spilling gasoline', 'gasoline suppliers', 'exxon appealed', 'said', 'commonly added', 'another state', 'friday upheld', 'spokesman', 'mtbe', 'mtbe', 'spilled', 'found', 'claims', '236', 'gasoline', 'gasoline', 'gasoline', 'exxon', 'exxon', 'state', 'state', 'state', 'state', 'contaminated', 'added', 'friday', 'friday', 'yet', 'use', 'u', 'u', 'u', 'texas', 'sued', 'statement', 'response', 'remediation', 'refinery', 'refiners', 'receive', 'n', 'manchester', 'letting', 'law', 'irving', 'history', 'hear', 'health', 'headquartered', 'h', 'favor', 'fault', 'endanger', 'email', 'destroy', 'damages', 'compensation', 'compelled', 'company', 'citizens', 'case', 'case', 'according', '2014', '2003', '1990s']\n",
      "Keybert: ['hampshires lawsuit exxon', 'mtbe commonly added', 'reduce smog subsequent', 'additive fault local', 'new york city']\n",
      "Yake: ['Exxon Mobil Corp', 'Hampshire Supreme Court', 'Hampshires top court', 'Mobil Corp', 'clean air regulations', 'gasoline additive MTBE.The', 'local gas stations', 'Supreme Court ruling', 'Court ruling affirms', 'groundwater contamination linked', 'rejected Exxons claims', 'Hampshire Attorney General', 'Exxon Mobil', 'Reuters New Hampshires', 'contamination linked', 'Hampshire', 'Supreme Court', 'Hampshire Supreme', 'Hampshires top', 'MTBE contamination']\n"
     ]
    }
   ],
   "source": [
    "Keywords = {}\n",
    "Keywords[\"rake\"] = rake_keywords\n",
    "Keywords[\"keybert\"] = keybert_keywords\n",
    "Keywords[\"yake\"] = yake_keywords\n",
    "print(\"Rake: %s\" % Keywords[\"rake\"]) \n",
    "print(\"Keybert: %s\" % Keywords[\"keybert\"]) \n",
    "print(\"Yake: %s\" % Keywords[\"yake\"]) "
   ]
  },
  {
   "cell_type": "markdown",
   "metadata": {},
   "source": [
    "NLTK-VADER"
   ]
  },
  {
   "cell_type": "code",
   "execution_count": 15,
   "metadata": {},
   "outputs": [
    {
     "name": "stdout",
     "output_type": "stream",
     "text": [
      "['hampshires lawsuit exxon', 'mtbe commonly added', 'reduce smog subsequent', 'additive fault local', 'new york city']\n"
     ]
    }
   ],
   "source": [
    "print(keybert_keywords)"
   ]
  },
  {
   "cell_type": "code",
   "execution_count": 16,
   "metadata": {},
   "outputs": [
    {
     "name": "stdout",
     "output_type": "stream",
     "text": [
      "[[('hampshires', 0), ('lawsuit', 0), ('exxon', 0)], [('mtbe', 0), ('commonly', 0), ('added', 0)], [('reduce', 0), ('smog', 0), ('subsequent', 0)], [('additive', 0), ('fault', 0), ('local', 0)], [('new', 0), ('york', 0), ('city', 0)]]\n"
     ]
    }
   ],
   "source": [
    "import nltk\n",
    "from nltk.sentiment.vader import SentimentIntensityAnalyzer\n",
    "\n",
    "sid = SentimentIntensityAnalyzer()\n",
    "\n",
    "result = []\n",
    "for sentence in keybert_keywords:\n",
    "    s = sentence.split()\n",
    "    keyword_sen = []\n",
    "    for word in s:\n",
    "        if (sid.polarity_scores(word)['compound']) >= 0.5:\n",
    "            keyword_sen.append(tuple((word, 1)))\n",
    "        elif (sid.polarity_scores(word)['compound']) <= -0.5:\n",
    "            keyword_sen.append(tuple((word, -1)))\n",
    "        else:\n",
    "            keyword_sen.append(tuple((word, 0)))\n",
    "    result.append(keyword_sen)\n",
    "\n",
    "print(result)              "
   ]
  },
  {
   "cell_type": "markdown",
   "metadata": {},
   "source": [
    "Using TextBlob"
   ]
  },
  {
   "cell_type": "code",
   "execution_count": 17,
   "metadata": {},
   "outputs": [
    {
     "name": "stdout",
     "output_type": "stream",
     "text": [
      "[[('hampshires', 0), ('lawsuit', 0), ('exxon', 0)], [('mtbe', 0), ('commonly', 0), ('added', 0)], [('reduce', 0), ('smog', 0), ('subsequent', 0)], [('additive', 0), ('fault', 0), ('local', 0)], [('new', 0), ('york', 0), ('city', 0)]]\n"
     ]
    }
   ],
   "source": [
    "from textblob import TextBlob\n",
    "\n",
    "result = []\n",
    "for sentence in keybert_keywords:\n",
    "    s = sentence.split()\n",
    "    keyword_sen = []\n",
    "    for word in s:\n",
    "        testimonial = TextBlob(word)\n",
    "        if testimonial.sentiment.polarity >= 0.5:\n",
    "            keyword_sen.append(tuple((word, 1)))\n",
    "        elif testimonial.sentiment.polarity <= -0.5:\n",
    "            keyword_sen.append(tuple((word, -1)))\n",
    "        else:\n",
    "            keyword_sen.append(tuple((word, 0)))\n",
    "    result.append(keyword_sen)\n",
    "print(result)\n"
   ]
  },
  {
   "cell_type": "markdown",
   "metadata": {},
   "source": [
    "Using dictionary"
   ]
  },
  {
   "cell_type": "code",
   "execution_count": 18,
   "metadata": {},
   "outputs": [],
   "source": [
    "def compare_words(keyword_list):\n",
    "    result = []\n",
    "    for sentence in keyword_list:\n",
    "        words = sentence.split()\n",
    "        keyword_sen = []\n",
    "        for word in words:\n",
    "            if word in positive_wds:\n",
    "                keyword_sen.append(tuple((word, 1)))\n",
    "            elif word in negative_wds:\n",
    "                keyword_sen.append(tuple((word, -1)))\n",
    "            else:\n",
    "                keyword_sen.append(tuple((word, 0)))\n",
    "        result.append(keyword_sen)\n",
    "    return result"
   ]
  },
  {
   "cell_type": "code",
   "execution_count": 19,
   "metadata": {},
   "outputs": [
    {
     "name": "stdout",
     "output_type": "stream",
     "text": [
      "[[('hampshires', 0), ('lawsuit', 0), ('exxon', 0)], [('mtbe', 0), ('commonly', 0), ('added', 0)], [('reduce', 0), ('smog', 0), ('subsequent', 0)], [('additive', 0), ('fault', -1), ('local', 0)], [('new', 0), ('york', 0), ('city', 0)]]\n"
     ]
    }
   ],
   "source": [
    "keybert_sen = compare_words(keybert_keywords) #keybert\n",
    "\n",
    "print(keybert_sen)"
   ]
  },
  {
   "cell_type": "code",
   "execution_count": 23,
   "metadata": {},
   "outputs": [],
   "source": [
    "# !pip install spacy\n",
    "# !python -m spacy download en_core_web_sm"
   ]
  },
  {
   "cell_type": "code",
   "execution_count": 24,
   "metadata": {},
   "outputs": [
    {
     "name": "stderr",
     "output_type": "stream",
     "text": [
      "C:\\Users\\Rolando\\AppData\\Roaming\\Python\\Python37\\site-packages\\ipykernel_launcher.py:10: UserWarning: [W007] The model you're using has no word vectors loaded, so the result of the Doc.similarity method will be based on the tagger, parser and NER, which may not give useful similarity judgements. This may happen if you're using one of the small models, e.g. `en_core_web_sm`, which don't ship with word vectors and only use context-sensitive tensors. You can always add your own word vectors, or use one of the larger models instead if available.\n",
      "  # Remove the CWD from sys.path while we load stuff.\n",
      "C:\\Users\\Rolando\\AppData\\Roaming\\Python\\Python37\\site-packages\\ipykernel_launcher.py:12: UserWarning: [W007] The model you're using has no word vectors loaded, so the result of the Doc.similarity method will be based on the tagger, parser and NER, which may not give useful similarity judgements. This may happen if you're using one of the small models, e.g. `en_core_web_sm`, which don't ship with word vectors and only use context-sensitive tensors. You can always add your own word vectors, or use one of the larger models instead if available.\n",
      "  if sys.path[0] == \"\":\n",
      "C:\\Users\\Rolando\\AppData\\Roaming\\Python\\Python37\\site-packages\\ipykernel_launcher.py:14: UserWarning: [W007] The model you're using has no word vectors loaded, so the result of the Doc.similarity method will be based on the tagger, parser and NER, which may not give useful similarity judgements. This may happen if you're using one of the small models, e.g. `en_core_web_sm`, which don't ship with word vectors and only use context-sensitive tensors. You can always add your own word vectors, or use one of the larger models instead if available.\n",
      "  \n"
     ]
    },
    {
     "name": "stdout",
     "output_type": "stream",
     "text": [
      "['new hampshire attorney general joseph foster said', 'new hampshire supreme court ruling affirms', 'reuters new hampshires top court', 'new hampshire officials', 'new york city', 'local gas stations', 'clean air regulations', 'rejected exxons claims', 'exxon mobil corp', 'groundwater contamination linked', 'new hampshire', 'supreme court', 'gasoline additive mtbe', 'contamination linked', 'mtbe contamination', 'storage facilities', 'natural resources', 'legal settlements', 'mtbe commonly added', 'reduce smog subsequent']\n"
     ]
    }
   ],
   "source": [
    "import spacy\n",
    "nlp = spacy.load('en_core_web_sm')\n",
    "FinalKeys = []\n",
    "for keybert in Keywords[\"keybert\"]:\n",
    "    word1 = nlp(keybert)\n",
    "    for rake in Keywords[\"rake\"]:\n",
    "        word2 = nlp(rake)\n",
    "        for yake in Keywords[\"yake\"]:\n",
    "            word3 = nlp(yake)\n",
    "            if word3.similarity(word1) > 0.7 and (not(keybert in FinalKeys)):\n",
    "                FinalKeys.append(keybert)\n",
    "            if word3.similarity(word2) > 0.7 and not(rake in FinalKeys):\n",
    "                FinalKeys.append(rake)\n",
    "            if word2.similarity(word1) > 0.7 and not(keybert in FinalKeys):\n",
    "                FinalKeys.append(keybert)\n",
    "print(FinalKeys)"
   ]
  },
  {
   "cell_type": "markdown",
   "metadata": {},
   "source": [
    "PREPROCESSING"
   ]
  }
 ],
 "metadata": {
  "kernelspec": {
   "display_name": "Python 3.7.9 64-bit",
   "language": "python",
   "name": "python3"
  },
  "language_info": {
   "codemirror_mode": {
    "name": "ipython",
    "version": 3
   },
   "file_extension": ".py",
   "mimetype": "text/x-python",
   "name": "python",
   "nbconvert_exporter": "python",
   "pygments_lexer": "ipython3",
   "version": "3.7.9"
  },
  "orig_nbformat": 4,
  "vscode": {
   "interpreter": {
    "hash": "78523145c45833d40afbe49950902184139bffe318f4eab827c9aacbfef7acc1"
   }
  }
 },
 "nbformat": 4,
 "nbformat_minor": 2
}
