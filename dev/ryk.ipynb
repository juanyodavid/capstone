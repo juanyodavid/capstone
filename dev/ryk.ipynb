version https://git-lfs.github.com/spec/v1
oid sha256:d7a508e600d25610e13778b2620a7ef8f272abeee0057f6c69371006b6ccc5df
size 53184
