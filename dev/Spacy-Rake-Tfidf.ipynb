{
 "cells": [
  {
   "cell_type": "code",
   "execution_count": 35,
   "id": "494531e8",
   "metadata": {},
   "outputs": [],
   "source": [
    "import pandas as pd\n",
    "import numpy as np\n",
    "import pathlib as pl\n",
    "# library used for initial visualization\n",
    "# library used for initial visualization\n",
    "import sklearn\n",
    "import pathlib as pl"
   ]
  },
  {
   "cell_type": "code",
   "execution_count": 36,
   "id": "6d47fc1f",
   "metadata": {},
   "outputs": [],
   "source": [
    "path = 'C:/Users/Rolando/Downloads/financialphrases/all-data.csv'\n",
    "\n",
    "df = pd.read_csv(path, encoding = \"ISO-8859-1\", names = ['sentiment', 'sentence'])"
   ]
  },
  {
   "cell_type": "code",
   "execution_count": 37,
   "id": "ada23f6b",
   "metadata": {
    "scrolled": true
   },
   "outputs": [
    {
     "data": {
      "text/html": [
       "<div>\n",
       "<style scoped>\n",
       "    .dataframe tbody tr th:only-of-type {\n",
       "        vertical-align: middle;\n",
       "    }\n",
       "\n",
       "    .dataframe tbody tr th {\n",
       "        vertical-align: top;\n",
       "    }\n",
       "\n",
       "    .dataframe thead th {\n",
       "        text-align: right;\n",
       "    }\n",
       "</style>\n",
       "<table border=\"1\" class=\"dataframe\">\n",
       "  <thead>\n",
       "    <tr style=\"text-align: right;\">\n",
       "      <th></th>\n",
       "      <th>sentiment</th>\n",
       "      <th>sentence</th>\n",
       "    </tr>\n",
       "  </thead>\n",
       "  <tbody>\n",
       "    <tr>\n",
       "      <th>0</th>\n",
       "      <td>neutral</td>\n",
       "      <td>According to Gran , the company has no plans t...</td>\n",
       "    </tr>\n",
       "    <tr>\n",
       "      <th>1</th>\n",
       "      <td>neutral</td>\n",
       "      <td>Technopolis plans to develop in stages an area...</td>\n",
       "    </tr>\n",
       "    <tr>\n",
       "      <th>2</th>\n",
       "      <td>negative</td>\n",
       "      <td>The international electronic industry company ...</td>\n",
       "    </tr>\n",
       "    <tr>\n",
       "      <th>3</th>\n",
       "      <td>positive</td>\n",
       "      <td>With the new production plant the company woul...</td>\n",
       "    </tr>\n",
       "    <tr>\n",
       "      <th>4</th>\n",
       "      <td>positive</td>\n",
       "      <td>According to the company 's updated strategy f...</td>\n",
       "    </tr>\n",
       "    <tr>\n",
       "      <th>...</th>\n",
       "      <td>...</td>\n",
       "      <td>...</td>\n",
       "    </tr>\n",
       "    <tr>\n",
       "      <th>4841</th>\n",
       "      <td>negative</td>\n",
       "      <td>LONDON MarketWatch -- Share prices ended lower...</td>\n",
       "    </tr>\n",
       "    <tr>\n",
       "      <th>4842</th>\n",
       "      <td>neutral</td>\n",
       "      <td>Rinkuskiai 's beer sales fell by 6.5 per cent ...</td>\n",
       "    </tr>\n",
       "    <tr>\n",
       "      <th>4843</th>\n",
       "      <td>negative</td>\n",
       "      <td>Operating profit fell to EUR 35.4 mn from EUR ...</td>\n",
       "    </tr>\n",
       "    <tr>\n",
       "      <th>4844</th>\n",
       "      <td>negative</td>\n",
       "      <td>Net sales of the Paper segment decreased to EU...</td>\n",
       "    </tr>\n",
       "    <tr>\n",
       "      <th>4845</th>\n",
       "      <td>negative</td>\n",
       "      <td>Sales in Finland decreased by 10.5 % in Januar...</td>\n",
       "    </tr>\n",
       "  </tbody>\n",
       "</table>\n",
       "<p>4846 rows × 2 columns</p>\n",
       "</div>"
      ],
      "text/plain": [
       "     sentiment                                           sentence\n",
       "0      neutral  According to Gran , the company has no plans t...\n",
       "1      neutral  Technopolis plans to develop in stages an area...\n",
       "2     negative  The international electronic industry company ...\n",
       "3     positive  With the new production plant the company woul...\n",
       "4     positive  According to the company 's updated strategy f...\n",
       "...        ...                                                ...\n",
       "4841  negative  LONDON MarketWatch -- Share prices ended lower...\n",
       "4842   neutral  Rinkuskiai 's beer sales fell by 6.5 per cent ...\n",
       "4843  negative  Operating profit fell to EUR 35.4 mn from EUR ...\n",
       "4844  negative  Net sales of the Paper segment decreased to EU...\n",
       "4845  negative  Sales in Finland decreased by 10.5 % in Januar...\n",
       "\n",
       "[4846 rows x 2 columns]"
      ]
     },
     "execution_count": 37,
     "metadata": {},
     "output_type": "execute_result"
    }
   ],
   "source": [
    "df"
   ]
  },
  {
   "cell_type": "code",
   "execution_count": 38,
   "id": "b233eb65",
   "metadata": {
    "scrolled": true
   },
   "outputs": [
    {
     "data": {
      "text/plain": [
       "0       According to Gran , the company has no plans t...\n",
       "1       Technopolis plans to develop in stages an area...\n",
       "2       The international electronic industry company ...\n",
       "3       With the new production plant the company woul...\n",
       "4       According to the company 's updated strategy f...\n",
       "                              ...                        \n",
       "4841    LONDON MarketWatch -- Share prices ended lower...\n",
       "4842    Rinkuskiai 's beer sales fell by 6.5 per cent ...\n",
       "4843    Operating profit fell to EUR 35.4 mn from EUR ...\n",
       "4844    Net sales of the Paper segment decreased to EU...\n",
       "4845    Sales in Finland decreased by 10.5 % in Januar...\n",
       "Name: sentence, Length: 4846, dtype: object"
      ]
     },
     "execution_count": 38,
     "metadata": {},
     "output_type": "execute_result"
    }
   ],
   "source": [
    "df['sentence']"
   ]
  },
  {
   "cell_type": "code",
   "execution_count": 39,
   "id": "d642c185",
   "metadata": {},
   "outputs": [],
   "source": [
    "# path = 'C:/Users/Rolando/Downloads/newsTitles/SEntFiN-v1.1.csv'\n",
    "\n",
    "# df = pd.read_csv(path, encoding = \"ISO-8859-1\")"
   ]
  },
  {
   "cell_type": "code",
   "execution_count": 40,
   "id": "6afa3b5c",
   "metadata": {},
   "outputs": [],
   "source": [
    "# df"
   ]
  },
  {
   "cell_type": "code",
   "execution_count": 41,
   "id": "101868f2",
   "metadata": {},
   "outputs": [],
   "source": [
    "# path = 'C:/Users/Rolando/Downloads/newsTitles2/data.csv'\n",
    "\n",
    "# df = pd.read_csv(path, encoding = \"ISO-8859-1\")"
   ]
  },
  {
   "cell_type": "code",
   "execution_count": 42,
   "id": "93d8a2de",
   "metadata": {},
   "outputs": [],
   "source": [
    "# df"
   ]
  },
  {
   "cell_type": "code",
   "execution_count": 43,
   "id": "801583fe",
   "metadata": {},
   "outputs": [],
   "source": [
    "# !pip install -U spacy"
   ]
  },
  {
   "cell_type": "code",
   "execution_count": 71,
   "id": "5450af79",
   "metadata": {},
   "outputs": [],
   "source": [
    "text = df.sample(1)['sentence'].iloc[0]"
   ]
  },
  {
   "cell_type": "markdown",
   "id": "def42574",
   "metadata": {},
   "source": [
    "SPACY"
   ]
  },
  {
   "cell_type": "code",
   "execution_count": 72,
   "id": "de99d732",
   "metadata": {
    "scrolled": true
   },
   "outputs": [
    {
     "name": "stdout",
     "output_type": "stream",
     "text": [
      "(some EUR 5 million, USD 6.5 m, annual)\n"
     ]
    }
   ],
   "source": [
    "import spacy\n",
    "\n",
    "nlp = spacy.load(\"en_core_web_md\")\n",
    "doc = nlp(text)\n",
    "print(doc.ents)"
   ]
  },
  {
   "cell_type": "markdown",
   "id": "483f23c3",
   "metadata": {},
   "source": [
    "RAKE NLTK"
   ]
  },
  {
   "cell_type": "code",
   "execution_count": 73,
   "id": "dc2dfb70",
   "metadata": {
    "scrolled": true
   },
   "outputs": [
    {
     "name": "stdout",
     "output_type": "stream",
     "text": [
      "['eur 5 million', 'usd 6', 'cost savings', 'annual basis', '5', 'plan', 'generate', 'estimated']\n"
     ]
    }
   ],
   "source": [
    "from rake_nltk import Rake\n",
    "rake_nltk_var = Rake()\n",
    "\n",
    "rake_nltk_var.extract_keywords_from_text(text)\n",
    "keyword_extracted = rake_nltk_var.get_ranked_phrases()\n",
    "print(keyword_extracted)"
   ]
  },
  {
   "cell_type": "markdown",
   "id": "f2646950",
   "metadata": {},
   "source": [
    "TFIDF"
   ]
  },
  {
   "cell_type": "code",
   "execution_count": 74,
   "id": "d043ef4a",
   "metadata": {},
   "outputs": [],
   "source": [
    "import pandas as pd\n",
    "import numpy as np\n",
    "from sklearn.feature_extraction.text import TfidfVectorizer\n",
    "from nltk.corpus import stopwords as sw\n",
    "\n",
    "def train_keyword(data): #SE PUEDE EXTENDER EL DICCIONARIO\n",
    "#     # use stopword to filter words    \n",
    "#     stop = sw.stopwords_key()\n",
    "#     stop = stop.splitlines()\n",
    "#     stop = str(stop)\n",
    "#     stop = stop.translate(str.maketrans('', '', string.punctuation))\n",
    "    stopwords_list = list(sw.words('english'))\n",
    "#     stopwords_list.extend(stop.split())\n",
    "    \n",
    "    # vectorizing the words use tf-idf\n",
    "    vectorizer = TfidfVectorizer(analyzer='word', stop_words=set(stopwords_list), use_idf=True)\n",
    "    vector = vectorizer.fit_transform(data)\n",
    "    \n",
    "    # store to dataframe    \n",
    "    df = pd.DataFrame(vector[0].T.todense(), index=vectorizer.get_feature_names(), columns=[\"vector\"])\n",
    "    df = df.sort_values('vector', ascending=False)\n",
    "    df.reset_index(inplace=True)\n",
    "    df = df.rename(columns = {'index':'keywords'})\n",
    "    df = df[df['vector'] != 0]\n",
    "\n",
    "    return df"
   ]
  },
  {
   "cell_type": "code",
   "execution_count": 75,
   "id": "fb4c6258",
   "metadata": {},
   "outputs": [
    {
     "name": "stdout",
     "output_type": "stream",
     "text": [
      "    keywords    vector\n",
      "0     annual  0.316228\n",
      "1      basis  0.316228\n",
      "2       cost  0.316228\n",
      "3  estimated  0.316228\n",
      "4        eur  0.316228\n",
      "5   generate  0.316228\n",
      "6    million  0.316228\n",
      "7       plan  0.316228\n",
      "8    savings  0.316228\n",
      "9        usd  0.316228\n"
     ]
    }
   ],
   "source": [
    "raw_data = [text]\n",
    "keywords = train_keyword(raw_data)\n",
    "# print top 10 keywords\n",
    "print(keywords.head(10))"
   ]
  },
  {
   "cell_type": "markdown",
   "id": "6520b931",
   "metadata": {},
   "source": [
    "KEYBERT"
   ]
  },
  {
   "cell_type": "code",
   "execution_count": 76,
   "id": "01aff56d",
   "metadata": {},
   "outputs": [],
   "source": [
    "# # Install the libraries\n",
    "# !pip install keybert\n",
    "# !pip install sentence-transformers"
   ]
  },
  {
   "cell_type": "code",
   "execution_count": 77,
   "id": "58444dd9",
   "metadata": {},
   "outputs": [],
   "source": [
    "# Import them\n",
    "from keybert import KeyBERT\n",
    "from sentence_transformers import SentenceTransformer\n",
    "\n",
    "# To show the execution times\n",
    "# !pip install ipython-autotime\n",
    "# %load_ext autotime"
   ]
  },
  {
   "cell_type": "code",
   "execution_count": 78,
   "id": "d8dd3dc7",
   "metadata": {},
   "outputs": [],
   "source": [
    "sent_trans = SentenceTransformer('sentence-transformers/all-mpnet-base-v2')\n",
    "keyBERT_model = KeyBERT(model = sent_trans)"
   ]
  },
  {
   "cell_type": "code",
   "execution_count": 85,
   "id": "2c9e7ce5",
   "metadata": {},
   "outputs": [],
   "source": [
    "def extract_terms(document, n_gram_range = (3,3), \n",
    "                  top_N=5, model=keyBERT_model, diversity_threshold = 0.7):\n",
    "\n",
    "  keywords = model.extract_keywords(document, stop_words='english', \n",
    "                                    keyphrase_ngram_range=(1, 3),\n",
    "                                    use_mmr=True, \n",
    "                                    diversity = diversity_threshold,\n",
    "                                    top_n = top_N)\n",
    "  \n",
    "  return sorted(keywords, key=lambda tup:(-tup[1], tup[0]))"
   ]
  },
  {
   "cell_type": "code",
   "execution_count": 86,
   "id": "ef3ced5e",
   "metadata": {},
   "outputs": [
    {
     "name": "stdout",
     "output_type": "stream",
     "text": [
      "Text: The plan is estimated to generate some EUR 5 million ( USD 6.5 m ) in cost savings on an annual basis ..\n",
      "Length: 23\n",
      "('cost savings annual', 0.5425)\n",
      "('generate eur million', 0.3755)\n",
      "('plan', 0.3277)\n",
      "('usd cost', 0.2052)\n",
      "('basis', 0.0321)\n"
     ]
    }
   ],
   "source": [
    "print(f'Text: {text}.\\nLength: {len(text.split())}')\n",
    "best_terms = extract_terms(text)\n",
    "\n",
    "for terms_and_score in best_terms:\n",
    "  print(terms_and_score)"
   ]
  },
  {
   "cell_type": "code",
   "execution_count": null,
   "id": "7cfc9f65",
   "metadata": {},
   "outputs": [],
   "source": []
  }
 ],
 "metadata": {
  "kernelspec": {
   "display_name": "Python 3.9.7 ('base')",
   "language": "python",
   "name": "python3"
  },
  "language_info": {
   "codemirror_mode": {
    "name": "ipython",
    "version": 3
   },
   "file_extension": ".py",
   "mimetype": "text/x-python",
   "name": "python",
   "nbconvert_exporter": "python",
   "pygments_lexer": "ipython3",
   "version": "3.9.7"
  },
  "vscode": {
   "interpreter": {
    "hash": "08ba90eee69f3a77939d4b93a599d928de56855a4df77fff9ebc3dca0b57665a"
   }
  }
 },
 "nbformat": 4,
 "nbformat_minor": 5
}
